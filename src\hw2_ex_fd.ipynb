{
  "nbformat": 4,
  "nbformat_minor": 0,
  "metadata": {
    "colab": {
      "name": "hw2_ex_fd.ipynb",
      "version": "0.3.2",
      "provenance": [],
      "include_colab_link": true
    },
    "kernelspec": {
      "display_name": "Python 3",
      "language": "python",
      "name": "python3"
    }
  },
  "cells": [
    {
      "cell_type": "markdown",
      "metadata": {
        "id": "view-in-github",
        "colab_type": "text"
      },
      "source": [
        "<a href=\"https://colab.research.google.com/github/hechen2020/19ma573HuixinChen/blob/master/src%5Chw2_ex_fd.ipynb\" target=\"_parent\"><img src=\"https://colab.research.google.com/assets/colab-badge.svg\" alt=\"Open In Colab\"/></a>"
      ]
    },
    {
      "metadata": {
        "id": "4u81mPX-4XsG",
        "colab_type": "text"
      },
      "cell_type": "markdown",
      "source": [
        "# Ex.\n",
        "\n",
        "Suppose that we wish to approximate the first derivative $u'(x)$ of a very smooth function with an error of only $O(h)^4$, where $h$ is the step size. Which difference approximation could we use?"
      ]
    },
    {
      "metadata": {
        "id": "7HLG8PuEDOEU",
        "colab_type": "text"
      },
      "cell_type": "markdown",
      "source": [
        "#Ans.\n",
        "\n",
        "We can still use the finite difference approach, with more terms to reduce error. The following central finite difference approximation for the first derivative $u'(x)$ has an error of only $O(h)^4$:\n",
        "\n",
        "$$u'(x)\\approx{\\frac{\\frac{1}{12}u(x-2h)-\\frac{2}{3}u(x-h)+\\frac{2}{3}u(x+h)-\\frac{1}{12}u(x+2h)}{h}}$$\n",
        "\n",
        "The next section shows how it produces error of $O(h)^4$"
      ]
    },
    {
      "metadata": {
        "id": "lXgZGVe_FNvb",
        "colab_type": "text"
      },
      "cell_type": "markdown",
      "source": [
        "##Need to show:\n",
        "\n",
        "$$|\\frac{\\frac{1}{12}u(x-2h)-\\frac{2}{3}u(x-h)+\\frac{2}{3}u(x+h)-\\frac{1}{12}u(x+2h)}{h}-u'(x)|=O(h)^4$$\n",
        "\n",
        "##Pf.\n",
        "\n",
        "Using Taylor series expansion, we have\n",
        "$$u(x-2h)=u(x)-2h(u'(x))+4h^2(\\frac{u''(x)}{2})-8h^3(\\frac{u^{(3)}(x)}{6})+16h^4(\\frac{u^{(4)}(x)}{24})-O(h^5)$$\n",
        "$$u(x-h)=u(x)-h(u'(x))+h^2(\\frac{u''(x)}{2})-h^3(\\frac{u^{(3)}(x)}{6})+h^4(\\frac{u^{(4)}(x)}{24})-O(h^5)$$\n",
        "$$u(x+h)=u(x)+h(u'(x))+h^2(\\frac{u''(x)}{2})+h^3(\\frac{u^{(3)}(x)}{6})+h^4(\\frac{u^{(4)}(x)}{24})+O(h^5)$$\n",
        "$$u(x+2h)=u(x)+2h(u'(x))+4h^2(\\frac{u''(x)}{2})+8h^3(\\frac{u^{(3)}(x)}{6})+16h^4(\\frac{u^{(4)}(x)}{24})+O(h^5)$$\n",
        "\n",
        "Then the numerator of the finite difference approximation becomes\n",
        "\n",
        "$$\\frac{1}{12}u(x-2h)-\\frac{2}{3}u(x-h)+\\frac{2}{3}u(x+h)-\\frac{1}{12}u(x+2h)$$\n",
        "$$\n",
        "=\\frac{1}{12}[u(x)-2h(u'(x))+4h^2(\\frac{u''(x)}{2})-8h^3(\\frac{u^{(3)}(x)}{6})+16h^4(\\frac{u^{(4)}(x)}{24})-O(h^5)]$$\n",
        "$$\n",
        "-\\frac{2}{3}[u(x)-h(u'(x))+h^2(\\frac{u''(x)}{2})-h^3(\\frac{u^{(3)}(x)}{6})+h^4(\\frac{u^{(4)}(x)}{24})-O(h^5)]$$\n",
        "$$\n",
        "+\\frac{2}{3}[u(x)+h(u'(x))+h^2(\\frac{u''(x)}{2})+h^3(\\frac{u^{(3)}(x)}{6})+h^4(\\frac{u^{(4)}(x)}{24})+O(h^5)]$$\n",
        "$$\n",
        "-\\frac{1}{12}[u(x)+2h(u'(x))+4h^2(\\frac{u''(x)}{2})+8h^3(\\frac{u^{(3)}(x)}{6})+16h^4(\\frac{u^{(4)}(x)}{24})+O(h^5)]$$\n",
        "$$\n",
        "=h(u'(x))+O(h^5)$$\n",
        "\n",
        "Thus the left hand side of the original equation becomes\n",
        "\n",
        "$$LHS=|\\frac{h(u'(x))+O(h^5)-h(u'(x))}{h}|$$\n",
        "$$=|\\frac{O(h^5)}{h}|=O(h^4)$$\n",
        "\n",
        "end"
      ]
    },
    {
      "metadata": {
        "id": "myhzwxnR4XsI",
        "colab_type": "code",
        "colab": {}
      },
      "cell_type": "code",
      "source": [
        ""
      ],
      "execution_count": 0,
      "outputs": []
    }
  ]
}