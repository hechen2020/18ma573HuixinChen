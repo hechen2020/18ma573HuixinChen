{
  "nbformat": 4,
  "nbformat_minor": 0,
  "metadata": {
    "colab": {
      "name": "hw_char_fun_normal.ipynb",
      "version": "0.3.2",
      "provenance": [],
      "collapsed_sections": [],
      "include_colab_link": true
    },
    "kernelspec": {
      "name": "python3",
      "display_name": "Python 3"
    }
  },
  "cells": [
    {
      "cell_type": "markdown",
      "metadata": {
        "id": "view-in-github",
        "colab_type": "text"
      },
      "source": [
        "<a href=\"https://colab.research.google.com/github/hechen2020/19ma573HuixinChen/blob/master/src/hw_char_fun_normal.ipynb\" target=\"_parent\"><img src=\"https://colab.research.google.com/assets/colab-badge.svg\" alt=\"Open In Colab\"/></a>"
      ]
    },
    {
      "metadata": {
        "id": "pTu_iD78R7fc",
        "colab_type": "text"
      },
      "cell_type": "markdown",
      "source": [
        "###Prove the characteristic function of $Y\\sim\\mathcal{N}(\\mu, \\sigma^2)$ is\n",
        "\n",
        "$$\\phi(u)=e^{iu\\mu-\\frac{1}{2}u^2\\sigma^2}$$\n",
        "\n",
        "###Proof\n",
        "\n",
        "Let random variable $Z$ be standard normal variable, i.e. $Z\\sim\\mathcal{N}(0,1)$. Then the characteristic function of $Z$ is\n",
        "\n",
        "$$\\phi_Z(u)=\\mathbb{E}[e^{iuZ}]=\\mathbb{E}[cos(uZ)]+i\\mathbb{E}[sin(uZ)]=\\int_{-\\infty}^{\\infty}{cos(uz)f_Z(z)}dz+i\\int_{-\\infty}^\\infty{sin(uz)f_Z(z)}dz$$\n",
        "\n",
        "we know that the pdf of $Z$, $f_Z(z)$ is an even function, and $sin(uz)$ is an odd function, which means in the second integral, the product $sin(uz)f_Z(z)$ is an odd function, and thus the integration evaluate to 0. Thus\n",
        "\n",
        "$$\\phi_Z(u)=\\int_{-\\infty}^{\\infty}{cos(uz)f_Z(z)}dz+0=\\int_{-\\infty}^{\\infty}{cos(uz)f_Z(z)}dz$$\n",
        "\n",
        "We can take the derivative of the characteristic function with respect to $u$ and get\n",
        "\n",
        "$$\\frac{d\\phi_Z(u)}{du}=\\frac{d}{du}\\mathbb{E}[e^{iuZ}]=\\mathbb{E}[\\frac{d}{du}e^{iuZ}]=\\mathbb{E}[iZe^{iuZ}]=i(\\mathbb{E}[Ze^{iuZ}])=i(\\mathbb{E}[Zcos(uZ)]+i\\mathbb{E}[Zsin(uZ)])=i\\mathbb{E}[Zcos(uZ)]-\\mathbb{E}[Zsin(uZ)]$$\n",
        "\n",
        "which using the definition of expectation becomes\n",
        "\n",
        "$$\\frac{d\\phi_Z(u)}{du}=i\\int_{-\\infty}^\\infty{zcos(uz)f_Z(z)}dz-\\int_{-\\infty}^\\infty{zsin(uz)f_Z(z)}dz$$\n",
        "\n",
        "where in the first integral, $zcos(uz)$ is odd (since $z$ is odd and $cos(uz)$ is even) and $f_Z(z)$ is even, so $zcos(uz)f_Z(z)$ is odd and the integral evaluates to 0. Thus\n",
        "\n",
        "$$\\frac{d\\phi_Z(u)}{du}=-\\int_{-\\infty}^\\infty{zsin(uz)f_Z(z)}dz=-\\int_{-\\infty}^\\infty{zsin(uz)\\frac{1}{\\sqrt{2\\pi}}e^{-1/2z^2}}dz$$\n",
        "\n",
        "note that \n",
        "\n",
        "$$\\frac{d}{dz}\\frac{1}{\\sqrt{2\\pi}}e^{-1/2z^2}=-z\\frac{1}{\\sqrt{2\\pi}}e^{-1/2z^2}$$\n",
        "\n",
        "so the integral can be written as\n",
        "\n",
        "$$\\frac{d\\phi_Z(u)}{du}=\\int_{-\\infty}^\\infty{sin(uz)\\frac{d}{dz}[\\frac{1}{\\sqrt{2\\pi}}e^{-1/2z^2}]}dz=\\int_{-\\infty}^\\infty{sin(uz)\\frac{d}{dz}[f_Z(z)]}dz$$\n",
        "\n",
        "using integration by part, we obtain\n",
        "\n",
        "$$\\frac{d\\phi_Z(u)}{du}=sin(uz)f_Z(z)|_{-\\infty}^\\infty-\\int_{-\\infty}^\\infty{ucos(uz)f_Z(z)}dz$$\n",
        "\n",
        "where $f_Z(z)$ evaluated at %-\\infty% and %\\infty% are both zero, so the equation becomes\n",
        "\n",
        "$$\\frac{d\\phi_Z(u)}{du}=-u\\int_{-\\infty}^\\infty{cos(uz)f_Z(z)}dz$$\n",
        "\n",
        "Recall $\\phi_Z(u)=\\int_{-\\infty}^{\\infty}{cos(uz)f_Z(z)}dz$. Thus we have the relation\n",
        "\n",
        "$$\\frac{d\\phi_Z(u)}{du}=-u\\phi_Z(u)$$\n",
        "\n",
        "so the solution to the ordinary differential equation is\n",
        "\n",
        "$$\\phi_Z(u)=e^{-\\frac{1}{2}u^2}$$\n",
        "\n",
        "(note $\\phi_Z(0)=\\mathbb{E}[e^0]=1$)\n",
        "\n",
        "From here, for the characterstic function of random variable $Y\\sim\\mathcal{N}(\\mu, \\sigma^2)$, we have\n",
        "\n",
        "$$\\phi_Y(u)=\\mathbb{E}[e^{iuY}]=\\mathbb{E}[e^{iu(\\mu+\\sigma Z)}]=e^{iu\\mu}\\mathbb{E}[e^{iu\\sigma Z}]=e^{iu\\mu}\\phi_Z(\\sigma u)=e^{iu\\mu}e^{-\\frac{1}{2}\\sigma^2u^2}=e^{iu\\mu-\\frac{1}{2}\\sigma^2u^2}$$\n",
        "\n",
        "end"
      ]
    },
    {
      "metadata": {
        "id": "MW6teJeJxNiV",
        "colab_type": "code",
        "colab": {}
      },
      "cell_type": "code",
      "source": [
        ""
      ],
      "execution_count": 0,
      "outputs": []
    }
  ]
}