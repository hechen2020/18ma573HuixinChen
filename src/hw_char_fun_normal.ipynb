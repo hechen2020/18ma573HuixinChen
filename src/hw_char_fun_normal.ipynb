{
  "nbformat": 4,
  "nbformat_minor": 0,
  "metadata": {
    "colab": {
      "name": "hw_char_fun_normal.ipynb",
      "version": "0.3.2",
      "provenance": [],
      "collapsed_sections": [],
      "include_colab_link": true
    },
    "kernelspec": {
      "name": "python3",
      "display_name": "Python 3"
    }
  },
  "cells": [
    {
      "cell_type": "markdown",
      "metadata": {
        "id": "view-in-github",
        "colab_type": "text"
      },
      "source": [
        "<a href=\"https://colab.research.google.com/github/hechen2020/19ma573HuixinChen/blob/master/src/hw_char_fun_normal.ipynb\" target=\"_parent\"><img src=\"https://colab.research.google.com/assets/colab-badge.svg\" alt=\"Open In Colab\"/></a>"
      ]
    },
    {
      "metadata": {
        "id": "pTu_iD78R7fc",
        "colab_type": "text"
      },
      "cell_type": "markdown",
      "source": [
        "###Prove the characteristic function of $Y\\sim\\mathcal{N}(\\mu, \\sigma^2)$ is\n",
        "\n",
        "$$\\phi(u)=e^{iu\\mu-\\frac{1}{2}u^2\\sigma^2}$$\n",
        "\n",
        "###Proof\n",
        "\n",
        "we had for $W_t\\sim\\mathcal{N}(0,\\sigma^2=t)$, the characteristic function is\n",
        "\n",
        "$$\\phi_t(u)=e^{-\\frac{t}{2}u^2}=e^{-\\frac{\\sigma^2}{2}u^2}$$\n",
        "\n",
        "From there, for the characterstic function of random variable $Y\\sim\\mathcal{N}(\\mu, \\sigma^2)$, we have\n",
        "\n",
        "$$\\phi_Y(u)=\\mathbb{E}[e^{iuY}]=\\mathbb{E}[e^{iu(\\mu+W_t)}]=e^{iu\\mu}\\mathbb{E}[e^{iuW_t}]=e^{iu\\mu}\\phi_t(u)=e^{iu\\mu}e^{-\\frac{\\sigma^2}{2}u^2}=e^{iu\\mu-\\frac{1}{2}\\sigma^2u^2}$$\n",
        "\n",
        "end"
      ]
    },
    {
      "metadata": {
        "id": "MW6teJeJxNiV",
        "colab_type": "code",
        "colab": {}
      },
      "cell_type": "code",
      "source": [
        ""
      ],
      "execution_count": 0,
      "outputs": []
    }
  ]
}