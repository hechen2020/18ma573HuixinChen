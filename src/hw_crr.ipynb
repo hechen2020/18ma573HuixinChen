{
  "nbformat": 4,
  "nbformat_minor": 0,
  "metadata": {
    "colab": {
      "name": "hw_crr.ipynb",
      "version": "0.3.2",
      "provenance": [],
      "include_colab_link": true
    },
    "kernelspec": {
      "name": "python3",
      "display_name": "Python 3"
    }
  },
  "cells": [
    {
      "cell_type": "markdown",
      "metadata": {
        "id": "view-in-github",
        "colab_type": "text"
      },
      "source": [
        "<a href=\"https://colab.research.google.com/github/hechen2020/19ma573HuixinChen/blob/master/src/hw_crr.ipynb\" target=\"_parent\"><img src=\"https://colab.research.google.com/assets/colab-badge.svg\" alt=\"Open In Colab\"/></a>"
      ]
    },
    {
      "metadata": {
        "id": "Jk9FBvdQ5y_Z",
        "colab_type": "code",
        "colab": {
          "base_uri": "https://localhost:8080/",
          "height": 101
        },
        "outputId": "7e67a687-267d-4913-b5a1-5805ce3eb433"
      },
      "cell_type": "code",
      "source": [
        "'''======\n",
        "run once, then comment it off, and run again\n",
        "========'''\n",
        "!git clone https://github.com/hechen2020/19ma573HuixinChen.git"
      ],
      "execution_count": 1,
      "outputs": [
        {
          "output_type": "stream",
          "text": [
            "Cloning into '19ma573HuixinChen'...\n",
            "remote: Enumerating objects: 354, done.\u001b[K\n",
            "remote: Total 354 (delta 0), reused 0 (delta 0), pack-reused 354\u001b[K\n",
            "Receiving objects: 100% (354/354), 1.41 MiB | 3.67 MiB/s, done.\n",
            "Resolving deltas: 100% (122/122), done.\n"
          ],
          "name": "stdout"
        }
      ]
    },
    {
      "metadata": {
        "id": "S5fQEj856H55",
        "colab_type": "code",
        "colab": {
          "base_uri": "https://localhost:8080/",
          "height": 34
        },
        "outputId": "c3947595-f84c-4850-bb8a-4903388ee7d7"
      },
      "cell_type": "code",
      "source": [
        "cd ./19ma573HuixinChen/src/"
      ],
      "execution_count": 2,
      "outputs": [
        {
          "output_type": "stream",
          "text": [
            "/content/19ma573HuixinChen/src\n"
          ],
          "name": "stdout"
        }
      ]
    },
    {
      "metadata": {
        "id": "EGyoOyEo6KBW",
        "colab_type": "code",
        "colab": {}
      },
      "cell_type": "code",
      "source": [
        "from contract_v01 import VanillaOption\n",
        "from sde_1d_v01 import Gbm_1d"
      ],
      "execution_count": 0,
      "outputs": []
    },
    {
      "metadata": {
        "id": "CN44gv_U5vxp",
        "colab_type": "text"
      },
      "cell_type": "markdown",
      "source": [
        "**Compute BSM call value**"
      ]
    },
    {
      "metadata": {
        "id": "RXfSshLp5rru",
        "colab_type": "code",
        "colab": {}
      },
      "cell_type": "code",
      "source": [
        "#initial state\n",
        "gbm1 = Gbm_1d(\n",
        "    init_state = 100.,\n",
        "    drift_ratio = 0.05,\n",
        "    vol_ratio = .2\n",
        ")"
      ],
      "execution_count": 0,
      "outputs": []
    },
    {
      "metadata": {
        "id": "CTrt-SXQ6hPR",
        "colab_type": "code",
        "colab": {}
      },
      "cell_type": "code",
      "source": [
        "#call option\n",
        "option1 = VanillaOption(\n",
        "    otype = 1,\n",
        "    maturity = 1,\n",
        "    strike = 100\n",
        ")"
      ],
      "execution_count": 0,
      "outputs": []
    },
    {
      "metadata": {
        "id": "stp33pky69mp",
        "colab_type": "code",
        "colab": {
          "base_uri": "https://localhost:8080/",
          "height": 34
        },
        "outputId": "707a6bd8-0313-4419-f6c1-b8642ca97f42"
      },
      "cell_type": "code",
      "source": [
        "#option price\n",
        "price1 = gbm1.bsm_price(option1)\n",
        "print('The BSM call price is ' + str(price1))"
      ],
      "execution_count": 6,
      "outputs": [
        {
          "output_type": "stream",
          "text": [
            "The BSM call price is 10.450583572185565\n"
          ],
          "name": "stdout"
        }
      ]
    },
    {
      "metadata": {
        "id": "RGKgR1TT7SZk",
        "colab_type": "text"
      },
      "cell_type": "markdown",
      "source": [
        "**Compute value of CRR(N=2000)**"
      ]
    },
    {
      "metadata": {
        "id": "dABROYu78Zuu",
        "colab_type": "code",
        "colab": {}
      },
      "cell_type": "code",
      "source": [
        "import numpy as np\n",
        "import matplotlib.pyplot as plt"
      ],
      "execution_count": 0,
      "outputs": []
    },
    {
      "metadata": {
        "id": "-f8Nzpjl7PtG",
        "colab_type": "code",
        "colab": {}
      },
      "cell_type": "code",
      "source": [
        "def crr_fcn(gbm, option, N):\n",
        "  s0 = gbm.init_state\n",
        "  sigma = gbm.vol_ratio\n",
        "  K = option.strike\n",
        "  T = option.maturity\n",
        "  r = gbm.drift_ratio\n",
        "  dt = T/N #t step\n",
        "  dx = sigma*np.sqrt(dt)\n",
        "#  nt = N\n",
        "#  nx = N #need 2n+1 spaces for dx if dt takes N spaces\n",
        "  \n",
        "  u = np.exp(sigma*np.sqrt(dt))#stock going up increment\n",
        "  d = np.exp(-sigma*np.sqrt(dt))#stock going down increment\n",
        "  \n",
        "  p = (np.exp(r*dt)-d)/(u-d)#prob of stock going up\n",
        "  q = 1 - p#prob of stock going down\n",
        "  \n",
        "  s = np.zeros((N+1,N+1))#initialize stock matrix\n",
        "  s[0][0] = s0#initialize stock value\n",
        "  \n",
        "  #crr tree\n",
        "  for i in range(1,N+1):\n",
        "    s[i][0] = s[i-1][0]*u\n",
        "    for j in range(1,i+1):\n",
        "      s[i][j] = s[i-1][j-1]*d\n",
        "  \n",
        "  o = np.zeros((N+1,N+1))\n",
        "  #option value at final node\n",
        "  for j in range(N+1):\n",
        "    o[N][j] = max(0, s[N][j] - K)\n",
        "  \n",
        "  #find option price: discounting final node values with prob\n",
        "  for i in range(N-1,-1,-1):\n",
        "    for j in range(i+1):\n",
        "      o[i][j] = np.exp(-r*dt)*(p*o[i+1][j] + q*o[i+1][j+1])\n",
        "  \n",
        "  return s, o, o[0][0]"
      ],
      "execution_count": 0,
      "outputs": []
    },
    {
      "metadata": {
        "id": "goJVMaLe-OhQ",
        "colab_type": "code",
        "colab": {
          "base_uri": "https://localhost:8080/",
          "height": 50
        },
        "outputId": "cb32c281-9e19-441c-f436-29eb49bfdea7"
      },
      "cell_type": "code",
      "source": [
        "crr2000 = crr_fcn(gbm1, option1, 2000)\n",
        "#print(crr2000[0])\n",
        "#print(crr2000[1])\n",
        "#print(crr2000[2])\n",
        "crr_call = crr2000[2]\n",
        "print('The call price by CRR with N=2000 is ' + str(crr_call))\n",
        "\n",
        "err1 = np.abs(crr_call - price1)\n",
        "print('The error by CRR commpared to BSM is ' + str(err1))"
      ],
      "execution_count": 9,
      "outputs": [
        {
          "output_type": "stream",
          "text": [
            "The call price by CRR with N=2000 is 10.449583775457677\n",
            "The error by CRR commpared to BSM is 0.0009997967278874142\n"
          ],
          "name": "stdout"
        }
      ]
    },
    {
      "metadata": {
        "id": "VOF_O0sY7dpF",
        "colab_type": "text"
      },
      "cell_type": "markdown",
      "source": [
        "*Is it sufficiently close to BSM value?*\n",
        "\n",
        "By comparing the computations and finding the error we can conclude that the CRR value is sufficiently close to BSM value."
      ]
    },
    {
      "metadata": {
        "id": "Q-x1E8ffNZM9",
        "colab_type": "text"
      },
      "cell_type": "markdown",
      "source": [
        "**Demonstrate convergence of CRR**"
      ]
    },
    {
      "metadata": {
        "id": "Q3E6kiTqNT9k",
        "colab_type": "code",
        "colab": {
          "base_uri": "https://localhost:8080/",
          "height": 347
        },
        "outputId": "5ad49530-437f-4458-b94c-5a73f8b34c24"
      },
      "cell_type": "code",
      "source": [
        "karr = np.arange(0, 51, 1)\n",
        "#print(karr)\n",
        "crrarr = np.zeros(len(karr))\n",
        "for i in range(len(karr)):\n",
        "  crrarr[i] = np.array(crr_fcn(gbm1,option1, 10+20*karr[i])[2])\n",
        "#print(crrarr)\n",
        "plt.plot(karr, crrarr,)\n",
        "price = np.zeros(len(karr))\n",
        "for i in range(len(karr)):\n",
        "  price[i] = price1\n",
        "plt.plot(karr, price)\n",
        "plt.show()"
      ],
      "execution_count": 10,
      "outputs": [
        {
          "output_type": "display_data",
          "data": {
            "image/png": "[encoded data removed]",
            "text/plain": [
              "<Figure size 576x396 with 1 Axes>"
            ]
          },
          "metadata": {
            "tags": []
          }
        }
      ]
    },
    {
      "metadata": {
        "id": "g-BnXqGRkPQC",
        "colab_type": "text"
      },
      "cell_type": "markdown",
      "source": [
        "*CRR curve converging to BSM line?*\n",
        "\n",
        "From the graph we can observe the CRR curve converging to the BSM line"
      ]
    },
    {
      "metadata": {
        "id": "fENr0WVikgN9",
        "colab_type": "text"
      },
      "cell_type": "markdown",
      "source": [
        "**replace 20k with 25k**"
      ]
    },
    {
      "metadata": {
        "id": "19N9EOtCjJU3",
        "colab_type": "code",
        "colab": {
          "base_uri": "https://localhost:8080/",
          "height": 347
        },
        "outputId": "6a4679cf-6b1c-4b74-b885-494d457fb7ca"
      },
      "cell_type": "code",
      "source": [
        "crrarr2 = np.zeros(len(karr))\n",
        "for i in range(len(karr)):\n",
        "  crrarr2[i] = np.array(crr_fcn(gbm1,option1, 10+25*karr[i])[2])\n",
        "plt.plot(karr, crrarr2)\n",
        "plt.plot(karr, price)\n",
        "plt.show()"
      ],
      "execution_count": 11,
      "outputs": [
        {
          "output_type": "display_data",
          "data": {
            "image/png": "[encoded data removed]",
            "text/plain": [
              "<Figure size 576x396 with 1 Axes>"
            ]
          },
          "metadata": {
            "tags": []
          }
        }
      ]
    },
    {
      "metadata": {
        "id": "XddpLRW6lPs8",
        "colab_type": "text"
      },
      "cell_type": "markdown",
      "source": [
        "*is the new CRR curve converging to BSM in the same manner?*\n",
        "\n",
        "From the graph we can see that while with $N=10+25k$, the CRR method is converging to the BSM solution, the curve is not as 'smooth' as the other case, but oscillating above and below the curve"
      ]
    },
    {
      "metadata": {
        "id": "vRae0Itkkx4b",
        "colab_type": "code",
        "colab": {}
      },
      "cell_type": "code",
      "source": [
        ""
      ],
      "execution_count": 0,
      "outputs": []
    }
  ]
}