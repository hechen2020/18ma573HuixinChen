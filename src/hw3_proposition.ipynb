{
  "nbformat": 4,
  "nbformat_minor": 0,
  "metadata": {
    "colab": {
      "name": "hw3_proposition.ipynb",
      "version": "0.3.2",
      "provenance": [],
      "include_colab_link": true
    },
    "kernelspec": {
      "name": "python3",
      "display_name": "Python 3"
    }
  },
  "cells": [
    {
      "cell_type": "markdown",
      "metadata": {
        "id": "view-in-github",
        "colab_type": "text"
      },
      "source": [
        "<a href=\"https://colab.research.google.com/github/hechen2020/19ma573HuixinChen/blob/master/src/hw3_proposition.ipynb\" target=\"_parent\"><img src=\"https://colab.research.google.com/assets/colab-badge.svg\" alt=\"Open In Colab\"/></a>"
      ]
    },
    {
      "metadata": {
        "id": "rj19cX14jkHS",
        "colab_type": "text"
      },
      "cell_type": "markdown",
      "source": [
        "We have seen that FFD $\\delta_h f$ for the $f'(x)$ has convergence order $1$. \n",
        "See the python demo \n",
        "[here](https://nbviewer.jupyter.org/github/songqsh/18ma573pub/blob/master/src/ffd_convergence_rate_v01.ipynb) with \n",
        "$$f(x) = \\sin(x) \\hbox{ at } x = \\pi/3. $$\n",
        "\n",
        "Interestingly, Wenhao discovered that if the tested point $x$ is changed to $\\pi$, then the convergence rate is $2$. \n",
        "\n",
        "In addition, the convergence rate also changes to $2$ when the testing point is zero."
      ]
    },
    {
      "metadata": {
        "id": "tc709wTbjjtP",
        "colab_type": "text"
      },
      "cell_type": "markdown",
      "source": [
        "To extend from there, can we show that FFD $\\delta_h f$ for the $f'(x)$ of all differentiable odd functions $f$ has convergence order $2$ at zero?"
      ]
    },
    {
      "metadata": {
        "id": "2Mjm4fc0lw0k",
        "colab_type": "text"
      },
      "cell_type": "markdown",
      "source": [
        "##Proposition\n",
        "\n",
        "Suppose $f:\\mathbb{R}\\rightarrow\\mathbb{R}$ where $f(x)$ is any smooth odd function at least twice differentiable $\\forall x \\in \\mathbb{R}$, then\n",
        "\n",
        "At $x=0$, the convergence order becomes $2$ for FFD $\\delta_h f$ for $f'(x)$, where\n",
        "\n",
        "$$f'(x) \\simeq \\frac{f(x+h) - f(x)}{h}.$$\n",
        "\n"
      ]
    },
    {
      "metadata": {
        "id": "zaO7AECfnWz0",
        "colab_type": "text"
      },
      "cell_type": "markdown",
      "source": [
        "##Proof\n",
        "\n",
        "given $\\delta_h f$, using Taylor series expansion we get\n",
        "\n",
        "$$f(x+h)=f(x)+hf'(x)+\\frac{1}{2}h^2f''(x)+O(h^3)$$\n",
        "\n",
        "and\n",
        "\n",
        "$$\\delta_h f=\\frac{f(x+h)-f(x)}{h}=f'(x)+\\frac{1}{2}hf''(x)+O(h^2)$$\n",
        "\n",
        "so\n",
        "\n",
        "$$\\delta_h f-f'(x)=\\frac{1}{2}hf''(x)+O(h^2)$$\n",
        "\n",
        "Since $f$ is a smooth odd function, then\n",
        "\n",
        "$$f(0)=-f(0)=0$$\n",
        "\n",
        "and\n",
        "\n",
        "$$f(-x)=-f(x) , \\forall x \\in \\mathbb{R}$$\n",
        "\n",
        "Taking the derivative of both sides, we get\n",
        "\n",
        "$$-f'(-x)=-f'(x)$$\n",
        "\n",
        "$$f'(-x)=f'(x)$$\n",
        "\n",
        "Thus the derivative $f'(x)$ is an even function $\\forall x \\in \\mathbb{R}$\n",
        "\n",
        "Taking the derivative again, we get\n",
        "\n",
        "$$-f''(-x)=f''(x)$$\n",
        "\n",
        "Thus the second derivative $f''(x)$ is an odd function $\\forall x \\in \\mathbb{R}$, and\n",
        "\n",
        "$$-f''(0)=f''(0)=0$$\n",
        "\n",
        "Thus the convergence order at $x=0$ becomes\n",
        "\n",
        "$$\\delta_h f_0-f'(0)=\\frac{1}{2}hf''(0)+O(h^2)=O(h^2)$$"
      ]
    },
    {
      "metadata": {
        "id": "nCCYozlgjYaV",
        "colab_type": "code",
        "colab": {}
      },
      "cell_type": "code",
      "source": [
        ""
      ],
      "execution_count": 0,
      "outputs": []
    }
  ]
}