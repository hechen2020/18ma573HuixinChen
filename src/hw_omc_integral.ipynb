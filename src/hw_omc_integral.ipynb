{
  "nbformat": 4,
  "nbformat_minor": 0,
  "metadata": {
    "colab": {
      "name": "hw_omc_integral.ipynb",
      "version": "0.3.2",
      "provenance": [],
      "include_colab_link": true
    },
    "kernelspec": {
      "name": "python3",
      "display_name": "Python 3"
    }
  },
  "cells": [
    {
      "cell_type": "markdown",
      "metadata": {
        "id": "view-in-github",
        "colab_type": "text"
      },
      "source": [
        "<a href=\"https://colab.research.google.com/github/hechen2020/19ma573HuixinChen/blob/master/src/hw_omc_integral.ipynb\" target=\"_parent\"><img src=\"https://colab.research.google.com/assets/colab-badge.svg\" alt=\"Open In Colab\"/></a>"
      ]
    },
    {
      "metadata": {
        "id": "dRs1UoVgrLNO",
        "colab_type": "code",
        "colab": {}
      },
      "cell_type": "code",
      "source": [
        "import numpy as np\n",
        "import scipy.stats as ss\n",
        "import matplotlib.pyplot as plt\n",
        "import array"
      ],
      "execution_count": 0,
      "outputs": []
    },
    {
      "metadata": {
        "id": "Nv7o5zBEGcZz",
        "colab_type": "text"
      },
      "cell_type": "markdown",
      "source": [
        "Function"
      ]
    },
    {
      "metadata": {
        "id": "jDdx3OT7ygzp",
        "colab_type": "code",
        "colab": {}
      },
      "cell_type": "code",
      "source": [
        "def h(x):\n",
        "  if x>0 and x<=0.01:\n",
        "    return 100\n",
        "  elif x>0.01 and x<1:\n",
        "    return 1"
      ],
      "execution_count": 0,
      "outputs": []
    },
    {
      "metadata": {
        "id": "jNtE3X6sGYf4",
        "colab_type": "text"
      },
      "cell_type": "markdown",
      "source": [
        "Implement Pseudocode for omc integral(n):"
      ]
    },
    {
      "metadata": {
        "id": "P-jNFoui13TC",
        "colab_type": "code",
        "colab": {}
      },
      "cell_type": "code",
      "source": [
        "def omc_integral(n):\n",
        "  arr = array.array('i', [])\n",
        "  \n",
        "  for i in range(0,n):\n",
        "    #drawing random points uniform between 0 and 1\n",
        "    Y = np.random.uniform(low=0, high=1)\n",
        "    #computing Xi=h(Yi) and appending\n",
        "    X = h(Y)\n",
        "    arr.append(X)\n",
        "  #conputing the average\n",
        "  return np.mean(arr)\n",
        "    "
      ],
      "execution_count": 0,
      "outputs": []
    },
    {
      "metadata": {
        "id": "SY3iS65XG5hb",
        "colab_type": "text"
      },
      "cell_type": "markdown",
      "source": [
        "Demonstrate convergence rate numerically"
      ]
    },
    {
      "metadata": {
        "id": "E21cbK9B4DNV",
        "colab_type": "code",
        "colab": {}
      },
      "cell_type": "code",
      "source": [
        "def omc_int_conv(N,m):\n",
        "  arr = array.array('f',[])\n",
        "  \n",
        "  for i in range(0,m):\n",
        "    a = omc_integral(N)\n",
        "    arr.append(a)\n",
        "  return arr"
      ],
      "execution_count": 0,
      "outputs": []
    },
    {
      "metadata": {
        "id": "RoUCSksv5i5r",
        "colab_type": "code",
        "colab": {
          "base_uri": "https://localhost:8080/",
          "height": 398
        },
        "outputId": "d4809c34-7bfa-4693-94c2-136933d06893"
      },
      "cell_type": "code",
      "source": [
        "a1 = omc_int_conv(2**5,100)\n",
        "s1 = np.std(a1)\n",
        "a2 = omc_int_conv(2**6,100)\n",
        "s2 = np.std(a2)\n",
        "a3 = omc_int_conv(2**7,100)\n",
        "s3 = np.std(a3)\n",
        "a4 = omc_int_conv(2**8,100)\n",
        "s4 = np.std(a4)\n",
        "a5 = omc_int_conv(2**9,100)\n",
        "s5 = np.std(a5)\n",
        "a6 = omc_int_conv(2**10,100)\n",
        "s6 = np.std(a6)\n",
        "arrlogN = array.array('i', [5, 6, 7, 8, 9, 10])\n",
        "arr_err = array.array('f', [s1,s2,s3,s4,s5,s6])\n",
        "print(arrlogN)\n",
        "print(arr_err)\n",
        "plt.plot(arrlogN,np.log2(arr_err),'.') "
      ],
      "execution_count": 5,
      "outputs": [
        {
          "output_type": "stream",
          "text": [
            "array('i', [5, 6, 7, 8, 9, 10])\n",
            "array('f', [1.8134760856628418, 1.2996512651443481, 0.878592312335968, 0.5901865363121033, 0.43998926877975464, 0.29473674297332764])\n"
          ],
          "name": "stdout"
        },
        {
          "output_type": "execute_result",
          "data": {
            "text/plain": [
              "[<matplotlib.lines.Line2D at 0x7f4e0a281278>]"
            ]
          },
          "metadata": {
            "tags": []
          },
          "execution_count": 5
        },
        {
          "output_type": "display_data",
          "data": {
            "image/png": "[encoded data removed]",
            "text/plain": [
              "<Figure size 576x396 with 1 Axes>"
            ]
          },
          "metadata": {
            "tags": []
          }
        }
      ]
    },
    {
      "metadata": {
        "id": "h8hKbKa68aLL",
        "colab_type": "code",
        "colab": {
          "base_uri": "https://localhost:8080/",
          "height": 34
        },
        "outputId": "fc6908b7-8545-4b02-9f5f-edad06fa5fab"
      },
      "cell_type": "code",
      "source": [
        "out = ss.linregress(arrlogN,np.log2(arr_err))\n",
        "print('----->>>the convergence rate is ' + str(-out[0]))"
      ],
      "execution_count": 6,
      "outputs": [
        {
          "output_type": "stream",
          "text": [
            "----->>>the convergence rate is 0.5248020074197224\n"
          ],
          "name": "stdout"
        }
      ]
    },
    {
      "metadata": {
        "id": "4gnN-4a9HFQH",
        "colab_type": "text"
      },
      "cell_type": "markdown",
      "source": [
        "Find its convergence rate by computing RMSE"
      ]
    },
    {
      "metadata": {
        "id": "TxWdTOO_E15j",
        "colab_type": "code",
        "colab": {}
      },
      "cell_type": "code",
      "source": [
        "def rmse(arr):\n",
        "  arr_sqerr = array.array('f',[])\n",
        "  for i in range(len(arr)):\n",
        "    sq_err = (arr[i]-1.99)**2# for each element in arr_mc, return the sqr of error\n",
        "    arr_sqerr.append(sq_err)\n",
        "  return np.sqrt(np.mean(arr_sqerr))# return the sqrt of the mean of all error"
      ],
      "execution_count": 0,
      "outputs": []
    },
    {
      "metadata": {
        "id": "Erts9cRpFfy4",
        "colab_type": "code",
        "colab": {
          "base_uri": "https://localhost:8080/",
          "height": 383
        },
        "outputId": "1cff1e8e-54bb-4844-f659-e78904038dd4"
      },
      "cell_type": "code",
      "source": [
        "arr_rmse = array.array('f', [rmse(a1),\n",
        "                            rmse(a2),\n",
        "                            rmse(a3),\n",
        "                            rmse(a4),\n",
        "                            rmse(a5),\n",
        "                            rmse(a6)])\n",
        "print(arr_rmse)\n",
        "plt.plot(arrlogN,np.log2(arr_rmse),'.')"
      ],
      "execution_count": 8,
      "outputs": [
        {
          "output_type": "stream",
          "text": [
            "array('f', [1.839676022529602, 1.3041541576385498, 0.8807684183120728, 0.5912119150161743, 0.4399934709072113, 0.2976541221141815])\n"
          ],
          "name": "stdout"
        },
        {
          "output_type": "execute_result",
          "data": {
            "text/plain": [
              "[<matplotlib.lines.Line2D at 0x7f4e08196320>]"
            ]
          },
          "metadata": {
            "tags": []
          },
          "execution_count": 8
        },
        {
          "output_type": "display_data",
          "data": {
            "image/png": "[encoded data removed]",
            "text/plain": [
              "<Figure size 576x396 with 1 Axes>"
            ]
          },
          "metadata": {
            "tags": []
          }
        }
      ]
    },
    {
      "metadata": {
        "id": "QLAI9s7-7jPt",
        "colab_type": "code",
        "colab": {
          "base_uri": "https://localhost:8080/",
          "height": 34
        },
        "outputId": "58890b5d-c766-4006-8bc2-28fd60407268"
      },
      "cell_type": "code",
      "source": [
        "out = ss.linregress(arrlogN,np.log2(arr_rmse))\n",
        "print('----->>>the convergence rate is ' + str(-out[0]))"
      ],
      "execution_count": 9,
      "outputs": [
        {
          "output_type": "stream",
          "text": [
            "----->>>the convergence rate is 0.5261852379356112\n"
          ],
          "name": "stdout"
        }
      ]
    }
  ]
}