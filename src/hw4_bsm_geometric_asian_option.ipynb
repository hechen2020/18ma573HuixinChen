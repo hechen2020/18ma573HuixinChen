{
  "nbformat": 4,
  "nbformat_minor": 0,
  "metadata": {
    "colab": {
      "name": "hw4_bsm_geometric_asian_option.ipynb",
      "version": "0.3.2",
      "provenance": [],
      "include_colab_link": true
    },
    "kernelspec": {
      "name": "python3",
      "display_name": "Python 3"
    }
  },
  "cells": [
    {
      "cell_type": "markdown",
      "metadata": {
        "id": "view-in-github",
        "colab_type": "text"
      },
      "source": [
        "<a href=\"https://colab.research.google.com/github/hechen2020/19ma573HuixinChen/blob/master/src/hw4_bsm_geometric_asian_option.ipynb\" target=\"_parent\"><img src=\"https://colab.research.google.com/assets/colab-badge.svg\" alt=\"Open In Colab\"/></a>"
      ]
    },
    {
      "metadata": {
        "id": "_XElMlisi2rH",
        "colab_type": "code",
        "outputId": "fae507f0-4257-413c-fb5e-7da5adea48f8",
        "colab": {
          "base_uri": "https://localhost:8080/",
          "height": 134
        }
      },
      "cell_type": "code",
      "source": [
        "'''======\n",
        "run once, then comment it off, and run again\n",
        "========'''\n",
        "!git clone https://github.com/hechen2020/19ma573HuixinChen.git"
      ],
      "execution_count": 1,
      "outputs": [
        {
          "output_type": "stream",
          "text": [
            "Cloning into '19ma573HuixinChen'...\n",
            "remote: Enumerating objects: 29, done.\u001b[K\n",
            "remote: Counting objects: 100% (29/29), done.\u001b[K\n",
            "remote: Compressing objects: 100% (29/29), done.\u001b[K\n",
            "remote: Total 205 (delta 10), reused 0 (delta 0), pack-reused 176\u001b[K\n",
            "Receiving objects: 100% (205/205), 281.45 KiB | 9.71 MiB/s, done.\n",
            "Resolving deltas: 100% (69/69), done.\n"
          ],
          "name": "stdout"
        }
      ]
    },
    {
      "metadata": {
        "id": "vhjxgwM7i_4m",
        "colab_type": "code",
        "outputId": "0776079f-f08c-4324-ce1d-91a2f21c0a8c",
        "colab": {
          "base_uri": "https://localhost:8080/",
          "height": 34
        }
      },
      "cell_type": "code",
      "source": [
        "cd ./19ma573HuixinChen/src/"
      ],
      "execution_count": 2,
      "outputs": [
        {
          "output_type": "stream",
          "text": [
            "/content/19ma573HuixinChen/src\n"
          ],
          "name": "stdout"
        }
      ]
    },
    {
      "metadata": {
        "id": "nbSgYYl_jCCG",
        "colab_type": "code",
        "colab": {}
      },
      "cell_type": "code",
      "source": [
        "import numpy as np\n",
        "import scipy.stats as ss\n",
        "import matplotlib.pyplot as plt\n",
        "from contract_v01 import VanillaOption\n",
        "from sde_1d_v01 import Sde_1d\n",
        "from sde_1d_v01 import Gbm_1d"
      ],
      "execution_count": 0,
      "outputs": []
    },
    {
      "metadata": {
        "id": "ux9OuGiGjGXt",
        "colab_type": "code",
        "colab": {}
      },
      "cell_type": "code",
      "source": [
        "'''==============\n",
        "output: BSM geometric asian option price\n",
        "==============='''\n",
        "def bsm_geometric_asian_price(self,\n",
        "                              otype = 1,\n",
        "                              strike = 110.,\n",
        "                              maturity = 1,\n",
        "                              num_step = 4 #patition number:m\n",
        "                             ):\n",
        "  s0 = self.init_state\n",
        "  sigma = self.vol_ratio\n",
        "  r = self.drift_ratio\n",
        "  k = strike\n",
        "  T = maturity\n",
        "  m = num_step\n",
        "  \n",
        "  mu = r - (sigma**2/2)\n",
        "  hmu = mu/2\n",
        "  hsigma = np.sqrt((sigma**2)*(2*m+1)/(6*(m+1)))\n",
        "  hr = hmu +hsigma**2/2\n",
        "  \n",
        "  d1 = (np.log(s0/k) + (hr+0.5*hsigma**2) * T) / (hsigma*np.sqrt(T))\n",
        "  d2 = d1 - hsigma*np.sqrt(T)\n",
        "  \n",
        "  return (np.exp(T*(hr-r)) * (otype*s0*ss.norm.cdf(otype*d1)\n",
        "                          - otype*k*np.exp(-hr*T)*ss.norm.cdf(otype*d2)))\n",
        "  \n",
        "Gbm_1d.bsm_geometric_asian_price = bsm_geometric_asian_price"
      ],
      "execution_count": 0,
      "outputs": []
    },
    {
      "metadata": {
        "id": "sKq2nF1SjWCK",
        "colab_type": "code",
        "outputId": "b03f273c-c8bc-4a08-eeaa-ad05e1ab8e6d",
        "colab": {
          "base_uri": "https://localhost:8080/",
          "height": 34
        }
      },
      "cell_type": "code",
      "source": [
        "'''==============\n",
        "Test BSM geometric asian option price\n",
        "==============='''\n",
        "gbm1 = Gbm_1d(init_state=100., drift_ratio=0.0475, vol_ratio=.2)\n",
        "gao1 = gbm1.bsm_geometric_asian_price(otype = 1,\n",
        "                                      strike = 110.,\n",
        "                                      maturity = 1,\n",
        "                                      num_step = 4)\n",
        "print('>>>>>> geometric call option value is ' + str(gao1))"
      ],
      "execution_count": 5,
      "outputs": [
        {
          "output_type": "stream",
          "text": [
            ">>>>>> geometric call option value is 1.607164727431734\n"
          ],
          "name": "stdout"
        }
      ]
    },
    {
      "metadata": {
        "id": "RSygMHvvjb-Z",
        "colab_type": "code",
        "colab": {}
      },
      "cell_type": "code",
      "source": [
        "'''===============\n",
        "market available data\n",
        "=================='''\n",
        "#paras for stock price\n",
        "spot = 100\n",
        "rate = .05\n",
        "#paras for geometric asian options\n",
        "otype = 1\n",
        "maturity = 2/12\n",
        "num_step = 8\n",
        "strike_list = [97, 99, 101, 103]\n",
        "market_price_list = [3.7925736094875964,\n",
        "                     2.5429985313737244,\n",
        "                     1.6026613800895042,\n",
        "                     0.9366198675047346]"
      ],
      "execution_count": 0,
      "outputs": []
    },
    {
      "metadata": {
        "id": "LYPeLBjUjpgb",
        "colab_type": "code",
        "colab": {}
      },
      "cell_type": "code",
      "source": [
        "'''================\n",
        "calibrated volatility based on vanilla options\n",
        "=================='''\n",
        "calibarated_vol = 0.18109375000000028"
      ],
      "execution_count": 0,
      "outputs": []
    },
    {
      "metadata": {
        "id": "eecDOgTdjqfx",
        "colab_type": "code",
        "colab": {}
      },
      "cell_type": "code",
      "source": [
        "'''========\n",
        "your code is in this below\n",
        "============'''\n",
        "#calculate geometric asian call option prices with BSM model with the given strike\n",
        "gbm2 = Gbm_1d(init_state=100., drift_ratio=0.05, vol_ratio=0.18109375000000028)\n",
        "\n",
        "option_list1 = []\n",
        "\n",
        "for i in range(len(strike_list)):\n",
        "  option1 = VanillaOption(\n",
        "      otype = 1,\n",
        "      strike = strike_list[i],\n",
        "      maturity = 2/12,\n",
        "      market_price = gbm2.bsm_geometric_asian_price(otype=1,strike=strike_list[i],maturity=2/12,num_step = 8)\n",
        "  )\n",
        "      \n",
        "  option_list1.append(option1) \n"
      ],
      "execution_count": 0,
      "outputs": []
    },
    {
      "metadata": {
        "id": "f48d5UmjHkX_",
        "colab_type": "code",
        "colab": {
          "base_uri": "https://localhost:8080/",
          "height": 361
        },
        "outputId": "4504f350-5383-4a9a-a317-f30db5e32c4a"
      },
      "cell_type": "code",
      "source": [
        "'''========\n",
        "your code is in this below\n",
        "============'''\n",
        "#graphing\n",
        "\n",
        "x_co = [option_list1[i].strike for i in range(len(option_list1))]\n",
        "y_co = [market_price_list[i] for i in range(len(option_list1))]\n",
        "plt.plot(x_co, y_co, 'o', label='market price')\n",
        "\n",
        "y_co = [option_list1[i].market_price for i in range(len(option_list1))]\n",
        "plt.plot(x_co, y_co, label = 'calib price')\n",
        "\n",
        "plt.ylabel('option price')\n",
        "plt.xlabel('strike with fixed 2-mon maturity')\n",
        "plt.legend();\n",
        "\n",
        "pass"
      ],
      "execution_count": 9,
      "outputs": [
        {
          "output_type": "display_data",
          "data": {
            "image/png": "[encoded data removed]",
            "text/plain": [
              "<Figure size 576x396 with 1 Axes>"
            ]
          },
          "metadata": {
            "tags": []
          }
        }
      ]
    },
    {
      "metadata": {
        "id": "875jqVyfgQR-",
        "colab_type": "text"
      },
      "cell_type": "markdown",
      "source": [
        "The calibrated prices using the implied volatility closely resemble the market price for geometric asian call options under BSM model"
      ]
    }
  ]
}