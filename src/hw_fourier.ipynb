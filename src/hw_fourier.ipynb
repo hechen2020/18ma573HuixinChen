{
  "nbformat": 4,
  "nbformat_minor": 0,
  "metadata": {
    "colab": {
      "name": "hw_fourier.ipynb",
      "version": "0.3.2",
      "provenance": [],
      "collapsed_sections": [],
      "include_colab_link": true
    },
    "kernelspec": {
      "name": "python3",
      "display_name": "Python 3"
    }
  },
  "cells": [
    {
      "cell_type": "markdown",
      "metadata": {
        "id": "view-in-github",
        "colab_type": "text"
      },
      "source": [
        "<a href=\"https://colab.research.google.com/github/hechen2020/19ma573HuixinChen/blob/master/src/hw_fourier.ipynb\" target=\"_parent\"><img src=\"https://colab.research.google.com/assets/colab-badge.svg\" alt=\"Open In Colab\"/></a>"
      ]
    },
    {
      "metadata": {
        "id": "efcZX9S1-nNu",
        "colab_type": "text"
      },
      "cell_type": "markdown",
      "source": [
        "###Find characteristic function of $W_t$ by deriving\n",
        "\n",
        "$$\\phi_t(u)=\\mathbb{E}[e^{iuW_t}]$$\n",
        "\n",
        "###Derivation\n",
        "\n",
        "The Brownian motion $W_t$ satisfy $W_t\\sim\\mathcal{N}(0,\\sigma^2=t)$. Denote $W_t$ as $W$. We can write the characterstic function as\n",
        "\n",
        "$$\\phi_t(u)=\\mathbb{E}(e^{iuW})=\\mathbb{E}[cos(uW)]+i\\mathbb{E}[sin(uW)]=\\int_{-\\infty}^{\\infty}{cos(uw)f_{W}(w)}dw+i\\int_{-\\infty}^\\infty{sin(uw)f_{W}(w)}dw$$\n",
        "\n",
        "we know that the pdf of $W$, $f_W(w)$ is an even function symmetric about the y-axis, and $sin(uw)$ is an odd function symmetric about the origin, which means in the second integral, the product $sin(uw)f_W(w)$ is an odd function, and thus the integration evaluate to 0. Thus\n",
        "\n",
        "$$\\phi_t(u)=\\int_{-\\infty}^{\\infty}{cos(uw)f_W(w)}dw+0=\\int_{-\\infty}^{\\infty}{cos(uw)f_W(w)}dw$$\n",
        "\n",
        "We can take the derivative of the characteristic function with respect to $u$ and get\n",
        "\n",
        "$$\\frac{d\\phi_t(u)}{du}=\\frac{d}{du}\\mathbb{E}[e^{iuW}]=\\mathbb{E}[\\frac{d}{du}e^{iuW}]=\\mathbb{E}[iWe^{iuW}]=i(\\mathbb{E}[We^{iuW}])=i(\\mathbb{E}[Wcos(uW)]+i\\mathbb{E}[Wsin(uW)])=i\\mathbb{E}[Wcos(uW)]-\\mathbb{E}[Wsin(uW)]$$\n",
        "\n",
        "which using the definition of expectation again becomes\n",
        "\n",
        "$$\\frac{d\\phi_t(u)}{du}=i\\int_{-\\infty}^\\infty{wcos(uw)f_W(w)}dw-\\int_{-\\infty}^\\infty{wsin(uw)f_W(w)}dw$$\n",
        "\n",
        "where in the first integral, $wcos(uw)$ is odd (since $w$ is odd and $cos(uw)$ is even) and $f_W(w)$ is even, so $wcos(uw)f_W(w)$ is odd and the integral evaluates to 0. Thus\n",
        "\n",
        "$$\\frac{d\\phi_t(u)}{du}=-\\int_{-\\infty}^\\infty{wsin(uw)f_W(w)}dw=-\\int_{-\\infty}^\\infty{wsin(uw)\\frac{1}{\\sqrt{2\\pi t}}e^{-\\frac{w^2}{2t}}}dw$$\n",
        "\n",
        "note that \n",
        "\n",
        "$$\\frac{d}{dw}\\frac{1}{\\sqrt{2\\pi t}}e^{-\\frac{w^2}{2t}}=-\\frac{w}{t}\\frac{1}{\\sqrt{2\\pi t}}e^{-\\frac{w^2}{2t}}$$\n",
        "\n",
        "so the integral can be written as\n",
        "\n",
        "$$\\frac{d\\phi_t(u)}{du}=t\\int_{-\\infty}^\\infty{sin(uw)\\frac{d}{dw}[\\frac{1}{\\sqrt{2\\pi t}}e^{\\frac{w^2}{2t}\n",
        "}]}dw=t\\int_{-\\infty}^\\infty{sin(uw)\\frac{d}{dw}[f_W(w)]}dw$$\n",
        "\n",
        "which using integration by part, we obtain\n",
        "\n",
        "$$\\frac{d\\phi_t(u)}{du}=t[sin(uw)f_W(w)|_{-\\infty}^\\infty-\\int_{-\\infty}^\\infty{ucos(uw)f_W(w)}dw]$$\n",
        "\n",
        "where $f_W(w)$ evaluated at $-\\infty$ and $\\infty$ are both zero, so $sin(uw)f_W(w)|_{-\\infty}^\\infty=0$, and the equation becomes\n",
        "\n",
        "$$\\frac{d\\phi_t(u)}{du}=-tu\\int_{-\\infty}^\\infty{cos(uw)f_W(w)}dw$$\n",
        "\n",
        "Recall $\\phi_t(u)=\\int_{-\\infty}^{\\infty}{cos(uw)f_W(w)}dw$. Thus we have the relation\n",
        "\n",
        "$$\\frac{d\\phi_t(u)}{du}=-tu\\phi_t(u)$$\n",
        "\n",
        "And we know for $\\phi_t(0)=\\mathbb{E}[e^0]=1$\n",
        "\n",
        "So the solution to the ordinary differential equation is\n",
        "\n",
        "$$\\phi_t(u)=e^{-\\frac{t}{2}u^2}$$\n",
        "\n",
        "which is the characteristic function of $W_t$\n",
        "\n",
        "end"
      ]
    },
    {
      "metadata": {
        "id": "bVmxoSMFj7-q",
        "colab_type": "text"
      },
      "cell_type": "markdown",
      "source": [
        "###Use the explicit formula to find BSM call price"
      ]
    },
    {
      "metadata": {
        "id": "NbUOpzDZkGTd",
        "colab_type": "code",
        "colab": {
          "base_uri": "https://localhost:8080/",
          "height": 134
        },
        "outputId": "1e578bac-5d55-4dba-a6a2-f3c42a95472b"
      },
      "cell_type": "code",
      "source": [
        "'''======\n",
        "run once, then comment it off, and run again\n",
        "========'''\n",
        "!git clone https://github.com/hechen2020/19ma573HuixinChen.git"
      ],
      "execution_count": 1,
      "outputs": [
        {
          "output_type": "stream",
          "text": [
            "Cloning into '19ma573HuixinChen'...\n",
            "remote: Enumerating objects: 114, done.\u001b[K\n",
            "remote: Counting objects: 100% (114/114), done.\u001b[K\n",
            "remote: Compressing objects: 100% (114/114), done.\u001b[K\n",
            "remote: Total 290 (delta 37), reused 0 (delta 0), pack-reused 176\u001b[K\n",
            "Receiving objects: 100% (290/290), 1.04 MiB | 3.34 MiB/s, done.\n",
            "Resolving deltas: 100% (96/96), done.\n"
          ],
          "name": "stdout"
        }
      ]
    },
    {
      "metadata": {
        "id": "sgQ-Tq3gkG-0",
        "colab_type": "code",
        "colab": {
          "base_uri": "https://localhost:8080/",
          "height": 34
        },
        "outputId": "9956b726-02c6-429d-d5da-5654b3221d0f"
      },
      "cell_type": "code",
      "source": [
        "cd ./19ma573HuixinChen/src/"
      ],
      "execution_count": 2,
      "outputs": [
        {
          "output_type": "stream",
          "text": [
            "/content/19ma573HuixinChen/src\n"
          ],
          "name": "stdout"
        }
      ]
    },
    {
      "metadata": {
        "id": "VAaPcMKpkeUS",
        "colab_type": "code",
        "colab": {}
      },
      "cell_type": "code",
      "source": [
        "from contract_v01 import VanillaOption\n",
        "from sde_1d_v01 import Gbm_1d, bsm_price"
      ],
      "execution_count": 0,
      "outputs": []
    },
    {
      "metadata": {
        "id": "py25xHC_kh2s",
        "colab_type": "code",
        "colab": {}
      },
      "cell_type": "code",
      "source": [
        "import numpy as np\n",
        "import scipy as s\n",
        "import math"
      ],
      "execution_count": 0,
      "outputs": []
    },
    {
      "metadata": {
        "id": "bmQ6xhlW9_gX",
        "colab_type": "code",
        "colab": {}
      },
      "cell_type": "code",
      "source": [
        "'''========\n",
        "paras\n",
        "============'''\n",
        "s0 = 100\n",
        "r = .0475\n",
        "sigma = .2\n",
        "otype = 1\n",
        "K = 110.\n",
        "T = 1."
      ],
      "execution_count": 0,
      "outputs": []
    },
    {
      "metadata": {
        "id": "M3wAOWxEklMt",
        "colab_type": "code",
        "colab": {
          "base_uri": "https://localhost:8080/",
          "height": 34
        },
        "outputId": "9d19ec9b-37fd-4951-ad65-51fd5e61cc78"
      },
      "cell_type": "code",
      "source": [
        "gbm1 = Gbm_1d(s0, r, sigma)\n",
        "call1 = VanillaOption(otype, K, T)\n",
        "\n",
        "bsm_call = gbm1.bsm_price(call1)\n",
        "print(bsm_call)"
      ],
      "execution_count": 8,
      "outputs": [
        {
          "output_type": "stream",
          "text": [
            "5.943273183452838\n"
          ],
          "name": "stdout"
        }
      ]
    },
    {
      "metadata": {
        "id": "uBZoRBT0lrlF",
        "colab_type": "text"
      },
      "cell_type": "markdown",
      "source": [
        "###Use the fourier transform method to find BSM call price"
      ]
    },
    {
      "metadata": {
        "id": "55Ny1KSq6_ej",
        "colab_type": "text"
      },
      "cell_type": "markdown",
      "source": [
        "formula\n",
        "\n",
        "$$c=S_0\\Pi_1-Ke^{-rT}\\Pi_2$$\n",
        "\n",
        "where applied on the BSM,\n",
        "\n",
        "$$\\Pi_1=1/2+1/\\pi\\int_0^\\infty{\\frac{sin(d_1t)}{t}e^{-t^2/2}}dt$$\n",
        "\n",
        "$$\\Pi_2=1/2+1/\\pi\\int_0^\\infty{\\frac{sin(d_2t)}{t}e^{-t^2/2}}dt$$\n",
        "\n",
        "$$d_1=\\frac{log(S_0/K)+(r+\\sigma^2/2)T}{\\sigma\\sqrt{T}}$$\n",
        "\n",
        "$$d_2=\\frac{log(S_0/K)+(r-\\sigma^2/2)T}{\\sigma\\sqrt{T}}$$\n",
        "\n",
        "\n",
        "ChiXX_Fourier"
      ]
    },
    {
      "metadata": {
        "id": "oWGb8AWyliSP",
        "colab_type": "code",
        "colab": {}
      },
      "cell_type": "code",
      "source": [
        "def bsm_fourier_call(self,\n",
        "                     strike,\n",
        "                     maturity):\n",
        "  \n",
        "  s0 = self.init_state\n",
        "  sigma = self.vol_ratio\n",
        "  r = self.drift_ratio\n",
        "  \n",
        "  k = strike\n",
        "  T = maturity\n",
        "  \n",
        "  d1 = (np.log(s0/k)+T*(r+sigma**2/2))/(sigma*np.sqrt(T))\n",
        "  d2 = (np.log(s0/k)+T*(r-sigma**2/2))/(sigma*np.sqrt(T))\n",
        "  \n",
        "  int1 = lambda x: np.sin(d1*x)/x*np.exp(-x**2/2)\n",
        "  int2 = lambda x: np.sin(d2*x)/x*np.exp(-x**2/2)\n",
        "  \n",
        "  i1, err = s.integrate.quad(int1, 0, math.inf)\n",
        "  i2, err = s.integrate.quad(int2, 0, math.inf)\n",
        "  \n",
        "  I1 = 1/2 + 1/np.pi*i1\n",
        "  I2 = 1/2 + 1/np.pi*i2\n",
        "  \n",
        "  return s0*I1 - k*np.exp(-r*T)*I2\n",
        " \n",
        "Gbm_1d.bsm_fourier_call = bsm_fourier_call"
      ],
      "execution_count": 0,
      "outputs": []
    },
    {
      "metadata": {
        "id": "EnJOUNhZq-Ih",
        "colab_type": "code",
        "colab": {
          "base_uri": "https://localhost:8080/",
          "height": 34
        },
        "outputId": "5cdce9f3-adfd-4f98-f9a2-51b3b767dc6d"
      },
      "cell_type": "code",
      "source": [
        "fourier_call = gbm1.bsm_fourier_call(K, T)\n",
        "print(fourier_call)"
      ],
      "execution_count": 39,
      "outputs": [
        {
          "output_type": "stream",
          "text": [
            "5.943273183452845\n"
          ],
          "name": "stdout"
        }
      ]
    },
    {
      "metadata": {
        "id": "1ja2VRZMrPFm",
        "colab_type": "code",
        "colab": {}
      },
      "cell_type": "code",
      "source": [
        ""
      ],
      "execution_count": 0,
      "outputs": []
    }
  ]
}