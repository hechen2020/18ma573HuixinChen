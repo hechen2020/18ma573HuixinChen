{
  "nbformat": 4,
  "nbformat_minor": 0,
  "metadata": {
    "colab": {
      "name": "hw_sint/t_proof.ipynb",
      "version": "0.3.2",
      "provenance": [],
      "collapsed_sections": [],
      "include_colab_link": true
    },
    "kernelspec": {
      "name": "python3",
      "display_name": "Python 3"
    }
  },
  "cells": [
    {
      "cell_type": "markdown",
      "metadata": {
        "id": "view-in-github",
        "colab_type": "text"
      },
      "source": [
        "<a href=\"https://colab.research.google.com/github/hechen2020/19ma573HuixinChen/blob/master/src/hw_sint_t_proof.ipynb\" target=\"_parent\"><img src=\"https://colab.research.google.com/assets/colab-badge.svg\" alt=\"Open In Colab\"/></a>"
      ]
    },
    {
      "metadata": {
        "id": "W37peCcL_u7G",
        "colab_type": "text"
      },
      "cell_type": "markdown",
      "source": [
        "##Prove\n",
        "\n",
        "$$\\int_0^\\infty{\\frac{sint}{t}dt}=\\pi/2$$\n",
        "\n",
        "##Proof\n",
        "\n",
        "we know\n",
        "\n",
        "$$\\int_0^\\infty{e^{-st}}ds=\\frac{1}{t}$$\n",
        "\n",
        "so\n",
        "\n",
        "$$\\int_0^\\infty{\\frac{sint}{t}}dt = \\int_0^\\infty{\\int_0^\\infty{e^{-st}sin(t)}ds}dt$$\n",
        "\n",
        "By reversing the order of integration we get\n",
        "\n",
        "$$\\int_0^\\infty{\\frac{sint}{t}}dt = \\int_0^\\infty{\\int_0^\\infty{e^{-st}sin(t)}dt}ds$$\n",
        "\n",
        "where\n",
        "\n",
        "$$\\int_0^\\infty{e^{-st}sin(t)}dt=\\mathcal{L}(sin(t))=\\frac{1}{s^2+1}$$\n",
        "\n",
        "so\n",
        "\n",
        "$$\\int_0^\\infty{\\int_0^\\infty{e^{-st}sin(t)}dt}ds=\\int_0^\\infty{\\frac{1}{s^2+1}}ds=arctan(s)|_0^\\infty=\\pi/2$$\n",
        "\n",
        "end"
      ]
    },
    {
      "metadata": {
        "id": "qdZEhFPD_rak",
        "colab_type": "code",
        "colab": {}
      },
      "cell_type": "code",
      "source": [
        ""
      ],
      "execution_count": 0,
      "outputs": []
    }
  ]
}