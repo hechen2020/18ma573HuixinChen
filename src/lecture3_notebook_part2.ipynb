{
  "nbformat": 4,
  "nbformat_minor": 0,
  "metadata": {
    "colab": {
      "name": "lecture3_notebook_part2.ipynb",
      "version": "0.3.2",
      "provenance": [],
      "include_colab_link": true
    },
    "kernelspec": {
      "name": "python3",
      "display_name": "Python 3"
    }
  },
  "cells": [
    {
      "cell_type": "markdown",
      "metadata": {
        "id": "view-in-github",
        "colab_type": "text"
      },
      "source": [
        "<a href=\"https://colab.research.google.com/github/hechen2020/19ma573HuixinChen/blob/master/src/lecture3_notebook_part2.ipynb\" target=\"_parent\"><img src=\"https://colab.research.google.com/assets/colab-badge.svg\" alt=\"Open In Colab\"/></a>"
      ]
    },
    {
      "metadata": {
        "id": "z88UrjaIbGYs",
        "colab_type": "code",
        "outputId": "5430e769-7ec8-4ecf-ae96-0d1b4d07b446",
        "colab": {
          "base_uri": "https://localhost:8080/",
          "height": 118
        }
      },
      "cell_type": "code",
      "source": [
        "!git clone https://github.com/hechen2020/19ma573HuixinChen.git #run once!"
      ],
      "execution_count": 0,
      "outputs": [
        {
          "output_type": "stream",
          "text": [
            "Cloning into '19ma573HuixinChen'...\n",
            "remote: Enumerating objects: 94, done.\u001b[K\n",
            "remote: Counting objects: 100% (94/94), done.\u001b[K\n",
            "remote: Compressing objects: 100% (92/92), done.\u001b[K\n",
            "remote: Total 94 (delta 29), reused 0 (delta 0), pack-reused 0\u001b[K\n",
            "Unpacking objects: 100% (94/94), done.\n"
          ],
          "name": "stdout"
        }
      ]
    },
    {
      "metadata": {
        "id": "v1bSQ79KbJQ3",
        "colab_type": "code",
        "outputId": "db1dab0a-3923-477f-ea2c-3b12bf5d2384",
        "colab": {
          "base_uri": "https://localhost:8080/",
          "height": 34
        }
      },
      "cell_type": "code",
      "source": [
        "cd ./19ma573HuixinChen/src/"
      ],
      "execution_count": 0,
      "outputs": [
        {
          "output_type": "stream",
          "text": [
            "/content/19ma573HuixinChen/src\n"
          ],
          "name": "stdout"
        }
      ]
    },
    {
      "metadata": {
        "id": "od7tjzt1cfkf",
        "colab_type": "code",
        "outputId": "ea6b9ab4-3b46-4a12-d318-8576f0d287b6",
        "colab": {
          "base_uri": "https://localhost:8080/",
          "height": 34
        }
      },
      "cell_type": "code",
      "source": [
        "ls european_options_class.py"
      ],
      "execution_count": 0,
      "outputs": [
        {
          "output_type": "stream",
          "text": [
            "european_options_class.py\n"
          ],
          "name": "stdout"
        }
      ]
    },
    {
      "metadata": {
        "id": "6lT2nuedh_07",
        "colab_type": "code",
        "outputId": "3a5c415e-56b3-4724-c3ba-273ec03dcbf6",
        "colab": {
          "base_uri": "https://localhost:8080/",
          "height": 34
        }
      },
      "cell_type": "code",
      "source": [
        "ls gbm_1d_class.py"
      ],
      "execution_count": 0,
      "outputs": [
        {
          "output_type": "stream",
          "text": [
            "gbm_1d_class.py\n"
          ],
          "name": "stdout"
        }
      ]
    },
    {
      "metadata": {
        "id": "Nqr6h8L6cuMw",
        "colab_type": "code",
        "colab": {}
      },
      "cell_type": "code",
      "source": [
        "import numpy as np\n",
        "import scipy.stats as ss"
      ],
      "execution_count": 0,
      "outputs": []
    },
    {
      "metadata": {
        "id": "UtVMyrwViEQZ",
        "colab_type": "code",
        "colab": {}
      },
      "cell_type": "code",
      "source": [
        "'''==========\n",
        "here we import our own python modules\n",
        "==================='''\n",
        "import european_options_class as eoc\n",
        "import gbm_1d_class as sde"
      ],
      "execution_count": 0,
      "outputs": []
    },
    {
      "metadata": {
        "id": "0rx35axLjTw0",
        "colab_type": "code",
        "colab": {}
      },
      "cell_type": "code",
      "source": [
        "import matplotlib.pyplot as plt\n",
        "import numpy as np\n",
        "import scipy.optimize as so"
      ],
      "execution_count": 0,
      "outputs": []
    },
    {
      "metadata": {
        "id": "I4UXCj2HiMT5",
        "colab_type": "code",
        "outputId": "42e7a514-10ec-460b-f754-792118271cf8",
        "colab": {
          "base_uri": "https://localhost:8080/",
          "height": 34
        }
      },
      "cell_type": "code",
      "source": [
        "'''===============\n",
        "Test bsm_price\n",
        "================='''\n",
        "gbm1 = sde.Gbm(init_state = 100.,\n",
        "                 drift_ratio = .0475,\n",
        "                 vol_ratio = .2)\n",
        "option1 = eoc.VanillaOption(\n",
        "    otype = 1, # 1: 'call'\n",
        "              # -1: 'put'\n",
        "    strike = 110.,                \n",
        "    maturity = 1.\n",
        ")\n",
        "print('>>>>>>>call value is ' + str(gbm1.bsm_price(option1)))"
      ],
      "execution_count": 0,
      "outputs": [
        {
          "output_type": "stream",
          "text": [
            ">>>>>>>call value is 5.943273183452838\n"
          ],
          "name": "stdout"
        }
      ]
    },
    {
      "metadata": {
        "id": "V56SSfQ_iO9-",
        "colab_type": "code",
        "colab": {}
      },
      "cell_type": "code",
      "source": [
        "'''================\n",
        "define an error function\n",
        "===================='''\n",
        "def error_function(vol, gbm, option):\n",
        "  gbm.vol_ratio = vol\n",
        "  #return np.abs(option.market_price - gbm.bsm_price(option))\n",
        "  return (option.market_price - gbm.bsm_price(option))**2"
      ],
      "execution_count": 0,
      "outputs": []
    },
    {
      "metadata": {
        "id": "TZRHTKU6iU9t",
        "colab_type": "code",
        "colab": {}
      },
      "cell_type": "code",
      "source": [
        "'''==========\n",
        "define a method to seek for an implied volatility\n",
        "============'''\n",
        "\n",
        "def implied_volatility(gbm, option):\n",
        "  init_vol = .1 #initial guess\n",
        "  return so.fmin(error_function, init_vol, \n",
        "                 args = (gbm, option), disp = 0)[0]"
      ],
      "execution_count": 0,
      "outputs": []
    },
    {
      "metadata": {
        "id": "1EkstBAAiYmO",
        "colab_type": "code",
        "outputId": "a18b57f8-962c-4420-cd70-46a1593ae9ee",
        "colab": {
          "base_uri": "https://localhost:8080/",
          "height": 34
        }
      },
      "cell_type": "code",
      "source": [
        "'''============\n",
        "test the implied_vol by reversing bsm_formula example in the above\n",
        "=============='''\n",
        "\n",
        "option1.market_price = 5.94\n",
        "\n",
        "print('>>>>>>>>implied volatility is ' + \n",
        "     str(implied_volatility(gbm1, option1)))"
      ],
      "execution_count": 0,
      "outputs": [
        {
          "output_type": "stream",
          "text": [
            ">>>>>>>>implied volatility is 0.19992187500000036\n"
          ],
          "name": "stdout"
        }
      ]
    },
    {
      "metadata": {
        "id": "TGBc_9ZOiaeI",
        "colab_type": "code",
        "colab": {}
      },
      "cell_type": "code",
      "source": [
        "T = np.linspace(0.5,2,11)"
      ],
      "execution_count": 0,
      "outputs": []
    },
    {
      "metadata": {
        "id": "nlPiBCLxjs7D",
        "colab_type": "code",
        "outputId": "5a96ba7a-5828-43c5-b415-a5ab55d0377c",
        "colab": {
          "base_uri": "https://localhost:8080/",
          "height": 34
        }
      },
      "cell_type": "code",
      "source": [
        "T"
      ],
      "execution_count": 0,
      "outputs": [
        {
          "output_type": "execute_result",
          "data": {
            "text/plain": [
              "array([0.5 , 0.65, 0.8 , 0.95, 1.1 , 1.25, 1.4 , 1.55, 1.7 , 1.85, 2.  ])"
            ]
          },
          "metadata": {
            "tags": []
          },
          "execution_count": 28
        }
      ]
    },
    {
      "metadata": {
        "id": "sFvDIrmTkSQ0",
        "colab_type": "text"
      },
      "cell_type": "markdown",
      "source": [
        "Intermediate Value Theorem"
      ]
    }
  ]
}