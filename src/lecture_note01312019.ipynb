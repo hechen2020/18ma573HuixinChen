{
  "nbformat": 4,
  "nbformat_minor": 0,
  "metadata": {
    "colab": {
      "name": "lecture_note01312019.ipynb",
      "version": "0.3.2",
      "provenance": [],
      "include_colab_link": true
    },
    "kernelspec": {
      "name": "python3",
      "display_name": "Python 3"
    }
  },
  "cells": [
    {
      "cell_type": "markdown",
      "metadata": {
        "id": "view-in-github",
        "colab_type": "text"
      },
      "source": [
        "<a href=\"https://colab.research.google.com/github/hechen2020/19ma573HuixinChen/blob/master/src/lecture_note01312019.ipynb\" target=\"_parent\"><img src=\"https://colab.research.google.com/assets/colab-badge.svg\" alt=\"Open In Colab\"/></a>"
      ]
    },
    {
      "metadata": {
        "id": "CzA3kKlHXxyS",
        "colab_type": "text"
      },
      "cell_type": "markdown",
      "source": [
        "#Volatility Smile\n",
        "\n",
        "##Implied Volatility\n",
        "\n",
        "Let\n",
        "\n",
        "\n",
        "1. $f: \\sigma \\mapsto BSM(\\sigma;r,S_0,T,K, otype)$\n",
        "\n",
        "2. Market price $M(r,S_0,T,K,otype)$\n",
        "\n",
        "Then $\\hat\\sigma$ is called IV if\n",
        "\n",
        "$f(\\hat\\sigma)=M(r,S_0,T,K,otype)$\n",
        "\n",
        "i.e.\n",
        "\n",
        "$\\hat\\sigma=f^{-1}\\dot M(r,S_0,T,K,otype)$\n",
        "\n",
        "##Volatility Smile\n",
        "\n",
        "Let T, otype be fixed. Choose different K's, one can compute different IV $\\hat\\sigma_K$\n",
        "\n",
        "$K\\mapsto \\hat\\sigma_K=f^{-1}\\bullet M(K;,r,S_0,T,otype)$\n",
        "\n",
        "as volatility smile\n",
        "\n",
        "\n"
      ]
    },
    {
      "metadata": {
        "id": "2dozMv3wZh1R",
        "colab_type": "text"
      },
      "cell_type": "markdown",
      "source": [
        "Volatility smiles are implied volatility patterns that arise in pricing financial options. It corresponds to finding one single parameter (implied volatility) that is needed to be modified for the Black-Scholes formula to fit market prices. Graphing implied volatilities against strike prices for a given expiry yields a skewed \"smile\" instead of the expected flat surface.\n",
        "\n",
        "Next, we shall demonstrate volatility smiles by computing implied volatility to multiple market option prices. For instance, we can fix the maturity, and compute volatilities for different strikes. If we plot a strike versus vol figure , we shall see the smily face there.\n",
        "\n",
        "- For preparation, we first upload \"src/optiondata2.dat\" manually to GitHub. This data is cooked up from some stock model, which will be revealed later.\n",
        "\n",
        "- Change working dir to \"reponame/src\", also needs run once, and comment it out from the second run.\n",
        "\n",
        "- here we import our own python modules and common modules"
      ]
    },
    {
      "metadata": {
        "id": "SDYvTa1fbXer",
        "colab_type": "text"
      },
      "cell_type": "markdown",
      "source": [
        "##Volatility Surface\n",
        "\n",
        "Choosing different $(T,K)$, otype is fixed.\n",
        "\n",
        "Then we call\n",
        "\n",
        "$(T,K)\\mapsto\\hat\\sigma_{T,K}=f^{-1}\\bullet M(T,K;r,S_0,otype)$\n",
        "\n",
        "as volatility surface\n",
        "\n",
        "But with different T, K, there are different IV's. Which one is correct? Which one do we use?\n",
        "\n",
        "Next step: find one volatility that makes sense to our data - calibration\n",
        "\n"
      ]
    },
    {
      "metadata": {
        "id": "v6Vp6jzKcXBY",
        "colab_type": "text"
      },
      "cell_type": "markdown",
      "source": [
        "##Question\n",
        "fix underlying asset, there should be one volatility $\\sigma$. But option data gives many $\\hat\\sigma_{T,K}$. Which one is the \"correct\" one?\n",
        "\n",
        "This leads to calibration"
      ]
    },
    {
      "metadata": {
        "id": "ODxo6tHic3pn",
        "colab_type": "text"
      },
      "cell_type": "markdown",
      "source": [
        "#Model Calibration\n",
        "\n",
        "- Model parameter\n",
        "\n",
        "$$\\theta=(\\theta_1,\\theta_2,...,\\theta_m)$$\n",
        "\n",
        "- price engine for n instruments (i.e. options)\n",
        "\n",
        "$$\\theta\\mapsto f_i(\\theta) , i=1,2,...,m$$\n",
        "\n",
        "$$f_i: i^{th} instrument valuation$$\n",
        "\n",
        "- Denote it by\n",
        "\n",
        "$$\\theta\\mapsto f(\\theta)=(f_1(\\theta),...,f_n(\\theta))^T$$\n",
        "\n",
        "- Market price for n instruments\n",
        "\n",
        "$$M=(M_1,...,M_n)^T$$\n",
        "\n",
        "Then calibrated $Model(\\hat\\theta)$ shall be\n",
        "\n",
        "$$\\hat\\theta=argmin_\\theta H(f(\\theta),M)$$\n",
        "\n",
        "(minimize error), where H is some error function:\n",
        "\n",
        "1. $H(x,y)=(\\sum_{i=1}^n w_i |x_i-y_i|^2)^{1/2}$, where $w_i$ is the weight (simplicity it is 1)\n",
        "\n",
        "2.  $H(x,y)=(\\sum_{i=1}^n w_i |\\frac{x_i-y_i}{y_i}|^2)^{1/2}$ --- SSRE\n",
        "\n",
        "3. $H(x,y)=(\\sum_{i=1}^n w_i ln|x_i-y_i|^2)^{1/2}$\n",
        "\n",
        "\n"
      ]
    },
    {
      "metadata": {
        "id": "3Z-Z7G1hi9rD",
        "colab_type": "text"
      },
      "cell_type": "markdown",
      "source": [
        "#Geometric Asian Options\n",
        "\n",
        "- path dependent\n",
        "\n",
        "why do we do calibration? to hedge positions; to use the calibrated $\\hat\\sigma$ into the price engine of the exotic option, and compare with the fair price, and create arbitrage opportunity\n",
        "\n",
        "- i.e. an Asian option\n",
        "\n"
      ]
    },
    {
      "metadata": {
        "id": "kF6XG513aHrC",
        "colab_type": "text"
      },
      "cell_type": "markdown",
      "source": [
        "#Need to Know\n",
        "\n",
        "- Read data: ex. download stock prices\n",
        "\n",
        "#Think\n",
        "\n",
        "- Volatility Smile: what types of stocks give good smiles (smooth)? bad smiles (zigzag)?"
      ]
    },
    {
      "metadata": {
        "id": "HH6Bj1mralwZ",
        "colab_type": "text"
      },
      "cell_type": "markdown",
      "source": [
        "#Homework\n",
        "\n",
        "bsm calibration: a few things\n",
        "\n",
        "- today is date, so is maturity; then we should know how to compute the maturity time\n",
        "\n",
        "geometric asian options\n",
        "\n",
        "- import the sde_1d_v01.py and contract_v01.py for the problem\n",
        "\n",
        "- how do we create geometric asian price? (lecture note before the homework - uploaded tomorrow)"
      ]
    }
  ]
}