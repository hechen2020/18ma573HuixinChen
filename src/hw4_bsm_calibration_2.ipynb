{
  "nbformat": 4,
  "nbformat_minor": 0,
  "metadata": {
    "colab": {
      "name": "hw4_bsm_calibration_2.ipynb",
      "version": "0.3.2",
      "provenance": [],
      "include_colab_link": true
    },
    "kernelspec": {
      "name": "python3",
      "display_name": "Python 3"
    }
  },
  "cells": [
    {
      "cell_type": "markdown",
      "metadata": {
        "id": "view-in-github",
        "colab_type": "text"
      },
      "source": [
        "<a href=\"https://colab.research.google.com/github/hechen2020/19ma573HuixinChen/blob/master/src/hw4_bsm_calibration_2.ipynb\" target=\"_parent\"><img src=\"https://colab.research.google.com/assets/colab-badge.svg\" alt=\"Open In Colab\"/></a>"
      ]
    },
    {
      "metadata": {
        "id": "rULOYWJrdGe8",
        "colab_type": "text"
      },
      "cell_type": "markdown",
      "source": [
        "The objective is to get familiar with model calibration.\n",
        "- download call today's option prices of your favorite stock with maturity $T_1$ and several near the money strikes $(K_1, \\ldots, K_n)$.\n",
        "- compute IV with your bsm price engine for each option price. You are going to use USD Libor 3-month for your interest rate input. \n",
        "- plot a figure of strike v.s. IV. Do you find any volatility smile? \n",
        "- calibrate bsm volatility for the option prices, denote it by $\\hat \\sigma$. You may use any error function for the calibration purpose.\n",
        "- reproduce option prices using your price engine with calibrated volatility, then compare how close they are to the market prices.\n"
      ]
    },
    {
      "metadata": {
        "id": "VbfshY57gKFZ",
        "colab_type": "text"
      },
      "cell_type": "markdown",
      "source": [
        "Options Chosen\n",
        "\n",
        "- Options for Amazon AMZN on 02/05/2019\n",
        "\n",
        "- Market Price 1658.81\n",
        "\n",
        "- Maturity on 04/18/2019"
      ]
    },
    {
      "metadata": {
        "id": "r2qCZoC8k-Hj",
        "colab_type": "code",
        "outputId": "ea85eed7-9821-4467-82bb-b34ab66cdc6b",
        "colab": {
          "base_uri": "https://localhost:8080/",
          "height": 134
        }
      },
      "cell_type": "code",
      "source": [
        "'''======\n",
        "run once, then comment it off, and run again\n",
        "========'''\n",
        "#!git clone https://github.com/hechen2020/19ma573HuixinChen.git"
      ],
      "execution_count": 1,
      "outputs": [
        {
          "output_type": "stream",
          "text": [
            "Cloning into '19ma573HuixinChen'...\n",
            "remote: Enumerating objects: 41, done.\u001b[K\n",
            "remote: Counting objects: 100% (41/41), done.\u001b[K\n",
            "remote: Compressing objects: 100% (41/41), done.\u001b[K\n",
            "remote: Total 217 (delta 12), reused 0 (delta 0), pack-reused 176\u001b[K\n",
            "Receiving objects: 100% (217/217), 305.52 KiB | 7.27 MiB/s, done.\n",
            "Resolving deltas: 100% (71/71), done.\n"
          ],
          "name": "stdout"
        }
      ]
    },
    {
      "metadata": {
        "id": "6xgM87R4pz9V",
        "colab_type": "code",
        "outputId": "8f605645-880e-4c52-cf1c-a5e343f1c8d6",
        "colab": {
          "base_uri": "https://localhost:8080/",
          "height": 34
        }
      },
      "cell_type": "code",
      "source": [
        "#cd ./19ma573HuixinChen/src/"
      ],
      "execution_count": 1,
      "outputs": [
        {
          "output_type": "stream",
          "text": [
            "/content/19ma573HuixinChen/src\n"
          ],
          "name": "stdout"
        }
      ]
    },
    {
      "metadata": {
        "id": "-RvWVRtDp7j4",
        "colab_type": "code",
        "colab": {}
      },
      "cell_type": "code",
      "source": [
        "from contract_v01 import VanillaOption\n",
        "from sde_1d_v01 import Gbm_1d\n",
        "import numpy as np\n",
        "import matplotlib.pyplot as plt\n",
        "import scipy.optimize as so"
      ],
      "execution_count": 0,
      "outputs": []
    },
    {
      "metadata": {
        "id": "P5iIxFcJj5jv",
        "colab_type": "code",
        "outputId": "a472d6ec-0292-4357-c751-f32322f53951",
        "colab": {
          "base_uri": "https://localhost:8080/",
          "height": 34
        }
      },
      "cell_type": "code",
      "source": [
        "'''=========\n",
        "Time length\n",
        "============='''\n",
        "today = np.datetime64('2019-02-05')\n",
        "maturity = np.datetime64('2019-04-18')\n",
        "time_to_maturity_days = maturity - today\n",
        "\n",
        "time_to_maturity_years = time_to_maturity_days/np.timedelta64(1,'D')/365\n",
        "print('--->>>>>time to maturity in years is ' + str(time_to_maturity_years))"
      ],
      "execution_count": 3,
      "outputs": [
        {
          "output_type": "stream",
          "text": [
            "--->>>>>time to maturity in years is 0.19726027397260273\n"
          ],
          "name": "stdout"
        }
      ]
    },
    {
      "metadata": {
        "id": "EuztiKEwpruF",
        "colab_type": "code",
        "outputId": "32d486c9-2236-4056-b02a-0cde7518f1ef",
        "colab": {
          "base_uri": "https://localhost:8080/",
          "height": 386
        }
      },
      "cell_type": "code",
      "source": [
        "'''======\n",
        "Read data\n",
        "========='''\n",
        "#Read four-column data\n",
        "#columns are otype, maturity, strike, option_price\n",
        "\n",
        "#call options\n",
        "np_option_data1 = np.loadtxt('option_list21.dat', comments='#', delimiter=',')\n",
        "\n",
        "print('>>>>>>option_type, maturity, strike, option_price')\n",
        "print(np_option_data1)\n",
        "\n",
        "\n",
        "#put options\n",
        "np_option_data2 = np.loadtxt('option_list22.dat', comments='#', delimiter=',')\n",
        "\n",
        "print('>>>>>>option_type, maturity, strike, option_price')\n",
        "print(np_option_data2)"
      ],
      "execution_count": 4,
      "outputs": [
        {
          "output_type": "stream",
          "text": [
            ">>>>>>option_type, maturity, strike, option_price\n",
            "[[1.00000000e+00 1.97260274e-01 1.62500000e+03 1.03450000e+02]\n",
            " [1.00000000e+00 1.97260274e-01 1.63500000e+03 9.75000000e+01]\n",
            " [1.00000000e+00 1.97260274e-01 1.64000000e+03 9.40000000e+01]\n",
            " [1.00000000e+00 1.97260274e-01 1.64500000e+03 9.26000000e+01]\n",
            " [1.00000000e+00 1.97260274e-01 1.65500000e+03 8.60000000e+01]\n",
            " [1.00000000e+00 1.97260274e-01 1.66000000e+03 8.37200000e+01]\n",
            " [1.00000000e+00 1.97260274e-01 1.66500000e+03 8.15000000e+01]\n",
            " [1.00000000e+00 1.97260274e-01 1.67500000e+03 7.75200000e+01]\n",
            " [1.00000000e+00 1.97260274e-01 1.68000000e+03 7.33600000e+01]\n",
            " [1.00000000e+00 1.97260274e-01 1.68500000e+03 7.47500000e+01]]\n",
            ">>>>>>option_type, maturity, strike, option_price\n",
            "[[-1.00000000e+00  1.97260274e-01  1.62500000e+03  6.09200000e+01]\n",
            " [-1.00000000e+00  1.97260274e-01  1.63500000e+03  6.55200000e+01]\n",
            " [-1.00000000e+00  1.97260274e-01  1.64000000e+03  6.76400000e+01]\n",
            " [-1.00000000e+00  1.97260274e-01  1.64500000e+03  6.98800000e+01]\n",
            " [-1.00000000e+00  1.97260274e-01  1.65500000e+03  7.41500000e+01]\n",
            " [-1.00000000e+00  1.97260274e-01  1.66000000e+03  7.69200000e+01]\n",
            " [-1.00000000e+00  1.97260274e-01  1.66500000e+03  7.85000000e+01]\n",
            " [-1.00000000e+00  1.97260274e-01  1.67500000e+03  8.56500000e+01]\n",
            " [-1.00000000e+00  1.97260274e-01  1.68000000e+03  8.64500000e+01]\n",
            " [-1.00000000e+00  1.97260274e-01  1.68500000e+03  9.14500000e+01]]\n"
          ],
          "name": "stdout"
        }
      ]
    },
    {
      "metadata": {
        "id": "othOAAwh5cVL",
        "colab_type": "code",
        "colab": {}
      },
      "cell_type": "code",
      "source": [
        "'''==============\n",
        "below are from the market data for underlying process\n",
        "================='''\n",
        "gbm1 = Gbm_1d(\n",
        "    init_state = 1658.81, #market price for Amazon stock\n",
        "    drift_ratio = 0.0273438, #3-month LIBOR rate\n",
        "    vol_ratio = .1 #initial guess of volatility\n",
        ")"
      ],
      "execution_count": 0,
      "outputs": []
    },
    {
      "metadata": {
        "id": "P6jqh8EX7sZl",
        "colab_type": "code",
        "outputId": "dd4a724c-7ed2-4d2b-db4c-ffe1857dee43",
        "colab": {
          "base_uri": "https://localhost:8080/",
          "height": 87
        }
      },
      "cell_type": "code",
      "source": [
        "num_row = np_option_data1.shape[0]\n",
        "option_list1 = []\n",
        "option_list2 = []\n",
        "\n",
        "for i in range(num_row):\n",
        "    optioni = VanillaOption(\n",
        "        otype = np_option_data1[i,0],\n",
        "        maturity = np_option_data1[i,1],\n",
        "        strike = np_option_data1[i,2],\n",
        "        market_price = np_option_data1[i,3]\n",
        "    )\n",
        "    option_list1.append(optioni)\n",
        "for i in range(num_row):\n",
        "    optioni = VanillaOption(\n",
        "        otype = np_option_data2[i,0],\n",
        "        maturity = np_option_data2[i,1],\n",
        "        strike = np_option_data2[i,2],\n",
        "        market_price = np_option_data2[i,3]\n",
        "    )\n",
        "    option_list2.append(optioni)\n",
        "      \n",
        "\n",
        "#testing\n",
        "print(option_list1)\n",
        "print(option_list2)\n",
        "print(option_list1[0].market_price)"
      ],
      "execution_count": 6,
      "outputs": [
        {
          "output_type": "stream",
          "text": [
            "[<contract_v01.VanillaOption object at 0x7fd40d605320>, <contract_v01.VanillaOption object at 0x7fd40d605358>, <contract_v01.VanillaOption object at 0x7fd40d605390>, <contract_v01.VanillaOption object at 0x7fd40d6053c8>, <contract_v01.VanillaOption object at 0x7fd40d605400>, <contract_v01.VanillaOption object at 0x7fd40d605438>, <contract_v01.VanillaOption object at 0x7fd40d605470>, <contract_v01.VanillaOption object at 0x7fd40d6054a8>, <contract_v01.VanillaOption object at 0x7fd40d6054e0>, <contract_v01.VanillaOption object at 0x7fd40d605518>]\n",
            "[<contract_v01.VanillaOption object at 0x7fd40d6052b0>, <contract_v01.VanillaOption object at 0x7fd40d605588>, <contract_v01.VanillaOption object at 0x7fd40d6055c0>, <contract_v01.VanillaOption object at 0x7fd40d6055f8>, <contract_v01.VanillaOption object at 0x7fd40d605630>, <contract_v01.VanillaOption object at 0x7fd40d605668>, <contract_v01.VanillaOption object at 0x7fd40d6056a0>, <contract_v01.VanillaOption object at 0x7fd40d6056d8>, <contract_v01.VanillaOption object at 0x7fd40d605710>, <contract_v01.VanillaOption object at 0x7fd40d605748>]\n",
            "103.45\n"
          ],
          "name": "stdout"
        }
      ]
    },
    {
      "metadata": {
        "id": "6DRrGfiXz42I",
        "colab_type": "code",
        "colab": {}
      },
      "cell_type": "code",
      "source": [
        "np_option_data12 = np.append(np_option_data1, np.zeros([num_row,1]), axis = 1)\n",
        "np_option_data22 = np.append(np_option_data2, np.zeros([num_row,1]), axis = 1)"
      ],
      "execution_count": 0,
      "outputs": []
    },
    {
      "metadata": {
        "id": "k_NCGmOt7xsz",
        "colab_type": "code",
        "colab": {}
      },
      "cell_type": "code",
      "source": [
        "'''==========\n",
        "define a method for error function\n",
        "============'''\n",
        "\n",
        "def error_function(vol, gbm, option):\n",
        "  gbm.vol_ratio = vol\n",
        "  return np.sqrt(((option.market_price - gbm.bsm_price(option))/gbm.bsm_price(option))**2)#ssre\n",
        "\n",
        "'''==========\n",
        "define a method to seek for an implied volatility\n",
        "============'''\n",
        "\n",
        "def implied_volatility(gbm, option):\n",
        "  init_vol = .1 #initial guess\n",
        "  return so.fmin(error_function, init_vol, args = (gbm, option), disp = 0)[0]"
      ],
      "execution_count": 0,
      "outputs": []
    },
    {
      "metadata": {
        "id": "yscW2xDY0XcP",
        "colab_type": "code",
        "outputId": "e5b5fcc7-909d-4e15-d3fa-559bf28b6d72",
        "colab": {
          "base_uri": "https://localhost:8080/",
          "height": 706
        }
      },
      "cell_type": "code",
      "source": [
        "#compute implied vols and add them into the last column\n",
        "for i in range(num_row):\n",
        "  np_option_data12[i,4] = implied_volatility(gbm1, option_list1[i])\n",
        "  np_option_data22[i,4] = implied_volatility(gbm1, option_list2[i])\n",
        "  \n",
        "print('>>>>>>otype, maturity, strike, option_price, implied vol')\n",
        "print(np_option_data12)\n",
        "print(np_option_data22)"
      ],
      "execution_count": 9,
      "outputs": [
        {
          "output_type": "stream",
          "text": [
            ">>>>>>otype, maturity, strike, option_price, implied vol\n",
            "[[1.00000000e+00 1.97260274e-01 1.62500000e+03 1.03450000e+02\n",
            "  2.77265625e-01]\n",
            " [1.00000000e+00 1.97260274e-01 1.63500000e+03 9.75000000e+01\n",
            "  2.75546875e-01]\n",
            " [1.00000000e+00 1.97260274e-01 1.64000000e+03 9.40000000e+01\n",
            "  2.72656250e-01]\n",
            " [1.00000000e+00 1.97260274e-01 1.64500000e+03 9.26000000e+01\n",
            "  2.76875000e-01]\n",
            " [1.00000000e+00 1.97260274e-01 1.65500000e+03 8.60000000e+01\n",
            "  2.71640625e-01]\n",
            " [1.00000000e+00 1.97260274e-01 1.66000000e+03 8.37200000e+01\n",
            "  2.72265625e-01]\n",
            " [1.00000000e+00 1.97260274e-01 1.66500000e+03 8.15000000e+01\n",
            "  2.72968750e-01]\n",
            " [1.00000000e+00 1.97260274e-01 1.67500000e+03 7.75200000e+01\n",
            "  2.75390625e-01]\n",
            " [1.00000000e+00 1.97260274e-01 1.68000000e+03 7.33600000e+01\n",
            "  2.68906250e-01]\n",
            " [1.00000000e+00 1.97260274e-01 1.68500000e+03 7.47500000e+01\n",
            "  2.81250000e-01]]\n",
            "[[-1.00000000e+00  1.97260274e-01  1.62500000e+03  6.09200000e+01\n",
            "   2.77343750e-01]\n",
            " [-1.00000000e+00  1.97260274e-01  1.63500000e+03  6.55200000e+01\n",
            "   2.77734375e-01]\n",
            " [-1.00000000e+00  1.97260274e-01  1.64000000e+03  6.76400000e+01\n",
            "   2.77031250e-01]\n",
            " [-1.00000000e+00  1.97260274e-01  1.64500000e+03  6.98800000e+01\n",
            "   2.76640625e-01]\n",
            " [-1.00000000e+00  1.97260274e-01  1.65500000e+03  7.41500000e+01\n",
            "   2.74570313e-01]\n",
            " [-1.00000000e+00  1.97260274e-01  1.66000000e+03  7.69200000e+01\n",
            "   2.75468750e-01]\n",
            " [-1.00000000e+00  1.97260274e-01  1.66500000e+03  7.85000000e+01\n",
            "   2.72187500e-01]\n",
            " [-1.00000000e+00  1.97260274e-01  1.67500000e+03  8.56500000e+01\n",
            "   2.78593750e-01]\n",
            " [-1.00000000e+00  1.97260274e-01  1.68000000e+03  8.64500000e+01\n",
            "   2.72109375e-01]\n",
            " [-1.00000000e+00  1.97260274e-01  1.68500000e+03  9.14500000e+01\n",
            "   2.79804688e-01]]\n"
          ],
          "name": "stdout"
        }
      ]
    },
    {
      "metadata": {
        "id": "kGFlszcWzLKc",
        "colab_type": "code",
        "outputId": "439b905d-33dc-4714-b38f-ec0b9632345a",
        "colab": {
          "base_uri": "https://localhost:8080/",
          "height": 361
        }
      },
      "cell_type": "code",
      "source": [
        "plt.plot(np_option_data12[:,2], np_option_data12[:,4], label = 'call implied volatility')\n",
        "plt.plot(np_option_data22[:,2], np_option_data22[:,4], label = 'put implied volatility')\n",
        "plt.ylabel('implied vol')\n",
        "plt.xlabel('strike')\n",
        "plt.legend();"
      ],
      "execution_count": 10,
      "outputs": [
        {
          "output_type": "display_data",
          "data": {
            "image/png": "[encoded data removed]",
            "text/plain": [
              "<Figure size 576x396 with 1 Axes>"
            ]
          },
          "metadata": {
            "tags": []
          }
        }
      ]
    },
    {
      "metadata": {
        "id": "AxxcuBobk7Y9",
        "colab_type": "text"
      },
      "cell_type": "markdown",
      "source": [
        "somewhat of a smile, with many ups and downs"
      ]
    },
    {
      "metadata": {
        "id": "4f9VToIC8nMF",
        "colab_type": "code",
        "colab": {}
      },
      "cell_type": "code",
      "source": [
        "'''==========\n",
        "define a method to seek for a calibrated volatility\n",
        "============'''\n",
        "\n",
        "def bsm_calibration(gbm, option_list):\n",
        "  init_vol = .1 #initial guess\n",
        "  return so.fmin(error_function, init_vol, \n",
        "                 args = (gbm, option_list[i]), disp = 0)[0]\n"
      ],
      "execution_count": 0,
      "outputs": []
    },
    {
      "metadata": {
        "id": "JZjDiCSSCRug",
        "colab_type": "code",
        "outputId": "a091faa6-9716-4705-e11a-c5a1220003d2",
        "colab": {
          "base_uri": "https://localhost:8080/",
          "height": 50
        }
      },
      "cell_type": "code",
      "source": [
        "calibrated_volatility1 = bsm_calibration(gbm1,option_list1)\n",
        "print('>>>>>>>> calibrated volatility for call is ' + str(calibrated_volatility1))\n",
        "\n",
        "calibrated_volatility2 = bsm_calibration(gbm1,option_list2)\n",
        "print('>>>>>>>> calibrated volatility for put is ' + str(calibrated_volatility2))"
      ],
      "execution_count": 12,
      "outputs": [
        {
          "output_type": "stream",
          "text": [
            ">>>>>>>> calibrated volatility for call is 0.28125000000000067\n",
            ">>>>>>>> calibrated volatility for put is 0.2798046875000007\n"
          ],
          "name": "stdout"
        }
      ]
    },
    {
      "metadata": {
        "id": "bpuOyjZiHPDJ",
        "colab_type": "code",
        "outputId": "cbc9e3b6-a214-4aa1-cdeb-c4b855a0cd1f",
        "colab": {
          "base_uri": "https://localhost:8080/",
          "height": 202
        }
      },
      "cell_type": "code",
      "source": [
        "gbm1.vol_ratio = calibrated_volatility1\n",
        "\n",
        "#find calibrated option price\n",
        "option_list1_calibrated_price = [gbm1.bsm_price(option_list1[i]) for i in range(len(option_list1))]\n",
        "print('>>>>>>>>> this is option price calculated from calibrated vol')\n",
        "option_list1_calibrated_price"
      ],
      "execution_count": 13,
      "outputs": [
        {
          "output_type": "stream",
          "text": [
            ">>>>>>>>> this is option price calculated from calibrated vol\n"
          ],
          "name": "stdout"
        },
        {
          "output_type": "execute_result",
          "data": {
            "text/plain": [
              "[104.5828925640966,\n",
              " 99.13090024934627,\n",
              " 96.47742845216953,\n",
              " 93.87225182526606,\n",
              " 88.80644996348462,\n",
              " 86.34558786475816,\n",
              " 83.93254812961652,\n",
              " 79.24916528763822,\n",
              " 76.97837231009873,\n",
              " 74.75450318116623]"
            ]
          },
          "metadata": {
            "tags": []
          },
          "execution_count": 13
        }
      ]
    },
    {
      "metadata": {
        "id": "A_3NzFPSJYZX",
        "colab_type": "code",
        "outputId": "65e13427-fe31-488d-b228-38a06c799ce4",
        "colab": {
          "base_uri": "https://localhost:8080/",
          "height": 361
        }
      },
      "cell_type": "code",
      "source": [
        "x_co = [option_list1[i].strike for i in range(len(option_list1))]\n",
        "y_co = [option_list1[i].market_price for i in range(len(option_list1))]\n",
        "plt.plot(x_co, y_co, 'o', label='market price')\n",
        "\n",
        "y_co = option_list1_calibrated_price\n",
        "plt.plot(x_co, y_co, label = 'calib price')\n",
        "\n",
        "plt.ylabel('option price')\n",
        "plt.xlabel('strike with fixed maturity')\n",
        "plt.legend();"
      ],
      "execution_count": 14,
      "outputs": [
        {
          "output_type": "display_data",
          "data": {
            "image/png": "[encoded data removed]",
            "text/plain": [
              "<Figure size 576x396 with 1 Axes>"
            ]
          },
          "metadata": {
            "tags": []
          }
        }
      ]
    },
    {
      "metadata": {
        "id": "8zqBHnKlLAuz",
        "colab_type": "code",
        "outputId": "67a3a8e6-664f-4d49-b4fa-636e3a3464d5",
        "colab": {
          "base_uri": "https://localhost:8080/",
          "height": 202
        }
      },
      "cell_type": "code",
      "source": [
        "gbm1.vol_ratio = calibrated_volatility2\n",
        "\n",
        "#find calibrated option price\n",
        "option_list2_calibrated_price = [gbm1.bsm_price(option_list2[i]) for i in range(len(option_list2))]\n",
        "print('>>>>>>>>> this is option price calculated from calibrated vol')\n",
        "option_list2_calibrated_price"
      ],
      "execution_count": 15,
      "outputs": [
        {
          "output_type": "stream",
          "text": [
            ">>>>>>>>> this is option price calculated from calibrated vol\n"
          ],
          "name": "stdout"
        },
        {
          "output_type": "execute_result",
          "data": {
            "text/plain": [
              "[61.621987448544814,\n",
              " 66.11120632699465,\n",
              " 68.42870557411527,\n",
              " 70.79474585569324,\n",
              " 75.672119380102,\n",
              " 78.18321662701737,\n",
              " 80.74238384844739,\n",
              " 86.00415468941515,\n",
              " 88.70630585719982,\n",
              " 91.45562334231636]"
            ]
          },
          "metadata": {
            "tags": []
          },
          "execution_count": 15
        }
      ]
    },
    {
      "metadata": {
        "id": "q-nEDv7yLIAA",
        "colab_type": "code",
        "outputId": "8a835595-4180-4fe7-fd9d-9bc15c6d2e67",
        "colab": {
          "base_uri": "https://localhost:8080/",
          "height": 361
        }
      },
      "cell_type": "code",
      "source": [
        "x_co = [option_list2[i].strike for i in range(len(option_list2))]\n",
        "y_co = [option_list2[i].market_price for i in range(len(option_list2))]\n",
        "plt.plot(x_co, y_co, 'o', label='market price')\n",
        "\n",
        "y_co = option_list2_calibrated_price\n",
        "plt.plot(x_co, y_co, label = 'calib price')\n",
        "\n",
        "plt.ylabel('option price')\n",
        "plt.xlabel('strike with fixed maturity')\n",
        "plt.legend();"
      ],
      "execution_count": 16,
      "outputs": [
        {
          "output_type": "display_data",
          "data": {
            "image/png": "[encoded data removed]",
            "text/plain": [
              "<Figure size 576x396 with 1 Axes>"
            ]
          },
          "metadata": {
            "tags": []
          }
        }
      ]
    },
    {
      "metadata": {
        "id": "gutilbf0lDtU",
        "colab_type": "text"
      },
      "cell_type": "markdown",
      "source": [
        "The calibrated prices are closer this time to the market prices, reason?"
      ]
    },
    {
      "metadata": {
        "id": "QsZkbcgIlE0n",
        "colab_type": "code",
        "colab": {}
      },
      "cell_type": "code",
      "source": [
        ""
      ],
      "execution_count": 0,
      "outputs": []
    }
  ]
}
