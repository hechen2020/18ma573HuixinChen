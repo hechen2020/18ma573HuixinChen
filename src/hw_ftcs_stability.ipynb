{
  "nbformat": 4,
  "nbformat_minor": 0,
  "metadata": {
    "colab": {
      "name": "hw_ftcs_stability.ipynb",
      "version": "0.3.2",
      "provenance": [],
      "include_colab_link": true
    },
    "kernelspec": {
      "name": "python3",
      "display_name": "Python 3"
    }
  },
  "cells": [
    {
      "cell_type": "markdown",
      "metadata": {
        "id": "view-in-github",
        "colab_type": "text"
      },
      "source": [
        "<a href=\"https://colab.research.google.com/github/hechen2020/19ma573HuixinChen/blob/master/src/hw_ftcs_stability.ipynb\" target=\"_parent\"><img src=\"https://colab.research.google.com/assets/colab-badge.svg\" alt=\"Open In Colab\"/></a>"
      ]
    },
    {
      "metadata": {
        "id": "lTtPIqRDfg4v",
        "colab_type": "text"
      },
      "cell_type": "markdown",
      "source": [
        "Our heat equation is\n",
        "\n",
        "$$u_t = u_{xx}, t\\geq0; x\\in\\mathbb{R}$$\n",
        "\n",
        "with initial condition\n",
        "\n",
        "$$u(x,0)=\\phi(x), x\\in\\mathbb{R}$$\n",
        "\n",
        "In the above, $\\phi$ is a given function and $u$ is unknown function we seek for. For instance, let's say $\\phi$ is a continuous function given by\n",
        "\n",
        "$$\\phi(x)=cos(\\pi x)I_{(-1/2, +1/2)}(x)$$\n",
        "\n",
        "**todo**\n",
        "\n",
        "- plot the function $\\phi$\n",
        "- perform FTCS with grid $(\\Delta x = .5, \\Delta t = .25)$ for $n=0,1,2,3$.\n",
        "- prove FTCS is instable, i.e. show that\n",
        "\n",
        "$$max_j|u_j^n|\\rightarrow\\infty, n\\rightarrow\\infty$$\n",
        "\n",
        "- show that if $\\Delta t <1/8$, then FTCS is stable, i.e.\n",
        "\n",
        "$$max_{j,n}|u_j^n|<\\infty$$"
      ]
    },
    {
      "metadata": {
        "id": "plsLqrUOf0K8",
        "colab_type": "code",
        "colab": {}
      },
      "cell_type": "code",
      "source": [
        "import numpy as np\n",
        "import matplotlib.pyplot as plt"
      ],
      "execution_count": 0,
      "outputs": []
    },
    {
      "metadata": {
        "id": "3dylatI9fCfN",
        "colab_type": "text"
      },
      "cell_type": "markdown",
      "source": [
        "**plot $\\phi$**"
      ]
    },
    {
      "metadata": {
        "id": "5HcHBcnXfbVb",
        "colab_type": "code",
        "colab": {}
      },
      "cell_type": "code",
      "source": [
        "def phi(x):\n",
        "  return np.cos(np.pi * x) * (x>-1/2) * (x<1/2)"
      ],
      "execution_count": 0,
      "outputs": []
    },
    {
      "metadata": {
        "id": "0qV3SikTe_5u",
        "colab_type": "code",
        "colab": {
          "base_uri": "https://localhost:8080/",
          "height": 347
        },
        "outputId": "36a659c5-92a9-472e-9eb2-f91844b1c5ac"
      },
      "cell_type": "code",
      "source": [
        "x = np.linspace(-1,1)\n",
        "plt.plot(x,phi(x))\n",
        "plt.show()"
      ],
      "execution_count": 14,
      "outputs": [
        {
          "output_type": "display_data",
          "data": {
            "image/png": "[encoded data removed]",
            "text/plain": [
              "<Figure size 576x396 with 1 Axes>"
            ]
          },
          "metadata": {
            "tags": []
          }
        }
      ]
    },
    {
      "metadata": {
        "id": "VGlZMMjzfuVA",
        "colab_type": "code",
        "colab": {}
      },
      "cell_type": "code",
      "source": [
        "def ftcs(a,b,nt,dx,dt):\n",
        "  nx = int((b-a)/dx)\n",
        "  rho = dt/(dx**2)#assume alpha = 1\n",
        "  u = np.zeros((nt,nx))\n",
        "  \n",
        "  for x in range(0,nx):\n",
        "    u[0][x] = phi(a+x*dx)\n",
        "    \n",
        "  for t in range(0,nt-1):\n",
        "    for x in range(1,nx-1):\n",
        "      u[t+1][x] = rho*(u[t][x-1]) + (1-2*rho)*(u[t][x]) + rho*(u[t][x+1])\n",
        "      \n",
        "      \n",
        "  return u"
      ],
      "execution_count": 0,
      "outputs": []
    },
    {
      "metadata": {
        "id": "OV4z8WdkgVVy",
        "colab_type": "code",
        "colab": {
          "base_uri": "https://localhost:8080/",
          "height": 84
        },
        "outputId": "40208051-dd57-460e-cbf4-255d5c5df7e0"
      },
      "cell_type": "code",
      "source": [
        "u = ftcs(-2,2.5,4,.5,.25)\n",
        "print(u)"
      ],
      "execution_count": 16,
      "outputs": [
        {
          "output_type": "stream",
          "text": [
            "[[ 0. -0. -0.  0.  1.  0. -0. -0.  0.]\n",
            " [ 0.  0.  0.  1. -1.  1.  0.  0.  0.]\n",
            " [ 0.  0.  1. -2.  3. -2.  1.  0.  0.]\n",
            " [ 0.  1. -3.  6. -7.  6. -3.  1.  0.]]\n"
          ],
          "name": "stdout"
        }
      ]
    },
    {
      "metadata": {
        "id": "VoJXndK0iFwo",
        "colab_type": "text"
      },
      "cell_type": "markdown",
      "source": [
        "**prove FTCS instable**"
      ]
    },
    {
      "metadata": {
        "id": "Sw7Hc6FSkKbk",
        "colab_type": "text"
      },
      "cell_type": "markdown",
      "source": [
        "*still unsure*\n",
        "\n",
        "given $\\Delta x = 0.5$, $\\Delta t = 0.25$, we have\n",
        "\n",
        "$$\\rho = \\frac{0.25}{0.5^2} = 1$$\n",
        "\n",
        "so our weights for $u_{j-1}^n$,  $u_{j}^n$, and  $u_{j+1}^n$ to calculate $u_j^{n+1}$ are $1$, $-1$, and $1$ respectively.\n",
        "\n",
        "with the initial condition $\\phi (x) = cos(\\pi x)I_{(-1/2,1/2)}(x)$, we get for the first row at $t=0$:\n",
        "\n",
        "$$(... \\quad 0 \\quad 0 \\quad ... \\quad 0 \\quad 1 \\quad 0 \\quad ... \\quad 0 \\quad 0 \\quad ..)$$\n",
        "\n",
        "where the maximum entry is at $x=0$ and $u_0^0=1$\n",
        "\n",
        "we know from the formula\n",
        "\n",
        "$$u_j^{n+1}=u_{j-1}^n-u_j^n+u_{j+1}^n$$\n",
        "\n",
        "that the second row will consist of entries $1$, $-1$ and $1$ around the center, i.e., we get for the second row\n",
        "\n",
        "$$(... \\quad 0 \\quad ... \\quad 0 \\quad 1 \\quad -1 \\quad 1 \\quad 0 \\quad ... \\quad 0 \\quad ...)$$\n",
        "\n",
        "where the positive values are next to the negative value, and the center becomes negative.\n",
        "\n",
        "we can see from the weights, that the entry for same 0-th position one row up is always going to be the opposite sign, i.e.,\n",
        "\n",
        "$$sgn(u_0^{n+1}) = -sgn(u_0^n)$$\n",
        "\n",
        "and because the first non-zero value started at $x=0$ position, for each row the maximum absolute value is at the center, i.e.,\n",
        "\n",
        "$$max_j|u_j^n| = |u_0^n|,\\quad \\forall n$$\n",
        "\n",
        "using row two entries, we get for row three\n",
        "\n",
        "$$(... \\quad 0 \\quad 0 \\quad 1 \\quad -2 \\quad 3 \\quad -2 \\quad 1 \\quad 0 \\quad 0 \\quad ...)$$\n",
        "\n",
        "where we observe the magnitude of the center is increasing at an increasing rate, since the neighboring entries are also increasing in magnitude. And due the the opposite sign of neighboring elements and corresponding weights, the magnitude will keep increasing, and thus\n",
        "\n",
        "$$max_j|u_j^n|\\rightarrow\\infty, \\quad as \\quad n\\rightarrow\\infty$$\n"
      ]
    },
    {
      "metadata": {
        "id": "Xpy-862VTAvW",
        "colab_type": "text"
      },
      "cell_type": "markdown",
      "source": [
        "**show if $\\Delta t < 1/8$, then FTCS is stable**"
      ]
    },
    {
      "metadata": {
        "id": "gDoNNaXBpONQ",
        "colab_type": "code",
        "colab": {
          "base_uri": "https://localhost:8080/",
          "height": 101
        },
        "outputId": "64e195f9-9e91-485c-e6e8-bc704e7ed1dd"
      },
      "cell_type": "code",
      "source": [
        "v = ftcs(-2,2.5,5,.5,.125)\n",
        "print(v)"
      ],
      "execution_count": 17,
      "outputs": [
        {
          "output_type": "stream",
          "text": [
            "[[ 0.    -0.    -0.     0.     1.     0.    -0.    -0.     0.   ]\n",
            " [ 0.     0.     0.     0.5    0.     0.5    0.     0.     0.   ]\n",
            " [ 0.     0.     0.25   0.     0.5    0.     0.25   0.     0.   ]\n",
            " [ 0.     0.125  0.     0.375  0.     0.375  0.     0.125  0.   ]\n",
            " [ 0.     0.     0.25   0.     0.375  0.     0.25   0.     0.   ]]\n"
          ],
          "name": "stdout"
        }
      ]
    },
    {
      "metadata": {
        "id": "KOCwT-j7cUxS",
        "colab_type": "text"
      },
      "cell_type": "markdown",
      "source": [
        "visually using $\\rho$ instead of numbers:\n",
        "\n",
        "\\begin{bmatrix}\n",
        "    ... & 0 & s^2 & 2s(1-2s) & 2s^2+(1-2s)^2 & 2s(1-2s) & s^2 & 0 & ... \\\\\n",
        "    ... & ... & 0 & s & 1-2s & s & 0 & ... & ... \\\\\n",
        "    ...&... & ... & 0 & 1 & 0 & ... & ... & ...\n",
        "  \\end{bmatrix}"
      ]
    },
    {
      "metadata": {
        "id": "hfaN67QkTT33",
        "colab_type": "text"
      },
      "cell_type": "markdown",
      "source": [
        "when $\\Delta t < 1/8$, from the formula\n",
        "\n",
        "$$\\rho = \\frac{\\alpha\\Delta t}{\\Delta x ^2}$$\n",
        "\n",
        "with $\\Delta x = 0.5$ and $\\alpha = 1$,\n",
        "\n",
        "$$\\rho < 1/2$$\n",
        "\n",
        "thus our weights are restricted as\n",
        "\n",
        "$$0<\\rho < 1/2$$\n",
        "\n",
        "$$0< 1-2\\rho< 1$$\n",
        "\n",
        "$$0<\\rho <1/2$$\n",
        "\n",
        "for the consecutive entries. We start with our o-th row\n",
        "\n",
        "$$(... 0 0 ... 0 1 0 ... 0 0 ...)$$\n",
        "\n",
        "where all entries are non-negative\n",
        "\n",
        "and since the weights are all positive that sum to 1, the entries of n-th row should be all positive (or 0):\n",
        "\n",
        "$$u_j^n = \\rho u_{j-1}^{n-1} + (1-2\\rho) u_j^{n-1} + \\rho u_{j+1}^{n-1} \\geq 0$$\n",
        "\n",
        "and as the sum of the weights add up to 1, the sum of all entries of n-th row add up to the sum of entries of row (n-1)-th, which is equal to the sum of row 1:\n",
        "\n",
        "$$\\sum_{all j} u_j^n = \\sum_{all j} u_j^{n-1} = ... = \\sum_{all j} u_j^0 = 1$$\n",
        "\n",
        "so\n",
        "\n",
        "$$max_j|u_j^n|\\leq 1$$\n",
        "\n",
        "and the method is stable"
      ]
    },
    {
      "metadata": {
        "id": "tlBfQh-vgv_I",
        "colab_type": "code",
        "colab": {}
      },
      "cell_type": "code",
      "source": [
        ""
      ],
      "execution_count": 0,
      "outputs": []
    }
  ]
}