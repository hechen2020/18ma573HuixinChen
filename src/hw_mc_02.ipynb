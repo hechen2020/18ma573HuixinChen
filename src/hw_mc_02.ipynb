{
  "nbformat": 4,
  "nbformat_minor": 0,
  "metadata": {
    "colab": {
      "name": "hw_mc_02.ipynb",
      "version": "0.3.2",
      "provenance": [],
      "collapsed_sections": [],
      "include_colab_link": true
    },
    "kernelspec": {
      "name": "python3",
      "display_name": "Python 3"
    }
  },
  "cells": [
    {
      "cell_type": "markdown",
      "metadata": {
        "id": "view-in-github",
        "colab_type": "text"
      },
      "source": [
        "<a href=\"https://colab.research.google.com/github/hechen2020/19ma573HuixinChen/blob/master/src/hw_mc_02.ipynb\" target=\"_parent\"><img src=\"https://colab.research.google.com/assets/colab-badge.svg\" alt=\"Open In Colab\"/></a>"
      ]
    },
    {
      "metadata": {
        "id": "7fCs3sM263bR",
        "colab_type": "text"
      },
      "cell_type": "markdown",
      "source": [
        "- Desgin a python function pi_mc(N, m) with\n",
        "  - Input: Two integer numbers $N$ and $m$\n",
        "  - Output: An array of length $m$, where all componets are independent, and computed from ordinary monte carlo method for $\\pi$ with $N$ simulations (random shots).\n",
        "- For $N \\in \\{2^n: n = 5, \\ldots, 10\\}$: Run pi_mc(N, 100) and find its variance\n",
        "- Plot log-log chart for $N \\to RMSE(N)$ using the array above and find convergence rate\n",
        "- Can you propose a deterministic approximation to $\\pi$?"
      ]
    },
    {
      "metadata": {
        "id": "uRRWcdOQ7nYt",
        "colab_type": "code",
        "colab": {}
      },
      "cell_type": "code",
      "source": [
        "import numpy as np\n",
        "from scipy import stats\n",
        "from scipy.stats import norm\n",
        "import matplotlib.pyplot as plt\n",
        "import seaborn as sns\n",
        "import array"
      ],
      "execution_count": 0,
      "outputs": []
    },
    {
      "metadata": {
        "id": "jwHN6Z2GS4sk",
        "colab_type": "code",
        "colab": {}
      },
      "cell_type": "code",
      "source": [
        "def pi_mc(N,m):\n",
        "  #area of the bounding box\n",
        "  box_area = 4.0\n",
        "  \n",
        "  #number of samples\n",
        "  N_total = N\n",
        "\n",
        "  #creating a new array\n",
        "  arr = array.array('f', [])\n",
        "  \n",
        "  for i in range(0,m):\n",
        "    #drawing random points uniform between -1 and 1\n",
        "    X = np.random.uniform(low=-1, high=1, size=N_total)\n",
        "    Y = np.random.uniform(low=-1, high=1, size=N_total)\n",
        "    \n",
        "    # calculate the distance of the point from the center \n",
        "    distance = np.sqrt(X**2+Y**2);\n",
        "    # check if point is inside the circle    \n",
        "    is_point_inside = distance<1.0\n",
        "    \n",
        "    # sum up the hits inside the circle\n",
        "    N_inside=np.sum(is_point_inside)\n",
        "    \n",
        "    # estimate the circle area\n",
        "    circle_area = box_area * N_inside/N_total\n",
        "    \n",
        "    arr.append(circle_area)\n",
        "    \n",
        "  return arr\n",
        "\n"
      ],
      "execution_count": 0,
      "outputs": []
    },
    {
      "metadata": {
        "id": "Pld80fRQYbsE",
        "colab_type": "code",
        "outputId": "0c37e30a-4080-4c57-beb1-f170be0fda95",
        "colab": {
          "base_uri": "https://localhost:8080/",
          "height": 238
        }
      },
      "cell_type": "code",
      "source": [
        "print(pi_mc(2**5,100))\n",
        "print(np.var(pi_mc(2**5,100)))\n",
        "print(pi_mc(2**6,100))\n",
        "print(np.var(pi_mc(2**6,100)))\n",
        "print(pi_mc(2**7,100))\n",
        "print(np.var(pi_mc(2**7,100)))\n",
        "print(pi_mc(2**8,100))\n",
        "print(np.var(pi_mc(2**8,100)))\n",
        "print(pi_mc(2**9,100))\n",
        "print(np.var(pi_mc(2**9,100)))\n",
        "print(pi_mc(2**10,100))\n",
        "print(np.var(pi_mc(2**10,100)))"
      ],
      "execution_count": 62,
      "outputs": [
        {
          "output_type": "stream",
          "text": [
            "array('f', [3.125, 2.875, 3.25, 3.0, 3.125, 3.125, 3.375, 3.125, 3.25, 2.5, 2.75, 3.25, 3.0, 2.5, 3.375, 3.75, 3.5, 3.625, 3.125, 3.625, 2.5, 2.875, 3.25, 3.0, 3.0, 3.5, 3.125, 2.875, 2.875, 3.375, 3.875, 3.25, 3.125, 2.625, 3.375, 3.0, 3.125, 3.5, 3.375, 2.75, 3.0, 3.375, 3.75, 2.75, 2.625, 3.0, 3.125, 2.625, 3.0, 2.5, 2.75, 3.5, 3.375, 3.25, 3.125, 3.0, 2.875, 2.75, 3.125, 3.0, 3.25, 3.5, 3.375, 3.0, 3.75, 3.125, 2.875, 3.5, 3.25, 3.25, 3.25, 2.5, 3.25, 3.375, 2.875, 3.375, 2.75, 2.75, 3.25, 3.25, 3.5, 2.875, 2.375, 3.25, 3.125, 3.0, 3.25, 3.125, 3.375, 3.75, 3.125, 3.5, 2.75, 2.75, 3.5, 3.375, 2.875, 3.0, 3.625, 3.625])\n",
            "0.092704676\n",
            "array('f', [3.5625, 2.9375, 3.0, 3.0625, 3.1875, 3.1875, 2.875, 3.0625, 3.0625, 3.25, 3.4375, 2.75, 3.1875, 3.125, 2.8125, 3.0, 3.375, 3.3125, 2.8125, 3.5, 2.875, 3.3125, 3.0625, 3.1875, 3.1875, 3.0, 3.5, 3.0625, 3.25, 3.0, 2.6875, 3.375, 3.4375, 2.8125, 2.9375, 3.125, 3.125, 3.1875, 3.25, 3.0, 2.75, 3.0, 3.0625, 3.375, 3.0625, 2.6875, 2.875, 2.9375, 3.5625, 3.0, 3.1875, 2.625, 3.3125, 3.1875, 2.9375, 3.1875, 3.5, 3.125, 2.625, 3.0625, 3.0625, 3.0, 3.0625, 3.3125, 2.9375, 3.3125, 3.1875, 3.3125, 3.0, 3.5, 3.1875, 2.8125, 3.4375, 3.25, 3.0625, 3.25, 3.0, 3.375, 2.875, 3.125, 3.0625, 3.375, 2.6875, 3.125, 2.8125, 3.0625, 3.4375, 3.125, 2.875, 3.0, 3.0625, 3.125, 3.125, 2.9375, 3.0625, 3.25, 2.75, 3.125, 3.3125, 3.25])\n",
            "0.03230469\n",
            "array('f', [3.34375, 3.34375, 3.03125, 3.03125, 3.0625, 3.15625, 3.0625, 3.3125, 3.1875, 3.125, 3.28125, 3.03125, 3.125, 3.21875, 3.1875, 3.1875, 3.125, 2.84375, 2.9375, 3.1875, 3.21875, 3.0625, 3.15625, 3.21875, 3.3125, 3.0625, 3.21875, 3.25, 3.21875, 3.3125, 3.15625, 3.21875, 2.96875, 3.0, 3.21875, 3.0625, 3.03125, 3.15625, 3.34375, 3.03125, 3.03125, 3.375, 3.0625, 3.1875, 3.1875, 3.0625, 3.03125, 3.09375, 3.21875, 3.1875, 3.03125, 3.09375, 3.25, 3.125, 3.125, 3.0, 3.0625, 3.125, 3.0625, 3.09375, 3.0625, 3.15625, 3.125, 3.0, 2.875, 2.9375, 3.46875, 3.09375, 3.03125, 3.0, 3.25, 2.96875, 3.09375, 3.09375, 3.125, 3.0, 3.125, 3.09375, 3.375, 3.4375, 3.21875, 3.1875, 3.375, 3.375, 2.96875, 3.125, 3.28125, 2.96875, 3.0625, 2.96875, 3.1875, 3.0625, 3.40625, 2.96875, 3.125, 2.9375, 3.1875, 3.34375, 3.0, 3.1875])\n",
            "0.025508886\n",
            "array('f', [3.109375, 2.96875, 3.296875, 3.203125, 3.15625, 3.171875, 3.0625, 3.34375, 3.078125, 3.078125, 3.265625, 3.15625, 3.21875, 3.109375, 3.25, 3.15625, 3.265625, 3.1875, 2.953125, 3.234375, 3.125, 3.046875, 3.0625, 3.234375, 3.390625, 3.296875, 3.078125, 3.109375, 3.28125, 3.1875, 3.046875, 3.203125, 3.171875, 3.1875, 3.359375, 3.203125, 3.265625, 3.203125, 3.078125, 3.203125, 3.1875, 3.125, 3.234375, 3.078125, 3.15625, 3.390625, 3.0625, 3.296875, 2.90625, 3.03125, 3.078125, 3.046875, 3.046875, 3.078125, 3.234375, 3.1875, 2.9375, 2.890625, 3.1875, 3.140625, 3.25, 3.046875, 3.15625, 3.203125, 3.21875, 3.0625, 3.203125, 3.25, 3.15625, 3.09375, 3.109375, 3.34375, 3.125, 3.0, 3.203125, 3.0625, 3.234375, 3.125, 2.984375, 3.234375, 3.078125, 3.03125, 3.171875, 3.078125, 3.171875, 3.15625, 3.234375, 2.984375, 3.1875, 3.125, 3.046875, 3.15625, 3.171875, 3.0625, 3.09375, 3.171875, 3.3125, 3.140625, 3.171875, 3.171875])\n",
            "0.00970498\n",
            "array('f', [3.078125, 3.1015625, 2.9921875, 3.046875, 3.09375, 3.140625, 3.1171875, 3.171875, 3.0546875, 3.203125, 3.078125, 3.1328125, 3.2109375, 3.09375, 3.1015625, 3.15625, 3.2109375, 3.234375, 3.0625, 3.2109375, 3.203125, 3.125, 3.125, 3.046875, 3.03125, 3.09375, 3.328125, 3.2265625, 3.078125, 3.21875, 3.15625, 3.2734375, 3.140625, 3.0390625, 3.0546875, 3.21875, 3.1484375, 3.0390625, 3.0234375, 3.1640625, 3.171875, 3.1328125, 3.09375, 3.1171875, 3.1796875, 2.9921875, 3.1875, 3.1796875, 3.1171875, 3.2265625, 3.0703125, 3.1796875, 3.1640625, 3.1171875, 3.2265625, 3.0859375, 3.1328125, 3.109375, 3.203125, 3.2109375, 3.0703125, 3.15625, 3.234375, 3.2265625, 3.2421875, 3.1015625, 3.046875, 3.2734375, 3.0546875, 3.0703125, 3.1328125, 3.15625, 2.984375, 3.1328125, 3.0625, 3.0546875, 3.203125, 3.1953125, 2.921875, 3.203125, 3.203125, 3.15625, 3.140625, 3.0703125, 3.0, 3.0859375, 3.1953125, 3.109375, 3.03125, 3.140625, 3.1015625, 3.234375, 3.1171875, 3.25, 3.171875, 3.125, 3.1953125, 3.203125, 3.125, 3.1640625])\n",
            "0.0055963136\n",
            "array('f', [3.15234375, 3.10546875, 3.1171875, 3.11328125, 3.1171875, 3.11328125, 3.1875, 3.1796875, 3.16796875, 3.23046875, 3.140625, 3.14453125, 3.21875, 3.14453125, 3.0546875, 3.1328125, 3.0859375, 3.18359375, 3.10546875, 3.16015625, 3.23828125, 3.12890625, 3.19921875, 3.1484375, 3.140625, 3.21484375, 3.14453125, 3.06640625, 3.125, 3.1875, 3.1953125, 3.25, 3.03515625, 3.1875, 3.08203125, 3.1640625, 3.234375, 3.10546875, 3.109375, 3.16015625, 3.09765625, 3.1796875, 3.14453125, 3.1484375, 3.125, 3.125, 3.18359375, 3.109375, 3.078125, 3.09375, 3.1171875, 3.19921875, 3.1171875, 3.2265625, 3.1171875, 3.12890625, 3.1875, 3.16796875, 3.2265625, 3.14453125, 3.1328125, 3.140625, 3.0703125, 3.19921875, 3.14453125, 3.1015625, 3.10546875, 3.1171875, 3.1875, 3.04296875, 3.09375, 3.16796875, 3.13671875, 3.19140625, 3.1328125, 3.0390625, 3.15234375, 3.125, 3.03125, 3.19921875, 3.19140625, 3.2265625, 3.125, 3.2421875, 3.20703125, 3.19921875, 3.1328125, 3.1640625, 3.1640625, 3.1796875, 3.0546875, 3.265625, 3.1328125, 3.08203125, 3.0703125, 3.19921875, 3.15625, 3.078125, 3.171875, 3.18359375])\n",
            "0.0025788816\n"
          ],
          "name": "stdout"
        }
      ]
    },
    {
      "metadata": {
        "id": "LI-eqF3bacXH",
        "colab_type": "code",
        "colab": {
          "base_uri": "https://localhost:8080/",
          "height": 402
        },
        "outputId": "9d5f6f86-58ac-4f6b-d181-f15b62abcf20"
      },
      "cell_type": "code",
      "source": [
        "#for each value of N, calculate the RMSE of of pi_mc(N,100): taking in N, change to an array and output a float\n",
        "def rmse(N):\n",
        "  arr_mc = pi_mc(N,100)# output an array as above\n",
        "  arr_sqerr = array.array('f',[])\n",
        "  for i in range(len(arr_mc)):\n",
        "    sq_err = (arr_mc[i]-np.pi)**2# for each element in arr_mc, return the sqr of error\n",
        "    arr_sqerr.append(sq_err)\n",
        "  return np.sqrt(np.mean(arr_sqerr))# return the sqrt of the mean of all error\n",
        "\n",
        "\n",
        "arrN = array.array('i', [2**5, 2**6, 2**7, 2**8, 2**9, 2**10])\n",
        "arr_err = array.array('f', [])\n",
        "for i in range(len(arrN)):\n",
        "  arr_err.append(rmse(arrN[i]))\n",
        "print(arrN)\n",
        "print(arr_err)\n",
        "plt.loglog(arrN,arr_err,'.')"
      ],
      "execution_count": 63,
      "outputs": [
        {
          "output_type": "stream",
          "text": [
            "array('i', [32, 64, 128, 256, 512, 1024])\n",
            "array('f', [0.272601455450058, 0.1908227503299713, 0.13086220622062683, 0.10144486278295517, 0.06993988156318665, 0.049859289079904556])\n"
          ],
          "name": "stdout"
        },
        {
          "output_type": "execute_result",
          "data": {
            "text/plain": [
              "[<matplotlib.lines.Line2D at 0x7f2fe7c83ba8>]"
            ]
          },
          "metadata": {
            "tags": []
          },
          "execution_count": 63
        },
        {
          "output_type": "display_data",
          "data": {
            "image/png": "[encoded data removed]",
            "text/plain": [
              "<Figure size 576x396 with 1 Axes>"
            ]
          },
          "metadata": {
            "tags": []
          }
        }
      ]
    },
    {
      "metadata": {
        "id": "Sw5_uEEL270d",
        "colab_type": "code",
        "colab": {
          "base_uri": "https://localhost:8080/",
          "height": 34
        },
        "outputId": "043e5c2d-23f7-4d01-e347-69bac4db522e"
      },
      "cell_type": "code",
      "source": [
        "import scipy.stats as ss\n",
        "out = ss.linregress(arrN,arr_err)\n",
        "print('----->>>the convergence rate is ' + str(-out[0]))"
      ],
      "execution_count": 64,
      "outputs": [
        {
          "output_type": "stream",
          "text": [
            "----->>>the convergence rate is 0.00017143210901547152\n"
          ],
          "name": "stdout"
        }
      ]
    },
    {
      "metadata": {
        "id": "qkC5gA5clFlQ",
        "colab_type": "text"
      },
      "cell_type": "markdown",
      "source": [
        "##Deterministic approach\n",
        "\n",
        "One deterministic approach is to calculate the series of \n",
        "\n",
        "$$\\frac{\\pi}{4}=1-\\frac{1}{3}+\\frac{1}{5}-\\frac{1}{7}+\\frac{1}{9}-...$$\n",
        "\n",
        "this is derived from the Taylor series for $arctan(x)$, which is\n",
        "\n",
        "$$arctan(x)=x-\\frac{x^3}{3}+\\frac{x^5}{5}-\\frac{x^7}{7}+\\frac{x^9}{9}-...$$\n",
        "\n",
        "and as we know that $arctan(1)=\\frac{\\pi}{4}$, so if we let $x=1$, we get the above series to deterministically approximate $\\pi$"
      ]
    },
    {
      "metadata": {
        "id": "PSRPlnfrqOVK",
        "colab_type": "code",
        "colab": {}
      },
      "cell_type": "code",
      "source": [
        ""
      ],
      "execution_count": 0,
      "outputs": []
    }
  ]
}