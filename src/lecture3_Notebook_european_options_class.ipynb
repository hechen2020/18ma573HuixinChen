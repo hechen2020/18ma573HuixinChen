{
  "nbformat": 4,
  "nbformat_minor": 0,
  "metadata": {
    "colab": {
      "name": "lecture3_Notebook_european_options_class.ipynb",
      "version": "0.3.2",
      "provenance": [],
      "include_colab_link": true
    },
    "kernelspec": {
      "name": "python3",
      "display_name": "Python 3"
    }
  },
  "cells": [
    {
      "cell_type": "markdown",
      "metadata": {
        "id": "view-in-github",
        "colab_type": "text"
      },
      "source": [
        "<a href=\"https://colab.research.google.com/github/hechen2020/19ma573HuixinChen/blob/master/src/lecture3_Notebook_european_options_class.ipynb\" target=\"_parent\"><img src=\"https://colab.research.google.com/assets/colab-badge.svg\" alt=\"Open In Colab\"/></a>"
      ]
    },
    {
      "metadata": {
        "id": "eplzMXxaKsPg",
        "colab_type": "text"
      },
      "cell_type": "markdown",
      "source": [
        "# Abstract\n",
        "\n",
        "- Create european call/put  class\n",
        "- Analyse payoff structures of option combinations, such as writeen straddle and butterfly."
      ]
    },
    {
      "metadata": {
        "id": "iBhy7g4PLNZd",
        "colab_type": "text"
      },
      "cell_type": "markdown",
      "source": [
        "# Anal\n",
        "\n",
        "Payoff of European call with \n",
        "strike $K$ and exercise price $S$ is given as\n",
        "$$C(S, K)= (S - K)^+ = \\max\\{S- K, 0\\}.$$\n",
        "Similarly European put with \n",
        "strike $K$ and exercise price $S$ is given as\n",
        "$$P(S, K)= (S - K)^- = \\max\\{-S+ K, 0\\}.$$\n",
        "Traders use different option combinations according to market analysis to meet their various objectives. Please find wiki for those combinations and their use.\n",
        "\n"
      ]
    },
    {
      "metadata": {
        "id": "OMBWh9sCNhWS",
        "colab_type": "text"
      },
      "cell_type": "markdown",
      "source": [
        "# Code\n",
        "\n",
        "First, we create call/put class"
      ]
    },
    {
      "metadata": {
        "id": "5Q4hhHJiNu4x",
        "colab_type": "code",
        "colab": {}
      },
      "cell_type": "code",
      "source": [
        "import numpy as np\n",
        "import matplotlib.pyplot as plt"
      ],
      "execution_count": 0,
      "outputs": []
    },
    {
      "metadata": {
        "id": "GhQhpUpypenq",
        "colab_type": "code",
        "colab": {}
      },
      "cell_type": "code",
      "source": [
        "'''=========\n",
        "option class init\n",
        "=========='''\n",
        "class VanillaOption:\n",
        "    def __init__(\n",
        "        self,\n",
        "        otype = 1, # 1: 'call'\n",
        "                  # -1: 'put'\n",
        "        strike = 110.,\n",
        "        maturity = 1.,\n",
        "        market_price = 10.):\n",
        "      self.otype = otype\n",
        "      self.strike = strike\n",
        "      self.maturity = maturity\n",
        "      self.market_price = market_price #this will be used for calibration\n",
        "      \n",
        "        \n",
        "    def payoff(self, s): #s: excercise price\n",
        "      otype = self.otype\n",
        "      k = self.strike\n",
        "      maturity = self.maturity\n",
        "      return np.max([0, (s - k)*otype])\n",
        "    \n",
        "    "
      ],
      "execution_count": 0,
      "outputs": []
    },
    {
      "metadata": {
        "id": "a92eaPhnN9Kn",
        "colab_type": "text"
      },
      "cell_type": "markdown",
      "source": [
        "__Test__\n",
        "\n",
        "We will use a few examples to test the above class.\n",
        "\n",
        "__ex__\n",
        "\n",
        "plot payoff diagram of 40-strike call as a function of exercise price."
      ]
    },
    {
      "metadata": {
        "id": "WYmG-bBcN69W",
        "colab_type": "code",
        "outputId": "85314007-dc26-44a7-dd17-abebf61c2ce9",
        "colab": {
          "base_uri": "https://localhost:8080/",
          "height": 376
        }
      },
      "cell_type": "code",
      "source": [
        "#create option instance, maturity is just arbitrarily given\n",
        "option1 = VanillaOption(otype = 1, strike = 40, maturity= 1.) \n",
        "ss = np.arange(20,61) #exercise price\n",
        "payoff = [option1.payoff(s) for s in ss] #compute payoff\n",
        "plt.plot(ss, payoff)\n",
        "plt.xlabel('exercise price')\n",
        "plt.ylabel('payoff')\n",
        "plt.title('40-strike call');"
      ],
      "execution_count": 0,
      "outputs": [
        {
          "output_type": "display_data",
          "data": {
            "image/png": "[encoded data removed]",
            "text/plain": [
              "<Figure size 576x396 with 1 Axes>"
            ]
          },
          "metadata": {
            "tags": []
          }
        }
      ]
    },
    {
      "metadata": {
        "id": "0Dj7UIz4G4gz",
        "colab_type": "code",
        "outputId": "b0c435ce-ce8e-4e39-df5f-bffd6effdec1",
        "colab": {
          "base_uri": "https://localhost:8080/",
          "height": 34
        }
      },
      "cell_type": "code",
      "source": [
        "option1.market_price"
      ],
      "execution_count": 0,
      "outputs": [
        {
          "output_type": "execute_result",
          "data": {
            "text/plain": [
              "10.0"
            ]
          },
          "metadata": {
            "tags": []
          },
          "execution_count": 6
        }
      ]
    },
    {
      "metadata": {
        "id": "Bqx7TXB9GfYJ",
        "colab_type": "code",
        "outputId": "c4b625c2-dd0f-44c7-d64e-974c4bdc7e9d",
        "colab": {
          "base_uri": "https://localhost:8080/",
          "height": 376
        }
      },
      "cell_type": "code",
      "source": [
        "#create option instance, maturity is just arbitrarily given\n",
        "option2 = VanillaOption(otype = -1, strike = 40, maturity= 1.) \n",
        "ss = np.arange(20,61) #exercise price\n",
        "payoff = [option2.payoff(s) for s in ss] #compute payoff\n",
        "plt.plot(ss, payoff)\n",
        "plt.xlabel('exercise price')\n",
        "plt.ylabel('payoff')\n",
        "plt.title('40-strike put');"
      ],
      "execution_count": 0,
      "outputs": [
        {
          "output_type": "display_data",
          "data": {
            "image/png": "[encoded data removed]",
            "text/plain": [
              "<Figure size 576x396 with 1 Axes>"
            ]
          },
          "metadata": {
            "tags": []
          }
        }
      ]
    },
    {
      "metadata": {
        "id": "YRgXQ89sPEn3",
        "colab_type": "code",
        "colab": {}
      },
      "cell_type": "code",
      "source": [
        ""
      ],
      "execution_count": 0,
      "outputs": []
    }
  ]
}