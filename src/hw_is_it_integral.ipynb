{
  "nbformat": 4,
  "nbformat_minor": 0,
  "metadata": {
    "colab": {
      "name": "hw_is_it_integral.ipynb",
      "version": "0.3.2",
      "provenance": [],
      "include_colab_link": true
    },
    "kernelspec": {
      "name": "python3",
      "display_name": "Python 3"
    }
  },
  "cells": [
    {
      "cell_type": "markdown",
      "metadata": {
        "id": "view-in-github",
        "colab_type": "text"
      },
      "source": [
        "<a href=\"https://colab.research.google.com/github/hechen2020/19ma573HuixinChen/blob/master/src/hw_is_it_integral.ipynb\" target=\"_parent\"><img src=\"https://colab.research.google.com/assets/colab-badge.svg\" alt=\"Open In Colab\"/></a>"
      ]
    },
    {
      "metadata": {
        "id": "dEsghMG6lcUq",
        "colab_type": "text"
      },
      "cell_type": "markdown",
      "source": [
        "1. Find $F_1$, the cdf of $p_1$\n",
        "\n",
        "first, we determine the value of C, which satisfy\n",
        "\n",
        "$$\\int_0^1{\\frac{1}{C}(2I_{(0,1/100]}(x)+1I_{(1/100,1)}(x))dx}=1$$\n",
        "\n",
        "and $C=1.01$\n",
        "\n",
        "thus we have the pdf\n",
        "$$p_1(x)=\\frac{1}{1.01}(2I_{(0,1/100]}(x)+1I_{(1/100,1)}(x))$$\n",
        "\n",
        "so the cdf will be\n",
        "\n",
        "$$F_1(x)=\\int_0^x{\\frac{1}{1.01}(2I_{(0,1/100]}(t)+1I_{(1/100,1)}(t))dt}$$\n",
        "\n",
        "$$=\\begin{cases}\n",
        "      \\frac{2x}{1.01}, & \\text{if}\\ x\\in(0,0.01] \\\\\n",
        "      \\frac{0.02+x-0.01}{1.01}, & \\text{if}\\ x\\in(0.01,1)\n",
        "    \\end{cases}$$\n",
        "    \n",
        "$$=\\begin{cases}\n",
        "      \\frac{2x}{1.01}, & \\text{if}\\ x\\in(0,0.01] \\\\\n",
        "      \\frac{0.01+x}{1.01}, & \\text{if}\\ x\\in(0.01,1)\n",
        "    \\end{cases}$$"
      ]
    },
    {
      "metadata": {
        "id": "RNl7ZA_rn78N",
        "colab_type": "text"
      },
      "cell_type": "markdown",
      "source": [
        "2. Find $F_1^{-1}$\n",
        "\n",
        "from part 1, we have\n",
        "\n",
        "$$F_1(x)=\\begin{cases}\n",
        "      \\frac{2x}{1.01}, & \\text{if}\\ x\\in(0,0.01] \\\\\n",
        "      \\frac{0.01+x}{1.01}, & \\text{if}\\ x\\in(0.01,1)\n",
        "    \\end{cases}$$\n",
        "    \n",
        "so the inverse of $F_1$ is\n",
        "\n",
        "$$F_1^{-1}(y)=\\begin{cases}\n",
        "      \\frac{1.01y}{2}, & \\text{if}\\ y\\in(0,\\frac{0.02}{1.01}] \\\\\n",
        "      1.01y-0.01, & \\text{if}\\ y\\in(\\frac{0.02}{1.01},1)\n",
        "    \\end{cases}$$"
      ]
    },
    {
      "metadata": {
        "id": "70u1HgnAEfJT",
        "colab_type": "text"
      },
      "cell_type": "markdown",
      "source": [
        "3. Implement Pseudocode"
      ]
    },
    {
      "metadata": {
        "id": "GmNQl064lRD5",
        "colab_type": "code",
        "colab": {}
      },
      "cell_type": "code",
      "source": [
        "import numpy as np\n",
        "import scipy.stats as ss\n",
        "import matplotlib.pyplot as plt\n",
        "import array"
      ],
      "execution_count": 0,
      "outputs": []
    },
    {
      "metadata": {
        "id": "vurcxU8nFpgI",
        "colab_type": "code",
        "colab": {}
      },
      "cell_type": "code",
      "source": [
        "#define function h(x)\n",
        "def h(x):\n",
        "  if x>0 and x<=0.01:\n",
        "    return 100\n",
        "  elif x>0.01 and x<1:\n",
        "    return 1"
      ],
      "execution_count": 0,
      "outputs": []
    },
    {
      "metadata": {
        "id": "RIctYKdztD9T",
        "colab_type": "code",
        "colab": {}
      },
      "cell_type": "code",
      "source": [
        "#define pdf p1\n",
        "def p1(x):\n",
        "  if x>0 and x<=0.01:\n",
        "    return 2/1.01\n",
        "  elif x>0.01 and x<1:\n",
        "    return 1/1.01"
      ],
      "execution_count": 0,
      "outputs": []
    },
    {
      "metadata": {
        "id": "RheeeQ_Rrbih",
        "colab_type": "code",
        "colab": {}
      },
      "cell_type": "code",
      "source": [
        "#define inverse of cdf\n",
        "def invF(y):\n",
        "  if y>0 and y<=(0.02/1.01):\n",
        "    return 1.01*y/2\n",
        "  elif y>(0.02/1.01) and y<1:\n",
        "    return 1.01*y-0.01"
      ],
      "execution_count": 0,
      "outputs": []
    },
    {
      "metadata": {
        "id": "r3_S5sjGqirr",
        "colab_type": "code",
        "colab": {}
      },
      "cell_type": "code",
      "source": [
        "def inv_trans_samp(n):\n",
        "  arr = array.array('f',[])\n",
        "  \n",
        "  for i in range(0,n):\n",
        "    Y = np.random.uniform(low=0,high=1)\n",
        "    X = invF(Y)\n",
        "    arr.append(X)\n",
        "    \n",
        "  return arr"
      ],
      "execution_count": 0,
      "outputs": []
    },
    {
      "metadata": {
        "id": "wK4BahpustTU",
        "colab_type": "text"
      },
      "cell_type": "markdown",
      "source": [
        "4. Implement Pseudocode\n",
        "importance sampling integral(n):\n",
        "\n",
        "taking the average of h(x)/p1(x)\n",
        "\n"
      ]
    },
    {
      "metadata": {
        "id": "OkeGe8Nysmrj",
        "colab_type": "code",
        "colab": {}
      },
      "cell_type": "code",
      "source": [
        "def imp_samp_int(n):\n",
        "  arr = array.array('f',[])\n",
        "  \n",
        "  for i in range(0,n):\n",
        "    Z = np.random.uniform(low=0,high=1)\n",
        "    X = invF(Z)#X as iid p1 samples\n",
        "    Y = p1(X)\n",
        "    H = h(X)\n",
        "    arr.append(H/Y)\n",
        "    \n",
        "  return np.mean(arr)"
      ],
      "execution_count": 0,
      "outputs": []
    },
    {
      "metadata": {
        "id": "Ura8u5mlG83o",
        "colab_type": "code",
        "colab": {}
      },
      "cell_type": "code",
      "source": [
        "def imp_samp(n, m):\n",
        "  arr = array.array('f',[])\n",
        "  \n",
        "  for i in range(m):\n",
        "    a = imp_samp_int(n)\n",
        "    arr.append(a)\n",
        "    \n",
        "  return arr"
      ],
      "execution_count": 0,
      "outputs": []
    },
    {
      "metadata": {
        "id": "LF8iinrQTPVd",
        "colab_type": "text"
      },
      "cell_type": "markdown",
      "source": [
        "5. Demonstrate convergense rate"
      ]
    },
    {
      "metadata": {
        "id": "-Ifw772ETOhI",
        "colab_type": "code",
        "colab": {}
      },
      "cell_type": "code",
      "source": [
        "def rmse(arr):\n",
        "  arr_sqerr = array.array('f',[])\n",
        "  for i in range(len(arr)):\n",
        "    sq_err = (arr[i]-1.99)**2# for each element in arr_mc, return the sqr of error\n",
        "    arr_sqerr.append(sq_err)\n",
        "  return np.sqrt(np.mean(arr_sqerr))# return the sqrt of the mean of all error"
      ],
      "execution_count": 0,
      "outputs": []
    },
    {
      "metadata": {
        "id": "EXhVnDQDGGf0",
        "colab_type": "code",
        "colab": {
          "base_uri": "https://localhost:8080/",
          "height": 398
        },
        "outputId": "9cb79d26-70c5-4625-93a2-739d64b6ee8f"
      },
      "cell_type": "code",
      "source": [
        "a1 = imp_samp(2**5,100)\n",
        "s1 = np.std(a1)\n",
        "a2 = imp_samp(2**6,100)\n",
        "s2 = np.std(a2)\n",
        "a3 = imp_samp(2**7,100)\n",
        "s3 = np.std(a3)\n",
        "a4 = imp_samp(2**8,100)\n",
        "s4 = np.std(a4)\n",
        "a5 = imp_samp(2**9,100)\n",
        "s5 = np.std(a5)\n",
        "a6 = imp_samp(2**10,100)\n",
        "s6 = np.std(a6)\n",
        "\n",
        "arrlogN = array.array('i', [5, 6, 7, 8, 9, 10])\n",
        "print(arrlogN)\n",
        "arr_rmse = array.array('f', [rmse(a1),\n",
        "                            rmse(a2),\n",
        "                            rmse(a3),\n",
        "                            rmse(a4),\n",
        "                            rmse(a5),\n",
        "                            rmse(a6)])\n",
        "print(arr_rmse)\n",
        "plt.plot(arrlogN,np.log2(arr_rmse),'.')"
      ],
      "execution_count": 212,
      "outputs": [
        {
          "output_type": "stream",
          "text": [
            "array('i', [5, 6, 7, 8, 9, 10])\n",
            "array('f', [1.1924585103988647, 0.8126934766769409, 0.6918162107467651, 0.49890682101249695, 0.29361361265182495, 0.23320743441581726])\n"
          ],
          "name": "stdout"
        },
        {
          "output_type": "execute_result",
          "data": {
            "text/plain": [
              "[<matplotlib.lines.Line2D at 0x7f84398e0f60>]"
            ]
          },
          "metadata": {
            "tags": []
          },
          "execution_count": 212
        },
        {
          "output_type": "display_data",
          "data": {
            "image/png": "[encoded data removed]",
            "text/plain": [
              "<Figure size 576x396 with 1 Axes>"
            ]
          },
          "metadata": {
            "tags": []
          }
        }
      ]
    },
    {
      "metadata": {
        "id": "0GnBllTcav1x",
        "colab_type": "code",
        "colab": {
          "base_uri": "https://localhost:8080/",
          "height": 34
        },
        "outputId": "f41a7891-1de5-49e3-e150-f40530aeff88"
      },
      "cell_type": "code",
      "source": [
        "out = ss.linregress(arrlogN,np.log2(arr_rmse))\n",
        "print('----->>>the convergence rate is ' + str(-out[0]))"
      ],
      "execution_count": 213,
      "outputs": [
        {
          "output_type": "stream",
          "text": [
            "----->>>the convergence rate is 0.4756932258605957\n"
          ],
          "name": "stdout"
        }
      ]
    },
    {
      "metadata": {
        "id": "wqVNK1fgKKn2",
        "colab_type": "text"
      },
      "cell_type": "markdown",
      "source": [
        "6. finding a better p2 than p1:\n",
        "\n",
        "$$p_2=\\frac{1}{C}h$$\n",
        "\n",
        "where $C$ can be calculated as $1.99$, so\n",
        "\n",
        "$$p_2(x)=\\frac{1}{1.99}(100I_{(0,1/100]}(x)+1I_{(1/100,1)}(x))$$\n",
        "\n",
        "with cdf\n",
        "\n",
        "$$F_2(x)=\\int_0^x{\\frac{1}{1.99}(100I_{(0,1/100]}(t)+1I_{(1/100,1)}(t))dt}$$\n",
        "\n",
        "$$=\\begin{cases}\n",
        "      \\frac{100x}{1.99}, & \\text{if}\\ x\\in(0,0.01] \\\\\n",
        "      \\frac{0.99+x}{1.99}, & \\text{if}\\ x\\in(0.01,1)\n",
        "    \\end{cases}$$\n",
        "    \n",
        "and inverse of cdf\n",
        "\n",
        "$$F_2^{-1}(y)=\\begin{cases}\n",
        "      \\frac{1.99y}{100}, & \\text{if}\\ y\\in(0,\\frac{1}{1.99}] \\\\\n",
        "      1.99y-0.99, & \\text{if}\\ y\\in(\\frac{1}{1.99},1)\n",
        "    \\end{cases}$$"
      ]
    },
    {
      "metadata": {
        "id": "6M2mMt4aH5Jw",
        "colab_type": "code",
        "colab": {}
      },
      "cell_type": "code",
      "source": [
        "#define pdf p2\n",
        "def p2(x):\n",
        "  if x>0 and x<=0.01:\n",
        "    return 100/1.99\n",
        "  elif x>0.01 and x<1:\n",
        "    return 1/1.99"
      ],
      "execution_count": 0,
      "outputs": []
    },
    {
      "metadata": {
        "id": "jPdvHQISLPF1",
        "colab_type": "code",
        "colab": {}
      },
      "cell_type": "code",
      "source": [
        "#define inverse of cdf of p2\n",
        "def invF_p2(y):\n",
        "  if y>0 and y<=(1/1.99):\n",
        "    return 1.99*y/100\n",
        "  elif y>(1/1.99) and y<1:\n",
        "    return 1.99*y-0.99"
      ],
      "execution_count": 0,
      "outputs": []
    },
    {
      "metadata": {
        "id": "RD49cV0AORd-",
        "colab_type": "code",
        "colab": {}
      },
      "cell_type": "code",
      "source": [
        "def imp_samp_int_p2(n):\n",
        "  arr = array.array('f',[])\n",
        "  \n",
        "  for i in range(0,n):\n",
        "    Z = np.random.uniform(low=0,high=1)\n",
        "    X = invF_p2(Z)#X as iid p2 samples\n",
        "    Y = p2(X)\n",
        "    H = h(X)\n",
        "    arr.append(H/Y)\n",
        "    \n",
        "  return np.mean(arr)"
      ],
      "execution_count": 0,
      "outputs": []
    },
    {
      "metadata": {
        "id": "VtB-pdV-PggG",
        "colab_type": "code",
        "colab": {}
      },
      "cell_type": "code",
      "source": [
        "def imp_samp_p2(n, m):\n",
        "  arr = array.array('f',[])\n",
        "  \n",
        "  for i in range(m):\n",
        "    a = imp_samp_int_p2(n)\n",
        "    arr.append(a)\n",
        "    \n",
        "  return arr"
      ],
      "execution_count": 0,
      "outputs": []
    },
    {
      "metadata": {
        "id": "9HFxj2hyPk2Q",
        "colab_type": "code",
        "colab": {
          "base_uri": "https://localhost:8080/",
          "height": 398
        },
        "outputId": "7902cd5d-c7f3-4cde-d04b-e39fc5708f6d"
      },
      "cell_type": "code",
      "source": [
        "a1 = imp_samp_p2(2**5,100)\n",
        "s1 = np.std(a1)\n",
        "a2 = imp_samp_p2(2**6,100)\n",
        "s2 = np.std(a2)\n",
        "a3 = imp_samp_p2(2**7,100)\n",
        "s3 = np.std(a3)\n",
        "a4 = imp_samp_p2(2**8,100)\n",
        "s4 = np.std(a4)\n",
        "a5 = imp_samp_p2(2**9,100)\n",
        "s5 = np.std(a5)\n",
        "a6 = imp_samp_p2(2**10,100)\n",
        "s6 = np.std(a6)\n",
        "\n",
        "arrlogN = array.array('i', [5, 6, 7, 8, 9, 10])\n",
        "arr_err = array.array('f', [s1,s2,s3,s4,s5,s6])\n",
        "print(arrlogN)\n",
        "arr_rmse = array.array('f', [rmse(a1),\n",
        "                            rmse(a2),\n",
        "                            rmse(a3),\n",
        "                            rmse(a4),\n",
        "                            rmse(a5),\n",
        "                            rmse(a6)])\n",
        "print(arr_rmse)\n",
        "plt.plot(arrlogN,np.log2(arr_rmse),'.')"
      ],
      "execution_count": 218,
      "outputs": [
        {
          "output_type": "stream",
          "text": [
            "array('i', [5, 6, 7, 8, 9, 10])\n",
            "array('f', [9.53674206272126e-09, 1.0967254837623841e-07, 1.0967254837623841e-07, 1.0967254837623841e-07, 1.0967254837623841e-07, 1.0967254837623841e-07])\n"
          ],
          "name": "stdout"
        },
        {
          "output_type": "execute_result",
          "data": {
            "text/plain": [
              "[<matplotlib.lines.Line2D at 0x7f84398bf4e0>]"
            ]
          },
          "metadata": {
            "tags": []
          },
          "execution_count": 218
        },
        {
          "output_type": "display_data",
          "data": {
            "image/png": "[encoded data removed]",
            "text/plain": [
              "<Figure size 576x396 with 1 Axes>"
            ]
          },
          "metadata": {
            "tags": []
          }
        }
      ]
    },
    {
      "metadata": {
        "id": "SaXeUQFuP0HG",
        "colab_type": "code",
        "colab": {
          "base_uri": "https://localhost:8080/",
          "height": 34
        },
        "outputId": "b05222c3-4bb8-48fa-cd67-47ec5a60341a"
      },
      "cell_type": "code",
      "source": [
        "out = ss.linregress(arrlogN,np.log2(arr_rmse))\n",
        "print('----->>>???the convergence rate is ' + str(-out[0]))"
      ],
      "execution_count": 219,
      "outputs": [
        {
          "output_type": "stream",
          "text": [
            "----->>>???the convergence rate is -0.5033659253801619\n"
          ],
          "name": "stdout"
        }
      ]
    },
    {
      "metadata": {
        "id": "PJnTKwjJbI5s",
        "colab_type": "code",
        "colab": {}
      },
      "cell_type": "code",
      "source": [
        ""
      ],
      "execution_count": 0,
      "outputs": []
    }
  ]
}