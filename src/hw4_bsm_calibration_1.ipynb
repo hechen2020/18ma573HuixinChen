{
  "nbformat": 4,
  "nbformat_minor": 0,
  "metadata": {
    "colab": {
      "name": "hw4_bsm_calibration_1.ipynb",
      "version": "0.3.2",
      "provenance": [],
      "include_colab_link": true
    },
    "kernelspec": {
      "name": "python3",
      "display_name": "Python 3"
    }
  },
  "cells": [
    {
      "cell_type": "markdown",
      "metadata": {
        "id": "view-in-github",
        "colab_type": "text"
      },
      "source": [
        "<a href=\"https://colab.research.google.com/github/hechen2020/19ma573HuixinChen/blob/master/src/hw4_bsm_calibration_1.ipynb\" target=\"_parent\"><img src=\"https://colab.research.google.com/assets/colab-badge.svg\" alt=\"Open In Colab\"/></a>"
      ]
    },
    {
      "metadata": {
        "id": "rULOYWJrdGe8",
        "colab_type": "text"
      },
      "cell_type": "markdown",
      "source": [
        "The objective is to get familiar with model calibration.\n",
        "- download call today's option prices of your favorite stock with maturity $T_1$ and several near the money strikes $(K_1, \\ldots, K_n)$.\n",
        "- compute IV with your bsm price engine for each option price. You are going to use USD Libor 3-month for your interest rate input. \n",
        "- plot a figure of strike v.s. IV. Do you find any volatility smile? \n",
        "- calibrate bsm volatility for the option prices, denote it by $\\hat \\sigma$. You may use any error function for the calibration purpose.\n",
        "- reproduce option prices using your price engine with calibrated volatility, then compare how close they are to the market prices.\n"
      ]
    },
    {
      "metadata": {
        "id": "VbfshY57gKFZ",
        "colab_type": "text"
      },
      "cell_type": "markdown",
      "source": [
        "Options Chosen\n",
        "\n",
        "- Options for Amazon AMZN on 02/05/2019\n",
        "\n",
        "- Market Price 1658.81\n",
        "\n",
        "- Maturity 03/22/2018"
      ]
    },
    {
      "metadata": {
        "id": "r2qCZoC8k-Hj",
        "colab_type": "code",
        "colab": {
          "base_uri": "https://localhost:8080/",
          "height": 134
        },
        "outputId": "afeda1d4-49e4-4284-8aa6-0e8bff604b17"
      },
      "cell_type": "code",
      "source": [
        "'''======\n",
        "run once, then comment it off, and run again\n",
        "========'''\n",
        "!git clone https://github.com/hechen2020/19ma573HuixinChen.git"
      ],
      "execution_count": 1,
      "outputs": [
        {
          "output_type": "stream",
          "text": [
            "Cloning into '19ma573HuixinChen'...\n",
            "remote: Enumerating objects: 41, done.\u001b[K\n",
            "remote: Counting objects: 100% (41/41), done.\u001b[K\n",
            "remote: Compressing objects: 100% (41/41), done.\u001b[K\n",
            "remote: Total 217 (delta 12), reused 0 (delta 0), pack-reused 176\u001b[K\n",
            "Receiving objects: 100% (217/217), 305.52 KiB | 13.28 MiB/s, done.\n",
            "Resolving deltas: 100% (71/71), done.\n"
          ],
          "name": "stdout"
        }
      ]
    },
    {
      "metadata": {
        "id": "6xgM87R4pz9V",
        "colab_type": "code",
        "colab": {
          "base_uri": "https://localhost:8080/",
          "height": 34
        },
        "outputId": "88cdba58-a3d5-4adb-8150-81f96d132973"
      },
      "cell_type": "code",
      "source": [
        "cd ./19ma573HuixinChen/src/"
      ],
      "execution_count": 2,
      "outputs": [
        {
          "output_type": "stream",
          "text": [
            "/content/19ma573HuixinChen/src\n"
          ],
          "name": "stdout"
        }
      ]
    },
    {
      "metadata": {
        "id": "-RvWVRtDp7j4",
        "colab_type": "code",
        "colab": {}
      },
      "cell_type": "code",
      "source": [
        "from contract_v01 import VanillaOption\n",
        "from sde_1d_v01 import Gbm_1d\n",
        "import numpy as np\n",
        "import matplotlib.pyplot as plt\n",
        "import scipy.optimize as so"
      ],
      "execution_count": 0,
      "outputs": []
    },
    {
      "metadata": {
        "id": "P5iIxFcJj5jv",
        "colab_type": "code",
        "colab": {
          "base_uri": "https://localhost:8080/",
          "height": 34
        },
        "outputId": "59ca3bb7-0372-46da-eb55-3c458ab7ddfc"
      },
      "cell_type": "code",
      "source": [
        "'''=========\n",
        "Time length\n",
        "============='''\n",
        "today = np.datetime64('2019-02-05')\n",
        "maturity = np.datetime64('2019-03-22')\n",
        "time_to_maturity_days = maturity - today\n",
        "\n",
        "time_to_maturity_years = time_to_maturity_days/np.timedelta64(1,'D')/365\n",
        "print('--->>>>>time to maturity in years is ' + str(time_to_maturity_years))"
      ],
      "execution_count": 4,
      "outputs": [
        {
          "output_type": "stream",
          "text": [
            "--->>>>>time to maturity in years is 0.1232876712328767\n"
          ],
          "name": "stdout"
        }
      ]
    },
    {
      "metadata": {
        "id": "EuztiKEwpruF",
        "colab_type": "code",
        "colab": {
          "base_uri": "https://localhost:8080/",
          "height": 386
        },
        "outputId": "2136a7e9-1810-4345-c55f-58dec2cfa04e"
      },
      "cell_type": "code",
      "source": [
        "'''======\n",
        "Read data\n",
        "========='''\n",
        "#Read four-column data\n",
        "#columns are otype, maturity, strike, option_price\n",
        "\n",
        "#call options\n",
        "np_option_data1 = np.loadtxt('option_list1.dat', comments='#', delimiter=',')\n",
        "\n",
        "print('>>>>>>option_type, maturity, strike, option_price')\n",
        "print(np_option_data1)\n",
        "\n",
        "\n",
        "#put options\n",
        "np_option_data2 = np.loadtxt('option_list2.dat', comments='#', delimiter=',')\n",
        "\n",
        "print('>>>>>>option_type, maturity, strike, option_price')\n",
        "print(np_option_data2)"
      ],
      "execution_count": 5,
      "outputs": [
        {
          "output_type": "stream",
          "text": [
            ">>>>>>option_type, maturity, strike, option_price\n",
            "[[1.00000000e+00 1.23287671e-01 1.64750000e+03 6.90100000e+01]\n",
            " [1.00000000e+00 1.23287671e-01 1.65000000e+03 6.91500000e+01]\n",
            " [1.00000000e+00 1.23287671e-01 1.65250000e+03 6.46900000e+01]\n",
            " [1.00000000e+00 1.23287671e-01 1.65500000e+03 6.98000000e+01]\n",
            " [1.00000000e+00 1.23287671e-01 1.65750000e+03 6.76000000e+01]\n",
            " [1.00000000e+00 1.23287671e-01 1.66000000e+03 6.30000000e+01]\n",
            " [1.00000000e+00 1.23287671e-01 1.66250000e+03 6.22400000e+01]\n",
            " [1.00000000e+00 1.23287671e-01 1.66500000e+03 5.55200000e+01]\n",
            " [1.00000000e+00 1.23287671e-01 1.66750000e+03 7.18000000e+01]\n",
            " [1.00000000e+00 1.23287671e-01 1.67000000e+03 6.44000000e+01]]\n",
            ">>>>>>option_type, maturity, strike, option_price\n",
            "[[-1.00000000e+00  1.23287671e-01  1.64500000e+03  5.55500000e+01]\n",
            " [-1.00000000e+00  1.23287671e-01  1.64750000e+03  6.46800000e+01]\n",
            " [-1.00000000e+00  1.23287671e-01  1.65000000e+03  5.77300000e+01]\n",
            " [-1.00000000e+00  1.23287671e-01  1.65250000e+03  5.87500000e+01]\n",
            " [-1.00000000e+00  1.23287671e-01  1.65500000e+03  7.53800000e+01]\n",
            " [-1.00000000e+00  1.23287671e-01  1.66000000e+03  6.17000000e+01]\n",
            " [-1.00000000e+00  1.23287671e-01  1.66500000e+03  8.90000000e+01]\n",
            " [-1.00000000e+00  1.23287671e-01  1.67000000e+03  8.13000000e+01]\n",
            " [-1.00000000e+00  1.23287671e-01  1.68000000e+03  8.24700000e+01]\n",
            " [-1.00000000e+00  1.23287671e-01  1.69000000e+03  8.88000000e+01]]\n"
          ],
          "name": "stdout"
        }
      ]
    },
    {
      "metadata": {
        "id": "othOAAwh5cVL",
        "colab_type": "code",
        "colab": {}
      },
      "cell_type": "code",
      "source": [
        "'''==============\n",
        "below are from the market data for underlying process\n",
        "================='''\n",
        "gbm1 = Gbm_1d(\n",
        "    init_state = 1658.81, #market price for Amazon stock\n",
        "    drift_ratio = 0.0273438, #3-month LIBOR rate\n",
        "    vol_ratio = .1 #initial guess of volatility\n",
        ")"
      ],
      "execution_count": 0,
      "outputs": []
    },
    {
      "metadata": {
        "id": "P6jqh8EX7sZl",
        "colab_type": "code",
        "colab": {
          "base_uri": "https://localhost:8080/",
          "height": 87
        },
        "outputId": "5d621d5e-9cd6-4d2a-850b-345c52840406"
      },
      "cell_type": "code",
      "source": [
        "num_row = np_option_data1.shape[0]\n",
        "option_list1 = []\n",
        "option_list2 = []\n",
        "\n",
        "for i in range(num_row):\n",
        "    optioni = VanillaOption(\n",
        "        otype = np_option_data1[i,0],\n",
        "        maturity = np_option_data1[i,1],\n",
        "        strike = np_option_data1[i,2],\n",
        "        market_price = np_option_data1[i,3]\n",
        "    )\n",
        "    option_list1.append(optioni)\n",
        "for i in range(num_row):\n",
        "    optioni = VanillaOption(\n",
        "        otype = np_option_data2[i,0],\n",
        "        maturity = np_option_data2[i,1],\n",
        "        strike = np_option_data2[i,2],\n",
        "        market_price = np_option_data2[i,3]\n",
        "    )\n",
        "    option_list2.append(optioni)\n",
        "      \n",
        "\n",
        "#testing\n",
        "print(option_list1)\n",
        "print(option_list2)\n",
        "print(option_list1[0].market_price)"
      ],
      "execution_count": 7,
      "outputs": [
        {
          "output_type": "stream",
          "text": [
            "[<contract_v01.VanillaOption object at 0x7fbed986a780>, <contract_v01.VanillaOption object at 0x7fbed986a7b8>, <contract_v01.VanillaOption object at 0x7fbed986a7f0>, <contract_v01.VanillaOption object at 0x7fbed986a828>, <contract_v01.VanillaOption object at 0x7fbed986a860>, <contract_v01.VanillaOption object at 0x7fbed986a898>, <contract_v01.VanillaOption object at 0x7fbed986a8d0>, <contract_v01.VanillaOption object at 0x7fbed986a908>, <contract_v01.VanillaOption object at 0x7fbed986a940>, <contract_v01.VanillaOption object at 0x7fbed986a978>]\n",
            "[<contract_v01.VanillaOption object at 0x7fbeee24b208>, <contract_v01.VanillaOption object at 0x7fbef1c76048>, <contract_v01.VanillaOption object at 0x7fbef1c760b8>, <contract_v01.VanillaOption object at 0x7fbeed525ac8>, <contract_v01.VanillaOption object at 0x7fbeee247b00>, <contract_v01.VanillaOption object at 0x7fbed98aaf98>, <contract_v01.VanillaOption object at 0x7fbed98aa588>, <contract_v01.VanillaOption object at 0x7fbed98aaf28>, <contract_v01.VanillaOption object at 0x7fbed98aa780>, <contract_v01.VanillaOption object at 0x7fbed98aafd0>]\n",
            "69.01\n"
          ],
          "name": "stdout"
        }
      ]
    },
    {
      "metadata": {
        "id": "6DRrGfiXz42I",
        "colab_type": "code",
        "colab": {}
      },
      "cell_type": "code",
      "source": [
        "np_option_data12 = np.append(np_option_data1, np.zeros([num_row,1]), axis = 1)\n",
        "np_option_data22 = np.append(np_option_data2, np.zeros([num_row,1]), axis = 1)"
      ],
      "execution_count": 0,
      "outputs": []
    },
    {
      "metadata": {
        "id": "k_NCGmOt7xsz",
        "colab_type": "code",
        "colab": {}
      },
      "cell_type": "code",
      "source": [
        "'''==========\n",
        "define a method for error function\n",
        "============'''\n",
        "\n",
        "def error_function(vol, gbm, option):\n",
        "  gbm.vol_ratio = vol\n",
        "  return np.sqrt(((option.market_price - gbm.bsm_price(option))/gbm.bsm_price(option))**2)#ssre\n",
        "\n",
        "'''==========\n",
        "define a method to seek for an implied volatility\n",
        "============'''\n",
        "\n",
        "def implied_volatility(gbm, option):\n",
        "  init_vol = .1 #initial guess\n",
        "  return so.fmin(error_function, init_vol, args = (gbm, option), disp = 0)[0]"
      ],
      "execution_count": 0,
      "outputs": []
    },
    {
      "metadata": {
        "id": "yscW2xDY0XcP",
        "colab_type": "code",
        "colab": {
          "base_uri": "https://localhost:8080/",
          "height": 706
        },
        "outputId": "312c6f3e-3af1-48c7-8edf-82f30f79bbe6"
      },
      "cell_type": "code",
      "source": [
        "#compute implied vols and add them into the last column\n",
        "for i in range(num_row):\n",
        "  np_option_data12[i,4] = implied_volatility(gbm1, option_list1[i])\n",
        "  np_option_data22[i,4] = implied_volatility(gbm1, option_list2[i])\n",
        "  \n",
        "print('>>>>>>otype, maturity, strike, option_price, implied vol')\n",
        "print(np_option_data12)\n",
        "print(np_option_data22)"
      ],
      "execution_count": 10,
      "outputs": [
        {
          "output_type": "stream",
          "text": [
            ">>>>>>otype, maturity, strike, option_price, implied vol\n",
            "[[1.00000000e+00 1.23287671e-01 1.64750000e+03 6.90100000e+01\n",
            "  2.60507813e-01]\n",
            " [1.00000000e+00 1.23287671e-01 1.65000000e+03 6.91500000e+01\n",
            "  2.66796875e-01]\n",
            " [1.00000000e+00 1.23287671e-01 1.65250000e+03 6.46900000e+01\n",
            "  2.53046875e-01]\n",
            " [1.00000000e+00 1.23287671e-01 1.65500000e+03 6.98000000e+01\n",
            "  2.80625000e-01]\n",
            " [1.00000000e+00 1.23287671e-01 1.65750000e+03 6.76000000e+01\n",
            "  2.76562500e-01]\n",
            " [1.00000000e+00 1.23287671e-01 1.66000000e+03 6.30000000e+01\n",
            "  2.62031250e-01]\n",
            " [1.00000000e+00 1.23287671e-01 1.66250000e+03 6.22400000e+01\n",
            "  2.63984375e-01]\n",
            " [1.00000000e+00 1.23287671e-01 1.66500000e+03 5.55200000e+01\n",
            "  2.40234375e-01]\n",
            " [1.00000000e+00 1.23287671e-01 1.66750000e+03 7.18000000e+01\n",
            "  3.15429688e-01]\n",
            " [1.00000000e+00 1.23287671e-01 1.67000000e+03 6.44000000e+01\n",
            "  2.88632813e-01]]\n",
            "[[-1.00000000e+00  1.23287671e-01  1.64500000e+03  5.55500000e+01\n",
            "   2.80468750e-01]\n",
            " [-1.00000000e+00  1.23287671e-01  1.64750000e+03  6.46800000e+01\n",
            "   3.15039063e-01]\n",
            " [-1.00000000e+00  1.23287671e-01  1.65000000e+03  5.77300000e+01\n",
            "   2.79570313e-01]\n",
            " [-1.00000000e+00  1.23287671e-01  1.65250000e+03  5.87500000e+01\n",
            "   2.78750000e-01]\n",
            " [-1.00000000e+00  1.23287671e-01  1.65500000e+03  7.53800000e+01\n",
            "   3.45390625e-01]\n",
            " [-1.00000000e+00  1.23287671e-01  1.66000000e+03  6.17000000e+01\n",
            "   2.75390625e-01]\n",
            " [-1.00000000e+00  1.23287671e-01  1.66500000e+03  8.90000000e+01\n",
            "   3.81953125e-01]\n",
            " [-1.00000000e+00  1.23287671e-01  1.67000000e+03  8.13000000e+01\n",
            "   3.37421875e-01]\n",
            " [-1.00000000e+00  1.23287671e-01  1.68000000e+03  8.24700000e+01\n",
            "   3.19062500e-01]\n",
            " [-1.00000000e+00  1.23287671e-01  1.69000000e+03  8.88000000e+01\n",
            "   3.22031250e-01]]\n"
          ],
          "name": "stdout"
        }
      ]
    },
    {
      "metadata": {
        "id": "kGFlszcWzLKc",
        "colab_type": "code",
        "colab": {
          "base_uri": "https://localhost:8080/",
          "height": 361
        },
        "outputId": "c233dc02-8436-4c27-89e7-ec583136c1ec"
      },
      "cell_type": "code",
      "source": [
        "plt.plot(np_option_data12[:,2], np_option_data12[:,4], label = 'call implied volatility')\n",
        "plt.plot(np_option_data22[:,2], np_option_data22[:,4], label = 'put implied volatility')\n",
        "plt.ylabel('implied vol')\n",
        "plt.xlabel('strike')\n",
        "plt.legend();"
      ],
      "execution_count": 11,
      "outputs": [
        {
          "output_type": "display_data",
          "data": {
            "image/png": "[encoded data removed]",
            "text/plain": [
              "<Figure size 576x396 with 1 Axes>"
            ]
          },
          "metadata": {
            "tags": []
          }
        }
      ]
    },
    {
      "metadata": {
        "id": "v9JrUYRrjUKO",
        "colab_type": "text"
      },
      "cell_type": "markdown",
      "source": [
        "No obvious volatility smile observed"
      ]
    },
    {
      "metadata": {
        "id": "4f9VToIC8nMF",
        "colab_type": "code",
        "colab": {}
      },
      "cell_type": "code",
      "source": [
        "'''==========\n",
        "define a method to seek for a calibrated volatility\n",
        "============'''\n",
        "\n",
        "def bsm_calibration(gbm, option_list):\n",
        "  init_vol = .1 #initial guess\n",
        "  return so.fmin(error_function, init_vol, \n",
        "                 args = (gbm, option_list[i]), disp = 0)[0]\n"
      ],
      "execution_count": 0,
      "outputs": []
    },
    {
      "metadata": {
        "id": "JZjDiCSSCRug",
        "colab_type": "code",
        "colab": {
          "base_uri": "https://localhost:8080/",
          "height": 50
        },
        "outputId": "ad9fc93f-42d8-49d2-a5c3-d264886a908f"
      },
      "cell_type": "code",
      "source": [
        "calibrated_volatility1 = bsm_calibration(gbm1,option_list1)\n",
        "print('>>>>>>>> calibrated volatility for call is ' + str(calibrated_volatility1))\n",
        "\n",
        "calibrated_volatility2 = bsm_calibration(gbm1,option_list2)\n",
        "print('>>>>>>>> calibrated volatility for put is ' + str(calibrated_volatility2))"
      ],
      "execution_count": 13,
      "outputs": [
        {
          "output_type": "stream",
          "text": [
            ">>>>>>>> calibrated volatility for call is 0.2886328125000007\n",
            ">>>>>>>> calibrated volatility for put is 0.3220312500000008\n"
          ],
          "name": "stdout"
        }
      ]
    },
    {
      "metadata": {
        "id": "bpuOyjZiHPDJ",
        "colab_type": "code",
        "colab": {
          "base_uri": "https://localhost:8080/",
          "height": 202
        },
        "outputId": "6407254f-eb39-4f28-f0fe-29c2f1247d74"
      },
      "cell_type": "code",
      "source": [
        "gbm1.vol_ratio = calibrated_volatility1\n",
        "\n",
        "#find calibrated option price\n",
        "option_list1_calibrated_price = [gbm1.bsm_price(option_list1[i]) for i in range(len(option_list1))]\n",
        "print('>>>>>>>>> this is option price calculated from calibrated vol')\n",
        "option_list1_calibrated_price"
      ],
      "execution_count": 14,
      "outputs": [
        {
          "output_type": "stream",
          "text": [
            ">>>>>>>>> this is option price calculated from calibrated vol\n"
          ],
          "name": "stdout"
        },
        {
          "output_type": "execute_result",
          "data": {
            "text/plain": [
              "[75.46362917312808,\n",
              " 74.17549022564708,\n",
              " 72.90220244123998,\n",
              " 71.64374948410477,\n",
              " 70.40011176192854,\n",
              " 69.17126645367637,\n",
              " 67.95718753932545,\n",
              " 66.75784583149436,\n",
              " 65.57320900892057,\n",
              " 64.40324165173593]"
            ]
          },
          "metadata": {
            "tags": []
          },
          "execution_count": 14
        }
      ]
    },
    {
      "metadata": {
        "id": "A_3NzFPSJYZX",
        "colab_type": "code",
        "colab": {
          "base_uri": "https://localhost:8080/",
          "height": 361
        },
        "outputId": "7540e584-f508-4b3c-e01a-5b3db9c05fdc"
      },
      "cell_type": "code",
      "source": [
        "x_co = [option_list1[i].strike for i in range(len(option_list1))]\n",
        "y_co = [option_list1[i].market_price for i in range(len(option_list1))]\n",
        "plt.plot(x_co, y_co, label='market price')#not using 'o' here for observation purpose\n",
        "\n",
        "y_co = option_list1_calibrated_price\n",
        "plt.plot(x_co, y_co, label = 'calib price')\n",
        "\n",
        "plt.ylabel('option price')\n",
        "plt.xlabel('strike with fixed maturity')\n",
        "plt.legend();"
      ],
      "execution_count": 19,
      "outputs": [
        {
          "output_type": "display_data",
          "data": {
            "image/png": "[encoded data removed]",
            "text/plain": [
              "<Figure size 576x396 with 1 Axes>"
            ]
          },
          "metadata": {
            "tags": []
          }
        }
      ]
    },
    {
      "metadata": {
        "id": "8zqBHnKlLAuz",
        "colab_type": "code",
        "colab": {
          "base_uri": "https://localhost:8080/",
          "height": 202
        },
        "outputId": "0c638348-a8cc-4e9d-e030-938ab0631dd3"
      },
      "cell_type": "code",
      "source": [
        "gbm1.vol_ratio = calibrated_volatility2\n",
        "\n",
        "#find calibrated option price\n",
        "option_list2_calibrated_price = [gbm1.bsm_price(option_list2[i]) for i in range(len(option_list2))]\n",
        "print('>>>>>>>>> this is option price calculated from calibrated vol')\n",
        "option_list2_calibrated_price"
      ],
      "execution_count": 16,
      "outputs": [
        {
          "output_type": "stream",
          "text": [
            ">>>>>>>>> this is option price calculated from calibrated vol\n"
          ],
          "name": "stdout"
        },
        {
          "output_type": "execute_result",
          "data": {
            "text/plain": [
              "[65.07837813511264,\n",
              " 66.28392924765251,\n",
              " 67.50281215126017,\n",
              " 68.7350114821088,\n",
              " 69.98050953110874,\n",
              " 72.51131934281295,\n",
              " 75.0950538008899,\n",
              " 77.73148899636885,\n",
              " 83.16139017845114,\n",
              " 88.79854086513524]"
            ]
          },
          "metadata": {
            "tags": []
          },
          "execution_count": 16
        }
      ]
    },
    {
      "metadata": {
        "id": "q-nEDv7yLIAA",
        "colab_type": "code",
        "colab": {
          "base_uri": "https://localhost:8080/",
          "height": 361
        },
        "outputId": "99799856-47c8-4a39-acf2-801e03f68216"
      },
      "cell_type": "code",
      "source": [
        "x_co = [option_list2[i].strike for i in range(len(option_list2))]\n",
        "y_co = [option_list2[i].market_price for i in range(len(option_list2))]\n",
        "plt.plot(x_co, y_co, label='market price')#not using 'o' for observation purpose\n",
        "\n",
        "y_co = option_list2_calibrated_price\n",
        "plt.plot(x_co, y_co, label = 'calib price')\n",
        "\n",
        "plt.ylabel('option price')\n",
        "plt.xlabel('strike with fixed maturity')\n",
        "plt.legend();"
      ],
      "execution_count": 18,
      "outputs": [
        {
          "output_type": "display_data",
          "data": {
            "image/png": "[encoded data removed]",
            "text/plain": [
              "<Figure size 576x396 with 1 Axes>"
            ]
          },
          "metadata": {
            "tags": []
          }
        }
      ]
    },
    {
      "metadata": {
        "id": "n-sLrR7_i_DJ",
        "colab_type": "text"
      },
      "cell_type": "markdown",
      "source": [
        "as the comparison between the market price and the calibrated price shows, the predicted values under BSM model is does not resemble the market price, which suggests that BSM assumptions may not be suitable in this case.\n",
        "\n",
        "observation: connecting the market prices with line, the shape of the market prices is similar to the shape of the implied volatility for call and put options"
      ]
    },
    {
      "metadata": {
        "id": "v7jx_6NakeiL",
        "colab_type": "text"
      },
      "cell_type": "markdown",
      "source": [
        "a second set of data is used for this homework, which has a longer maturity"
      ]
    },
    {
      "metadata": {
        "id": "JHgqmFGki9Cn",
        "colab_type": "code",
        "colab": {}
      },
      "cell_type": "code",
      "source": [
        ""
      ],
      "execution_count": 0,
      "outputs": []
    }
  ]
}