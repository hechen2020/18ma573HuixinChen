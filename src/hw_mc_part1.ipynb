{
  "nbformat": 4,
  "nbformat_minor": 0,
  "metadata": {
    "colab": {
      "name": "hw_mc_part1.ipynb",
      "version": "0.3.2",
      "provenance": [],
      "include_colab_link": true
    },
    "kernelspec": {
      "name": "python3",
      "display_name": "Python 3"
    }
  },
  "cells": [
    {
      "cell_type": "markdown",
      "metadata": {
        "id": "view-in-github",
        "colab_type": "text"
      },
      "source": [
        "<a href=\"https://colab.research.google.com/github/hechen2020/19ma573HuixinChen/blob/master/src/hw_mc_part1.ipynb\" target=\"_parent\"><img src=\"https://colab.research.google.com/assets/colab-badge.svg\" alt=\"Open In Colab\"/></a>"
      ]
    },
    {
      "metadata": {
        "id": "ssq-mIYXmqUQ",
        "colab_type": "text"
      },
      "cell_type": "markdown",
      "source": [
        "Given i.i.d $\\{\\alpha_i: i\\in 1, 2, \\ldots, N\\}$, we use \n",
        "$$\\bar \\alpha = \\frac 1 N \\sum_{i=1}^N \\alpha_i$$\n",
        "as its estimator of the mean $\\mathbb E[\\alpha_1]$ \n",
        "and \n",
        "$$\\beta_N = \\frac 1 N \\sum_{i=1}^N (\\alpha_i -\\bar \\alpha)^2$$\n",
        "as the estimator of $Var(\\alpha_1)$.\n",
        "\n",
        "\n",
        "Suppose $\\alpha_1\\in L^2$, then \n",
        "- Prove $\\beta_N$ is biased.\n",
        "- Prove that $\\beta_N$ is consistent in $L^2$.\n",
        "- Can you propose an unbiased estimator?\n"
      ]
    },
    {
      "metadata": {
        "id": "nrVvarsCmsDf",
        "colab_type": "text"
      },
      "cell_type": "markdown",
      "source": [
        "##Prove: $\\beta_N$  is biased\n",
        "\n",
        "$$\\mathbb{E}[\\beta_N]=\\mathbb{E}[\\frac{1}{N}\\sum_{i=1}^{N}(\\alpha_i-\\bar{\\alpha})^2]=\\frac{1}{N}\\mathbb{E}[\\sum_{i=1}^{N}(\\alpha_i^2-2\\alpha_i\\bar{\\alpha}+\\bar{\\alpha}^2)]=\\frac{1}{N}\\mathbb{E}[\\sum_{i=1}^{N}\\alpha_i^2-2\\sum_{i=1}^{N}\\alpha_i\\bar{\\alpha}+\\sum_{i=1}^{N}\\bar{\\alpha}^2]$$\n",
        "\n",
        "since $\\bar{\\alpha}=\\frac{1}{N}\\sum_{i=1}^{N}\\alpha_i$ is the estimator of the mean $\\mathbb{E}[\\alpha_1]$, we know the following are true\n",
        "\n",
        "$$\\sum_{i=1}^{N}\\alpha_i=N\\bar{\\alpha}$$\n",
        "\n",
        "$$\\sum_{i=1}^{N}\\bar{\\alpha}^2=N\\bar{\\alpha}^2$$\n",
        "\n",
        "so the original expected value becomes\n",
        "\n",
        "$$\\mathbb{E}[\\beta_N]=\\frac{1}{N}\\mathbb{E}[\\sum_{i=1}^{N}\\alpha_i^2-2N\\bar{\\alpha}^2+N\\bar{\\alpha}^2]=\\frac{1}{N}\\mathbb{E}[\\sum_{i=1}^{N}\\alpha_i^2-N\\bar{\\alpha}^2]=\\frac{1}{N}\\mathbb{E}[\\sum_{i=1}^{N}\\alpha_i^2]-\\frac{1}{N}\\mathbb{E}[N\\bar{\\alpha}^2]=\\mathbb{E}[\\alpha_1^2]-\\mathbb{E}[\\bar{\\alpha}^2]$$\n",
        "\n",
        "\n",
        "we know\n",
        "\n",
        "$$Var[\\alpha_1]=\\mathbb{E}[\\alpha_1^2]-(\\mathbb{E}[\\alpha_1])^2$$\n",
        "\n",
        "$$\\implies\\mathbb{E}[\\alpha_1^2]=Var[\\alpha_1]+(\\mathbb{E}[\\alpha_1])^2$$\n",
        "\n",
        "and\n",
        "\n",
        "$$Var[\\bar{\\alpha}]=\\mathbb{E}[\\bar{\\alpha}^2]-(\\mathbb{E}[\\bar{\\alpha}])^2$$\n",
        "\n",
        "$$\\implies\\mathbb{E}[\\bar{\\alpha}^2]=Var[\\bar{\\alpha}]+(\\mathbb{E}[\\bar{\\alpha}])^2$$\n",
        "\n",
        "and\n",
        "\n",
        "$$\\mathbb{E}[\\alpha_1]=\\mathbb{E}[\\bar{\\alpha}]$$\n",
        "\n",
        "so\n",
        "\n",
        "$$\\mathbb{E}[\\beta_N]=[Var[\\alpha_1]+(\\mathbb{E}[\\alpha_1])^2]-[Var[\\bar{\\alpha}]+(\\mathbb{E}[\\bar{\\alpha}])^2]=Var[\\alpha_1]-Var[\\bar{\\alpha}]$$\n",
        "\n",
        "but\n",
        "\n",
        "$$Var[\\bar{\\alpha}]=Var[\\frac{1}{N}\\sum_{i=1}^{N}\\alpha_i]=\\frac{1}{N^2}Var[\\sum_{i=1}^{N}\\alpha_i]$$\n",
        "\n",
        "where, since $\\alpha_i$ are i.i.d., \n",
        "\n",
        "$$Var[\\bar{\\alpha}]=\\frac{1}{N^2}\\sum_{i=1}^{N}Var[\\alpha_i]=\\frac{1}{N^2}NVar[\\alpha_1]=\\frac{1}{N}Var[\\alpha_1]\\not=Var[\\alpha_1]$$\n",
        "\n",
        "Thus $\\mathbb{E}[\\beta_N]\\not=0$, and  in fact\n",
        "\n",
        "$$\\mathbb{E}[\\beta_N]=Var[\\alpha_1]-\\frac{1}{N}Var[\\alpha_1]=\\frac{N-1}{N}Var[\\alpha_1]$$"
      ]
    },
    {
      "metadata": {
        "id": "TNziTAQy09lN",
        "colab_type": "text"
      },
      "cell_type": "markdown",
      "source": [
        "##Prove: $\\beta_N$ is consistent in $L^2$\n",
        "\n",
        "we know from the previous part that\n",
        "\n",
        "$$\\mathbb{E}[\\beta_N]=\\frac{N-1}{N}Var[\\alpha_1]$$\n",
        "\n",
        "thus\n",
        "\n",
        "$$\\beta_N-Var[\\alpha_1]=-\\frac{1}{N}Var[\\alpha_1]$$\n",
        "\n",
        "and as $N\\rightarrow\\infty$, \n",
        "\n",
        "$$\\mathbb{E}[\\beta_N-Var[\\alpha_1]]^2=(-\\frac{1}{N}Var[\\alpha_1])^2\\rightarrow 0$$\n",
        "\n",
        "Therefore $\\beta_N$ is consistent in $L^2$\n",
        "\n",
        "\n",
        "\n",
        "\n",
        "\n"
      ]
    },
    {
      "metadata": {
        "id": "NqAUS6k81KL4",
        "colab_type": "text"
      },
      "cell_type": "markdown",
      "source": [
        "##Proposing unbiased estimator for $Var[\\alpha_1]$\n",
        "\n",
        "Taking into account of part 1, where $\\mathbb{E}[\\beta_N]=\\frac{N-1}{N}Var[\\alpha_1]$,\n",
        "\n",
        "we can slightly modify it to be $\\beta_N = \\frac{1}{N-1} \\sum_{i=1}^N (\\alpha_i -\\bar \\alpha)^2$.\n",
        "\n",
        "This way we can obtain an unbiased estimator\n",
        "\n",
        "###Proof\n",
        "\n",
        "Using results in part 1, we can obtain \n",
        "\n",
        "$$\\mathbb{E}[\\beta_N]=\\mathbb{E}[\\frac{1}{N-1}\\sum_{i=1}^{N}(\\alpha_i-\\bar{\\alpha})^2]=...=\\frac{1}{N-1}\\mathbb{E}[\\sum_{i=1}^{N}\\alpha_i^2]-\\frac{1}{N-1}\\mathbb{E}[N\\bar{\\alpha}^2]$$\n",
        "\n",
        "multiply both sides by $\\frac{N-1}{N}$, we get\n",
        "\n",
        "$$\\frac{N-1}{N}\\mathbb{E}[\\beta_N]=\\frac{1}{N}\\mathbb{E}[\\sum_{i=1}^{N}\\alpha_i^2]-\\frac{1}{N}\\mathbb{E}[N\\bar{\\alpha}^2]=\\mathbb{E}[\\alpha_1^2]-\\mathbb{E}[\\bar{\\alpha}^2]=Var[\\alpha_1]-Var[\\bar{\\alpha}]=Var[\\alpha_1]-\\frac{1}{N}Var[\\alpha_1]=\\frac{N-1}{N}Var[\\alpha_1]$$\n",
        "\n",
        "Thus\n",
        "\n",
        "$$\\mathbb{E}[\\beta_N]=Var[\\alpha_1]$$\n",
        "\n",
        "and $\\beta_N = \\frac{1}{N-1} \\sum_{i=1}^N (\\alpha_i -\\bar \\alpha)^2$ is an unbiased estimator of $Var[\\alpha_1]$\n",
        "\n"
      ]
    },
    {
      "metadata": {
        "id": "AHMgnsSHmlYT",
        "colab_type": "code",
        "colab": {}
      },
      "cell_type": "code",
      "source": [
        ""
      ],
      "execution_count": 0,
      "outputs": []
    }
  ]
}