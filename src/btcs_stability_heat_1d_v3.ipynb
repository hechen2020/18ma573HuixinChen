{
  "nbformat": 4,
  "nbformat_minor": 0,
  "metadata": {
    "colab": {
      "name": "btcs_stability_heat_1d.ipynb",
      "version": "0.3.2",
      "provenance": [],
      "include_colab_link": true
    },
    "kernelspec": {
      "name": "python3",
      "display_name": "Python 3"
    }
  },
  "cells": [
    {
      "cell_type": "markdown",
      "metadata": {
        "id": "view-in-github",
        "colab_type": "text"
      },
      "source": [
        "<a href=\"https://colab.research.google.com/github/hechen2020/19ma573HuixinChen/blob/master/src/btcs_stability_heat_1d_v3.ipynb\" target=\"_parent\"><img src=\"https://colab.research.google.com/assets/colab-badge.svg\" alt=\"Open In Colab\"/></a>"
      ]
    },
    {
      "metadata": {
        "id": "qWNCQ9GGnJ_l",
        "colab_type": "code",
        "colab": {}
      },
      "cell_type": "code",
      "source": [
        "import numpy as np\n",
        "import matplotlib.pyplot as plt"
      ],
      "execution_count": 0,
      "outputs": []
    },
    {
      "metadata": {
        "id": "uDEhLhxzl7OY",
        "colab_type": "code",
        "colab": {}
      },
      "cell_type": "code",
      "source": [
        "# other parameters\n",
        "al = 1\n",
        "dx = .2 #space mesh size\n",
        "rho = 1. #conditinal number, to be less than .5 for the stability\n",
        "dt = rho*(dx**2)/al #time step size"
      ],
      "execution_count": 0,
      "outputs": []
    },
    {
      "metadata": {
        "id": "iJsKlUWlm9nu",
        "colab_type": "code",
        "colab": {}
      },
      "cell_type": "code",
      "source": [
        "# initial function f\n",
        "def init_f(x):\n",
        "  return np.sin(np.pi*x)"
      ],
      "execution_count": 0,
      "outputs": []
    },
    {
      "metadata": {
        "id": "kjvvE1aZp57l",
        "colab_type": "code",
        "colab": {}
      },
      "cell_type": "code",
      "source": [
        "# true function\n",
        "def true_f(x,t):\n",
        "  return np.exp(-np.pi**2 * t)*np.sin(np.pi * x)"
      ],
      "execution_count": 0,
      "outputs": []
    },
    {
      "metadata": {
        "id": "0M1qXrQGmkJg",
        "colab_type": "text"
      },
      "cell_type": "markdown",
      "source": [
        "**Use ftcs to solve heat equation and find subnorm of error function**"
      ]
    },
    {
      "metadata": {
        "id": "a3p6cspem28K",
        "colab_type": "code",
        "colab": {}
      },
      "cell_type": "code",
      "source": [
        "def ftcs(a,b,nt,dx,dt,rho):\n",
        "  nx = int((b-a)/dx)\n",
        "  u = np.zeros((nt,nx))\n",
        "  \n",
        "  for x in range(0,nx):\n",
        "    u[0][x] = init_f(a+x*dx)\n",
        "    \n",
        "  for t in range(0,nt-1):\n",
        "    for x in range(1,nx-1):\n",
        "      u[t+1][x] = rho*(u[t][x-1]) + (1-2*rho)*(u[t][x]) + rho*(u[t][x+1])\n",
        "      \n",
        "      \n",
        "  return u"
      ],
      "execution_count": 0,
      "outputs": []
    },
    {
      "metadata": {
        "id": "Ej75ChX-nalg",
        "colab_type": "code",
        "colab": {
          "base_uri": "https://localhost:8080/",
          "height": 235
        },
        "outputId": "71645f8b-b44e-4c69-aa53-a623f3df98dc"
      },
      "cell_type": "code",
      "source": [
        "ftcs_sol = ftcs(0,1.4,200,dx,dt,rho)\n",
        "print(ftcs_sol)"
      ],
      "execution_count": 11,
      "outputs": [
        {
          "output_type": "stream",
          "text": [
            "[[ 0.00000000e+00  5.87785252e-01  9.51056516e-01  9.51056516e-01\n",
            "   5.87785252e-01  1.22464680e-16]\n",
            " [ 0.00000000e+00  3.63271264e-01  5.87785252e-01  5.87785252e-01\n",
            "   3.63271264e-01  0.00000000e+00]\n",
            " [ 0.00000000e+00  2.24513988e-01  3.63271264e-01  3.63271264e-01\n",
            "   2.24513988e-01  0.00000000e+00]\n",
            " ...\n",
            " [ 0.00000000e+00  2.07993714e+65 -3.36540899e+65  3.36540899e+65\n",
            "  -2.07993714e+65  0.00000000e+00]\n",
            " [ 0.00000000e+00 -5.44534613e+65  8.81075512e+65 -8.81075512e+65\n",
            "   5.44534613e+65  0.00000000e+00]\n",
            " [ 0.00000000e+00  1.42561012e+66 -2.30668564e+66  2.30668564e+66\n",
            "  -1.42561012e+66  0.00000000e+00]]\n"
          ],
          "name": "stdout"
        }
      ]
    },
    {
      "metadata": {
        "id": "yqSvqq7PsR2S",
        "colab_type": "code",
        "colab": {}
      },
      "cell_type": "code",
      "source": [
        "def error_fcn(a,b,nt,dx,dt,sol):\n",
        "  nx = int((b-a)/dx)\n",
        "  e = np.zeros((nt,nx))\n",
        "  \n",
        "  for t in range(nt):\n",
        "    for x in range(nx):\n",
        "      e[t][x] = np.abs(sol[t][x]-true_f(a+x*dx,t*dt))\n",
        "  return e"
      ],
      "execution_count": 0,
      "outputs": []
    },
    {
      "metadata": {
        "id": "rPZNkZQkqdbp",
        "colab_type": "code",
        "outputId": "f013578f-436b-464a-92c9-c47b474cf437",
        "colab": {
          "base_uri": "https://localhost:8080/",
          "height": 34
        }
      },
      "cell_type": "code",
      "source": [
        "err = error_fcn(0, 1.4, 200, dx, dt, ftcs_sol)\n",
        "superr = np.max(err)\n",
        "print('the supnorm of error function is ' + str(superr))\n",
        "#print(err)"
      ],
      "execution_count": 17,
      "outputs": [
        {
          "output_type": "stream",
          "text": [
            "the supnorm of error function is 2.3066856359409035e+66\n"
          ],
          "name": "stdout"
        }
      ]
    },
    {
      "metadata": {
        "id": "NpkS_FJRsyI5",
        "colab_type": "text"
      },
      "cell_type": "markdown",
      "source": [
        "Since the supnorm of the ftcs sol is sufficiently large, we can say the ftcs method diverge and supnorm is $\\infty$"
      ]
    },
    {
      "metadata": {
        "id": "m5KEztRx7kQq",
        "colab_type": "code",
        "outputId": "0fa88c73-c392-476c-8f06-664a00dd967d",
        "colab": {
          "base_uri": "https://localhost:8080/",
          "height": 403
        }
      },
      "cell_type": "code",
      "source": [
        "xx = np.arange(0,1.2,.2)\n",
        "print(xx)\n",
        "error1 = np.zeros(6)\n",
        "for i in range(len(error1)):\n",
        "  error1[i] = true_f(xx[i], 1.92) - ftcs_sol[int(1.92/dt)][i]\n",
        "print(error1)\n",
        "error2 = np.zeros(6)\n",
        "for i in range(len(error2)):\n",
        "  error2[i] = true_f(xx[i], 1.96) - ftcs_sol[int(1.96/dt)][i]\n",
        "print(error2)\n",
        "error3 = np.zeros(6)\n",
        "for i in range(len(error3)):\n",
        "  error3[i] = true_f(xx[i], 2.00) - ftcs_sol[int(2.00/dt)][i]\n",
        "print(error3)\n",
        "plt.plot(xx,error1)\n",
        "plt.plot(xx,error2)\n",
        "plt.plot(xx,error3)"
      ],
      "execution_count": 18,
      "outputs": [
        {
          "output_type": "stream",
          "text": [
            "[0.  0.2 0.4 0.6 0.8 1. ]\n",
            "[ 0.00000000e+00 -4.18560397e+02  6.77244950e+02 -6.77244950e+02\n",
            "  4.18560398e+02  7.21583461e-25]\n",
            "[ 0.00000000e+00  1.09580535e+03 -1.77305030e+03  1.77305030e+03\n",
            " -1.09580535e+03  4.86221301e-25]\n",
            "[ 0.00000000e+00 -2.86885564e+03  4.64190594e+03 -4.64190594e+03\n",
            "  2.86885565e+03  3.27628288e-25]\n"
          ],
          "name": "stdout"
        },
        {
          "output_type": "execute_result",
          "data": {
            "text/plain": [
              "[<matplotlib.lines.Line2D at 0x7f169ccc0748>]"
            ]
          },
          "metadata": {
            "tags": []
          },
          "execution_count": 18
        },
        {
          "output_type": "display_data",
          "data": {
            "image/png": "[encoded data removed]",
            "text/plain": [
              "<Figure size 432x288 with 1 Axes>"
            ]
          },
          "metadata": {
            "tags": []
          }
        }
      ]
    },
    {
      "metadata": {
        "id": "Hx_EKHYvmpX4",
        "colab_type": "text"
      },
      "cell_type": "markdown",
      "source": [
        "**Use btcs to solve heat equation and find subnorm of error function**"
      ]
    },
    {
      "metadata": {
        "id": "mEUct01x4ZMA",
        "colab_type": "text"
      },
      "cell_type": "markdown",
      "source": [
        "BTCS can be expressed as\n",
        "\n",
        "$$\n",
        "\\begin{bmatrix}\n",
        "   1+2\\rho & -\\rho & 0 & \\dots  & 0 \\\\\n",
        "    -\\rho & \\ddots & \\ddots & \\ddots  & \\vdots \\\\\n",
        "    0 & \\ddots & \\ddots & \\ddots & 0 \\\\\n",
        "    \\vdots & \\ddots & \\ddots& \\ddots & -\\rho\\\\\n",
        "    0 & \\dots & 0 & -\\rho  & 1+2\\rho\n",
        "\\end{bmatrix}\n",
        "\\times\n",
        "\\begin{bmatrix}\n",
        "   u_{0,k+1} \\\\\n",
        "   u_{1,k+1} \\\\\n",
        "   \\vdots \\\\\n",
        "   \\vdots\\\\\n",
        "   u_{n,k+1}\n",
        "\\end{bmatrix}\n",
        "=\n",
        "\\begin{bmatrix}\n",
        "   u_{0,k} \\\\\n",
        "   u_{1,k} \\\\\n",
        "   \\vdots \\\\\n",
        "   \\vdots\\\\\n",
        "   u_{n,k}\n",
        "\\end{bmatrix}\n",
        "$$\n",
        "\n",
        "so the upper level is the inverse of the matrix times the lower level"
      ]
    },
    {
      "metadata": {
        "id": "4kuZcW4vm3Tp",
        "colab_type": "code",
        "colab": {}
      },
      "cell_type": "code",
      "source": [
        "def btcs(a, b, nt, dx, dt, rho):\n",
        "  nx = int((b-a)/dx)\n",
        "  u = np.zeros((nt,nx))\n",
        "  \n",
        "  ld = np.repeat(-rho,nx-1)#lower diag\n",
        "  md = np.repeat(1+2*rho,nx)#main diag\n",
        "  ud = np.repeat(-rho,nx-1)#upper diag\n",
        "  \n",
        "  A = np.diag(ld, -1) + np.diag(md, 0) + np.diag(ud, 1)#matrix\n",
        "  \n",
        "  for x in range(0,nx):\n",
        "    u[0][x] = init_f(a+x*dx)\n",
        "  \n",
        "  for t in range(0,nt-1):\n",
        "    u[t+1][:] = np.linalg.inv(A).dot(u[t][:])\n",
        "  \n",
        "  return u\n",
        "  \n",
        "  "
      ],
      "execution_count": 0,
      "outputs": []
    },
    {
      "metadata": {
        "id": "WenYudAxzvie",
        "colab_type": "code",
        "colab": {
          "base_uri": "https://localhost:8080/",
          "height": 235
        },
        "outputId": "903abdbf-092f-47be-e433-5019261fabd3"
      },
      "cell_type": "code",
      "source": [
        "btcs_sol = btcs(0,1.4,200,dx,dt,rho)\n",
        "print(btcs_sol)"
      ],
      "execution_count": 20,
      "outputs": [
        {
          "output_type": "stream",
          "text": [
            "[[0.00000000e+00 5.87785252e-01 9.51056516e-01 9.51056516e-01\n",
            "  5.87785252e-01 1.22464680e-16]\n",
            " [1.63586694e-01 4.90760082e-01 7.20908299e-01 7.20908299e-01\n",
            "  4.90760082e-01 1.63586694e-01]\n",
            " [1.93873995e-01 4.18035290e-01 5.69471795e-01 5.69471795e-01\n",
            "  4.18035290e-01 1.93873995e-01]\n",
            " ...\n",
            " [1.19095986e-16 2.14603551e-16 2.67606252e-16 2.67606252e-16\n",
            "  2.14603551e-16 1.19095986e-16]\n",
            " [9.94071758e-17 1.79125541e-16 2.23365896e-16 2.23365896e-16\n",
            "  1.79125541e-16 9.94071758e-17]\n",
            " [8.29732967e-17 1.49512714e-16 1.86439305e-16 1.86439305e-16\n",
            "  1.49512714e-16 8.29732967e-17]]\n"
          ],
          "name": "stdout"
        }
      ]
    },
    {
      "metadata": {
        "id": "tfFCKZhTz4CW",
        "colab_type": "code",
        "outputId": "f6099580-e2c5-4478-f1f4-7a5534f84ada",
        "colab": {
          "base_uri": "https://localhost:8080/",
          "height": 34
        }
      },
      "cell_type": "code",
      "source": [
        "err = error_fcn(0, 1.4, 200, dx, dt, btcs_sol)\n",
        "superr = np.max(err)\n",
        "print('the supnorm of error function is ' + str(superr))\n",
        "#print(err)"
      ],
      "execution_count": 21,
      "outputs": [
        {
          "output_type": "stream",
          "text": [
            "the supnorm of error function is 0.19387399477467307\n"
          ],
          "name": "stdout"
        }
      ]
    },
    {
      "metadata": {
        "id": "TOek-2symuk9",
        "colab_type": "text"
      },
      "cell_type": "markdown",
      "source": [
        "**Plot three error curves with $t = 1.92, 1.96, 2.00$ for btcs**\n",
        "\n",
        "*the ranges have been slightly changed so the number of steps for t are integers*"
      ]
    },
    {
      "metadata": {
        "id": "yP6-4tlXm3oo",
        "colab_type": "code",
        "outputId": "3193b46a-1edc-4ab1-d6d0-d98916f50838",
        "colab": {
          "base_uri": "https://localhost:8080/",
          "height": 403
        }
      },
      "cell_type": "code",
      "source": [
        "xx = np.arange(0,1.2,.2)\n",
        "print(xx)\n",
        "error1 = np.zeros(6)\n",
        "for i in range(len(error1)):\n",
        "  error1[i] = true_f(xx[i], 1.92) - btcs_sol[int(1.92/dt)][i]\n",
        "print(error1)\n",
        "error2 = np.zeros(6)\n",
        "for i in range(len(error2)):\n",
        "  error2[i] = true_f(xx[i], 1.96) - btcs_sol[int(1.96/dt)][i]\n",
        "print(error2)\n",
        "error3 = np.zeros(6)\n",
        "for i in range(len(error3)):\n",
        "  error3[i] = true_f(xx[i], 2.00) - btcs_sol[int(2.00/dt)][i]\n",
        "print(error3)\n",
        "plt.plot(xx,error1)\n",
        "plt.plot(xx,error2)\n",
        "plt.plot(xx,error3)"
      ],
      "execution_count": 22,
      "outputs": [
        {
          "output_type": "stream",
          "text": [
            "[0.  0.2 0.4 0.6 0.8 1. ]\n",
            "[-7.04377560e-05 -1.26920987e-04 -1.58266597e-04 -1.58266597e-04\n",
            " -1.26920987e-04 -7.04377560e-05]\n",
            "[-5.87930679e-05 -1.05939114e-04 -1.32103048e-04 -1.32103048e-04\n",
            " -1.05939114e-04 -5.87930679e-05]\n",
            "[-4.90734661e-05 -8.84257579e-05 -1.10264533e-04 -1.10264533e-04\n",
            " -8.84257579e-05 -4.90734661e-05]\n"
          ],
          "name": "stdout"
        },
        {
          "output_type": "execute_result",
          "data": {
            "text/plain": [
              "[<matplotlib.lines.Line2D at 0x7f169cc9fe80>]"
            ]
          },
          "metadata": {
            "tags": []
          },
          "execution_count": 22
        },
        {
          "output_type": "display_data",
          "data": {
            "image/png": "[encoded data removed]",
            "text/plain": [
              "<Figure size 432x288 with 1 Axes>"
            ]
          },
          "metadata": {
            "tags": []
          }
        }
      ]
    },
    {
      "metadata": {
        "id": "dEASUKmCncj7",
        "colab_type": "code",
        "colab": {}
      },
      "cell_type": "code",
      "source": [
        ""
      ],
      "execution_count": 0,
      "outputs": []
    }
  ]
}