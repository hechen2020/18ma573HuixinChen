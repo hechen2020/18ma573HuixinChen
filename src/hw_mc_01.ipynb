{
  "nbformat": 4,
  "nbformat_minor": 0,
  "metadata": {
    "colab": {
      "name": "hw_mc_01.ipynb",
      "version": "0.3.2",
      "provenance": [],
      "collapsed_sections": [],
      "include_colab_link": true
    },
    "kernelspec": {
      "name": "python3",
      "display_name": "Python 3"
    }
  },
  "cells": [
    {
      "cell_type": "markdown",
      "metadata": {
        "id": "view-in-github",
        "colab_type": "text"
      },
      "source": [
        "<a href=\"https://colab.research.google.com/github/hechen2020/19ma573HuixinChen/blob/master/src/hw_mc_01.ipynb\" target=\"_parent\"><img src=\"https://colab.research.google.com/assets/colab-badge.svg\" alt=\"Open In Colab\"/></a>"
      ]
    },
    {
      "metadata": {
        "id": "ssq-mIYXmqUQ",
        "colab_type": "text"
      },
      "cell_type": "markdown",
      "source": [
        "Given i.i.d $\\{\\alpha_i: i\\in 1, 2, \\ldots, N\\}$, we use \n",
        "$$\\bar \\alpha = \\frac 1 N \\sum_{i=1}^N \\alpha_i$$\n",
        "as its estimator of the mean $\\mathbb E[\\alpha_1]$ \n",
        "and \n",
        "$$\\beta_N = \\frac 1 N \\sum_{i=1}^N (\\alpha_i -\\bar \\alpha)^2$$\n",
        "as the estimator of $Var(\\alpha_1)$.\n",
        "\n",
        "\n",
        "Suppose $\\alpha_1\\in L^2$, then \n",
        "- Prove $\\beta_N$ is biased.\n",
        "- Prove that $\\beta_N$ is consistent in $L^2$.\n",
        "- Can you propose an unbiased estimator?\n"
      ]
    },
    {
      "metadata": {
        "id": "nrVvarsCmsDf",
        "colab_type": "text"
      },
      "cell_type": "markdown",
      "source": [
        "##Prove: $\\beta_N$  is biased\n",
        "\n",
        "$$\\mathbb{E}[\\beta_N]=\\mathbb{E}[\\frac{1}{N}\\sum_{i=1}^{N}(\\alpha_i-\\bar{\\alpha})^2]=\\frac{1}{N}\\mathbb{E}[\\sum_{i=1}^{N}(\\alpha_i^2-2\\alpha_i\\bar{\\alpha}+\\bar{\\alpha}^2)]=\\frac{1}{N}\\mathbb{E}[\\sum_{i=1}^{N}\\alpha_i^2-2\\sum_{i=1}^{N}\\alpha_i\\bar{\\alpha}+\\sum_{i=1}^{N}\\bar{\\alpha}^2]$$\n",
        "\n",
        "since $\\bar{\\alpha}=\\frac{1}{N}\\sum_{i=1}^{N}\\alpha_i$ is the estimator of the mean $\\mathbb{E}[\\alpha_1]$, we know the following are true\n",
        "\n",
        "$$\\sum_{i=1}^{N}\\alpha_i=N\\bar{\\alpha}$$\n",
        "\n",
        "$$\\sum_{i=1}^{N}\\bar{\\alpha}^2=N\\bar{\\alpha}^2$$\n",
        "\n",
        "so the original expected value becomes\n",
        "\n",
        "$$\\mathbb{E}[\\beta_N]=\\frac{1}{N}\\mathbb{E}[\\sum_{i=1}^{N}\\alpha_i^2-2N\\bar{\\alpha}^2+N\\bar{\\alpha}^2]=\\frac{1}{N}\\mathbb{E}[\\sum_{i=1}^{N}\\alpha_i^2-N\\bar{\\alpha}^2]=\\frac{1}{N}\\mathbb{E}[\\sum_{i=1}^{N}\\alpha_i^2]-\\frac{1}{N}\\mathbb{E}[N\\bar{\\alpha}^2]=\\mathbb{E}[\\alpha_1^2]-\\mathbb{E}[\\bar{\\alpha}^2]$$\n",
        "\n",
        "\n",
        "we know\n",
        "\n",
        "$$Var[\\alpha_1]=\\mathbb{E}[\\alpha_1^2]-(\\mathbb{E}[\\alpha_1])^2$$\n",
        "\n",
        "$$\\implies\\mathbb{E}[\\alpha_1^2]=Var[\\alpha_1]+(\\mathbb{E}[\\alpha_1])^2$$\n",
        "\n",
        "and\n",
        "\n",
        "$$Var[\\bar{\\alpha}]=\\mathbb{E}[\\bar{\\alpha}^2]-(\\mathbb{E}[\\bar{\\alpha}])^2$$\n",
        "\n",
        "$$\\implies\\mathbb{E}[\\bar{\\alpha}^2]=Var[\\bar{\\alpha}]+(\\mathbb{E}[\\bar{\\alpha}])^2$$\n",
        "\n",
        "and\n",
        "\n",
        "$$\\mathbb{E}[\\alpha_1]=\\mathbb{E}[\\bar{\\alpha}]$$\n",
        "\n",
        "so\n",
        "\n",
        "$$\\mathbb{E}[\\beta_N]=[Var[\\alpha_1]+(\\mathbb{E}[\\alpha_1])^2]-[Var[\\bar{\\alpha}]+(\\mathbb{E}[\\bar{\\alpha}])^2]=Var[\\alpha_1]-Var[\\bar{\\alpha}]$$\n",
        "\n",
        "but\n",
        "\n",
        "$$Var[\\bar{\\alpha}]=Var[\\frac{1}{N}\\sum_{i=1}^{N}\\alpha_i]=\\frac{1}{N^2}Var[\\sum_{i=1}^{N}\\alpha_i]$$\n",
        "\n",
        "where, since $\\alpha_i$ are i.i.d., \n",
        "\n",
        "$$Var[\\bar{\\alpha}]=\\frac{1}{N^2}\\sum_{i=1}^{N}Var[\\alpha_i]=\\frac{1}{N^2}NVar[\\alpha_1]=\\frac{1}{N}Var[\\alpha_1]\\not=Var[\\alpha_1]$$\n",
        "\n",
        "Thus $\\mathbb{E}[\\beta_N]\\not=0$, and  in fact\n",
        "\n",
        "$$\\mathbb{E}[\\beta_N]=Var[\\alpha_1]-\\frac{1}{N}Var[\\alpha_1]=\\frac{N-1}{N}Var[\\alpha_1]$$"
      ]
    },
    {
      "metadata": {
        "id": "TNziTAQy09lN",
        "colab_type": "text"
      },
      "cell_type": "markdown",
      "source": [
        "##Prove: $\\beta_N$ is consistent in $L^2$\n",
        "\n",
        "we know from the previous part that\n",
        "\n",
        "$$\\mathbb{E}[\\beta_N]=\\frac{N-1}{N}Var[\\alpha_1]$$\n",
        "\n",
        "thus\n",
        "\n",
        "$$\\beta_N-Var[\\alpha_1]=-\\frac{1}{N}Var[\\alpha_1]$$\n",
        "\n",
        "and as $N\\rightarrow\\infty$, \n",
        "\n",
        "$$\\mathbb{E}[\\beta_N-Var[\\alpha_1]]^2=(-\\frac{1}{N}Var[\\alpha_1])^2\\rightarrow 0$$\n",
        "\n",
        "Therefore $\\beta_N$ is consistent in $L^2$\n",
        "\n",
        "\n",
        "\n",
        "\n",
        "\n"
      ]
    },
    {
      "metadata": {
        "id": "NqAUS6k81KL4",
        "colab_type": "text"
      },
      "cell_type": "markdown",
      "source": [
        "##Proposing unbiased estimator for $Var[\\alpha_1]$,\n",
        "\n",
        "Taking into account of part 1, where $\\mathbb{E}[\\beta_N]=\\frac{N-1}{N}Var[\\alpha_1]$,\n",
        "\n",
        "If we want an unbiased estimator, we need the RHS to be $Var[\\alpha_1]$. from the above relation we can multiply both sides by $\\frac{N}{N-1}$, which will give us\n",
        "\n",
        "$$\\frac{N}{N-1}\\mathbb{E}[\\beta_N]=Var[\\alpha_1]$$\n",
        "\n",
        "Note that \n",
        "\n",
        "$$\\frac{N}{N-1}\\mathbb{E}[\\beta_N]=\\mathbb{E}[\\frac{N}{N-1}\\beta_N]$$\n",
        "\n",
        "Thus if we multiply $\\beta_N = \\frac{1}{N} \\sum_{i=1}^N (\\alpha_i -\\bar \\alpha)^2$ by $\\frac{N}{N-1}$, we get\n",
        "\n",
        "$$\\frac{N}{N-1}\\beta_N = \\frac{1}{N-1} \\sum_{i=1}^N (\\alpha_i -\\bar \\alpha)^2$$\n",
        "\n",
        "which is an unbiased estimator of $Var[\\alpha_1]$ according to the first equation\n",
        "\n"
      ]
    },
    {
      "metadata": {
        "id": "AHMgnsSHmlYT",
        "colab_type": "code",
        "colab": {}
      },
      "cell_type": "code",
      "source": [
        ""
      ],
      "execution_count": 0,
      "outputs": []
    }
  ]
}