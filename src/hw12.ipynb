{
  "nbformat": 4,
  "nbformat_minor": 0,
  "metadata": {
    "colab": {
      "name": "hw12.ipynb",
      "version": "0.3.2",
      "provenance": [],
      "include_colab_link": true
    },
    "kernelspec": {
      "name": "python3",
      "display_name": "Python 3"
    }
  },
  "cells": [
    {
      "cell_type": "markdown",
      "metadata": {
        "id": "view-in-github",
        "colab_type": "text"
      },
      "source": [
        "<a href=\"https://colab.research.google.com/github/hechen2020/19ma573HuixinChen/blob/master/src/hw12.ipynb\" target=\"_parent\"><img src=\"https://colab.research.google.com/assets/colab-badge.svg\" alt=\"Open In Colab\"/></a>"
      ]
    },
    {
      "metadata": {
        "id": "VyTgzd8Nnmw-",
        "colab_type": "code",
        "colab": {}
      },
      "cell_type": "code",
      "source": [
        "import numpy as np\n",
        "import scipy.stats as ss\n",
        "import matplotlib.pyplot as plt"
      ],
      "execution_count": 0,
      "outputs": []
    },
    {
      "metadata": {
        "id": "2w2FWQbmvrUR",
        "colab_type": "text"
      },
      "cell_type": "markdown",
      "source": [
        "**Part 1: find $\\mathbb{E}[\\hat v_{10}^2]$ for OMC**"
      ]
    },
    {
      "metadata": {
        "id": "x5r01iHin1IC",
        "colab_type": "code",
        "colab": {}
      },
      "cell_type": "code",
      "source": [
        "#define function h(x)\n",
        "def vhat_sq_fcn(m):\n",
        "  init_sum = 0 #initialize summation\n",
        "  for i in range(m):\n",
        "    z = np.random.normal(0,1)#generate random z\n",
        "    if z < -2.:\n",
        "      init_sum = init_sum + 1#sum add 1 when indicator function returns 1\n",
        "  vhat = init_sum / 10#find mean of the sum\n",
        "  vhatsq = vhat**2#square vhat\n",
        "  return vhatsq"
      ],
      "execution_count": 0,
      "outputs": []
    },
    {
      "metadata": {
        "id": "j2oEvo6zpMhE",
        "colab_type": "code",
        "colab": {}
      },
      "cell_type": "code",
      "source": [
        "def omc_fcn(m, n):\n",
        "  vec = np.zeros(n)#initialize sample\n",
        "  for i in range(len(vec)):\n",
        "    vec[i] = vhat_sq_fcn(m)#one vhat_sq value\n",
        "    \n",
        "  return vec"
      ],
      "execution_count": 0,
      "outputs": []
    },
    {
      "metadata": {
        "id": "PvK2MXFdqD9w",
        "colab_type": "code",
        "colab": {
          "base_uri": "https://localhost:8080/",
          "height": 84
        },
        "outputId": "68d8a963-4a26-4d5b-f1eb-deb3427a2282"
      },
      "cell_type": "code",
      "source": [
        "#OMC trials: m=10 for all\n",
        "trial1 = omc_fcn(10, 500)\n",
        "mean1 = trial1.mean()\n",
        "trial2 = omc_fcn(10, 1000)\n",
        "mean2 = trial2.mean()\n",
        "trial3 = omc_fcn(10, 2000)\n",
        "mean3 = trial3.mean()\n",
        "trial4 = omc_fcn(10, 100000)\n",
        "mean4 = trial4.mean()\n",
        "#print(trial1)\n",
        "#print(trial2)\n",
        "#print(trial3)\n",
        "print(mean1)\n",
        "print(mean2)\n",
        "print(mean3)\n",
        "print(mean4)"
      ],
      "execution_count": 31,
      "outputs": [
        {
          "output_type": "stream",
          "text": [
            "0.0032000000000000006\n",
            "0.002840000000000001\n",
            "0.0024750000000000006\n",
            "0.002718000000000001\n"
          ],
          "name": "stdout"
        }
      ]
    },
    {
      "metadata": {
        "id": "9rbL_x1VspM0",
        "colab_type": "text"
      },
      "cell_type": "markdown",
      "source": [
        "OMC result is about 0.0027 for $\\mathbb{E}[\\hat v_{10}^2]$"
      ]
    },
    {
      "metadata": {
        "id": "dZGBbBi6v0eK",
        "colab_type": "text"
      },
      "cell_type": "markdown",
      "source": [
        "**Part 2: find $\\mathbb{E}[\\hat v_{10}^2]$ for IS with $b=2$**"
      ]
    },
    {
      "metadata": {
        "id": "RHjIy4m9qo2K",
        "colab_type": "code",
        "colab": {}
      },
      "cell_type": "code",
      "source": [
        "def vhat_sq_is(b, m):\n",
        "  init_sum = 0 #initialize summation\n",
        "  for i in range(m):\n",
        "    x = np.random.normal(-b,1)#generate random x where x ~ N(-b,1)\n",
        "    if x < -2.:\n",
        "      init_sum = init_sum + np.exp(x * b)#sum add value when indicator function returns 1\n",
        "  vhat = np.exp(b**2 / 2) * (init_sum / 10)#find mean of the sum and multiply\n",
        "  vhatsq = vhat**2#square vhat\n",
        "  return vhatsq"
      ],
      "execution_count": 0,
      "outputs": []
    },
    {
      "metadata": {
        "id": "9MoDHuC-tgGd",
        "colab_type": "code",
        "colab": {}
      },
      "cell_type": "code",
      "source": [
        "def is_fcn(b, m, n):\n",
        "  vec = np.zeros(n)#initialize sample\n",
        "  for i in range(len(vec)):\n",
        "    vec[i] = vhat_sq_is(b, m)#one vhat_sq value\n",
        "    \n",
        "  return vec"
      ],
      "execution_count": 0,
      "outputs": []
    },
    {
      "metadata": {
        "id": "ehrPCaegtnyj",
        "colab_type": "code",
        "colab": {
          "base_uri": "https://localhost:8080/",
          "height": 84
        },
        "outputId": "ff4d25d6-417d-4f79-a46d-d3f54a33ef8e"
      },
      "cell_type": "code",
      "source": [
        "#OMC trials: b=2, m=10 for all\n",
        "trial1 = is_fcn(2, 10, 500)\n",
        "mean1 = trial1.mean()\n",
        "trial2 = is_fcn(2, 10, 1000)\n",
        "mean2 = trial2.mean()\n",
        "trial3 = is_fcn(2, 10, 2000)\n",
        "mean3 = trial3.mean()\n",
        "trial4 = is_fcn(2, 10, 100000)\n",
        "mean4 = trial4.mean()\n",
        "#print(trial1)\n",
        "#print(trial2)\n",
        "#print(trial3)\n",
        "print(mean1)\n",
        "print(mean2)\n",
        "print(mean3)\n",
        "print(mean4)"
      ],
      "execution_count": 38,
      "outputs": [
        {
          "output_type": "stream",
          "text": [
            "0.0006160873158378042\n",
            "0.0006443756107709051\n",
            "0.0006212084850874314\n",
            "0.0006418158514588996\n"
          ],
          "name": "stdout"
        }
      ]
    },
    {
      "metadata": {
        "id": "LObTI9VZvJpN",
        "colab_type": "text"
      },
      "cell_type": "markdown",
      "source": [
        "IS result is about 0.0006 for $\\mathbb{E}[\\hat v_{10}^2]$ for $b=2$"
      ]
    },
    {
      "metadata": {
        "id": "NVElB8zuv_Ku",
        "colab_type": "text"
      },
      "cell_type": "markdown",
      "source": [
        "**Part 3: What b makes IS most efficient?**"
      ]
    },
    {
      "metadata": {
        "id": "7e81Hy71AwXS",
        "colab_type": "text"
      },
      "cell_type": "markdown",
      "source": [
        "???"
      ]
    },
    {
      "metadata": {
        "id": "03P8oJj_t1W-",
        "colab_type": "code",
        "colab": {}
      },
      "cell_type": "code",
      "source": [
        ""
      ],
      "execution_count": 0,
      "outputs": []
    }
  ]
}