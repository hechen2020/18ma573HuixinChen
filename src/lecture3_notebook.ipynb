{
  "nbformat": 4,
  "nbformat_minor": 0,
  "metadata": {
    "colab": {
      "name": "lecture3_notebook.ipynb",
      "version": "0.3.2",
      "provenance": [],
      "include_colab_link": true
    },
    "kernelspec": {
      "name": "python3",
      "display_name": "Python 3"
    }
  },
  "cells": [
    {
      "cell_type": "markdown",
      "metadata": {
        "id": "view-in-github",
        "colab_type": "text"
      },
      "source": [
        "<a href=\"https://colab.research.google.com/github/hechen2020/19ma573HuixinChen/blob/master/src/lecture3_notebook.ipynb\" target=\"_parent\"><img src=\"https://colab.research.google.com/assets/colab-badge.svg\" alt=\"Open In Colab\"/></a>"
      ]
    },
    {
      "metadata": {
        "id": "GvtqmTXeQpQX",
        "colab_type": "text"
      },
      "cell_type": "markdown",
      "source": [
        "BS Formula\n"
      ]
    },
    {
      "metadata": {
        "id": "5i7ixLxbQder",
        "colab_type": "code",
        "colab": {}
      },
      "cell_type": "code",
      "source": [
        "import numpy as np\n",
        "import scipy.stats as ss\n"
      ],
      "execution_count": 0,
      "outputs": []
    },
    {
      "metadata": {
        "id": "ysDGskYARQU1",
        "colab_type": "text"
      },
      "cell_type": "markdown",
      "source": [
        "reload the european options again"
      ]
    },
    {
      "metadata": {
        "id": "Tf9JDbv0Q0LK",
        "colab_type": "code",
        "colab": {}
      },
      "cell_type": "code",
      "source": [
        "'''=========\n",
        "option class init\n",
        "=========='''\n",
        "class VanillaOption:\n",
        "    def __init__(\n",
        "        self,\n",
        "        otype = 1, # 1: 'call'\n",
        "                  # -1: 'put'\n",
        "        strike = 110.,\n",
        "        maturity = 1.,\n",
        "        market_price = 10.):\n",
        "      self.otype = otype\n",
        "      self.strike = strike\n",
        "      self.maturity = maturity\n",
        "      self.market_price = market_price #this will be used for calibration\n",
        "      \n",
        "        \n",
        "    def payoff(self, s): #s: excercise price\n",
        "      otype = self.otype\n",
        "      k = self.strike\n",
        "      maturity = self.maturity\n",
        "      return np.max([0, (s - k)*otype])\n",
        "    "
      ],
      "execution_count": 0,
      "outputs": []
    },
    {
      "metadata": {
        "id": "9mKWqMLQRc2h",
        "colab_type": "text"
      },
      "cell_type": "markdown",
      "source": [
        "Next, we create the gbm class, which is determined by three parameters. We shall initialize it as it is created."
      ]
    },
    {
      "metadata": {
        "id": "k0VWFb4hRPAD",
        "colab_type": "code",
        "colab": {}
      },
      "cell_type": "code",
      "source": [
        "'''============\n",
        "Gbm class inherited from sde_1d\n",
        "============='''\n",
        "\n",
        "class Gbm:\n",
        "    def __init__(self,\n",
        "                 init_state = 100.,\n",
        "                 drift_ratio = .0475, #interest rate: not precise for BS model\n",
        "                 vol_ratio = .2\n",
        "                ):\n",
        "        self.init_state = init_state\n",
        "        self.drift_ratio = drift_ratio\n",
        "        self.vol_ratio = vol_ratio"
      ],
      "execution_count": 0,
      "outputs": []
    },
    {
      "metadata": {
        "id": "dF5H6ANuR98U",
        "colab_type": "text"
      },
      "cell_type": "markdown",
      "source": [
        "BSM formula is given by a method of Gbm class with an input of an option."
      ]
    },
    {
      "metadata": {
        "id": "yP8Dp-nWRaLA",
        "colab_type": "code",
        "colab": {}
      },
      "cell_type": "code",
      "source": [
        "def bsm_price(self, vanilla_option):\n",
        "    s0 = self.init_state #today's stock price\n",
        "    sigma = self.vol_ratio\n",
        "    r = self.drift_ratio\n",
        "    \n",
        "    otype = vanilla_option.otype\n",
        "    k = vanilla_option.strike\n",
        "    maturity = vanilla_option.maturity\n",
        "    \n",
        "    d1 = (np.log(s0 / k) + (r + 0.5 * sigma ** 2) \n",
        "          * maturity) / (sigma * np.sqrt(maturity))\n",
        "    d2 = d1 - sigma * np.sqrt(maturity)\n",
        "    \n",
        "    return (otype * s0 * ss.norm.cdf(otype * d1) #line break needs parenthesis\n",
        "            - otype * np.exp(-r * maturity) * k * ss.norm.cdf(otype * d2))\n",
        "\n",
        "Gbm.bsm_price = bsm_price #define bsm_price function outside of Gbm class"
      ],
      "execution_count": 0,
      "outputs": []
    },
    {
      "metadata": {
        "id": "vE1wDA9nSeft",
        "colab_type": "code",
        "colab": {
          "base_uri": "https://localhost:8080/",
          "height": 50
        },
        "outputId": "98a7ed2c-5e47-4d91-b53a-d6d7b2b07b60"
      },
      "cell_type": "code",
      "source": [
        "'''===============\n",
        "Test bsm_price\n",
        "================='''\n",
        "gbm1 = Gbm() #create one instance of gbm class\n",
        "option1 = VanillaOption()\n",
        "print('>>>>>>>>>>call value is ' + str(gbm1.bsm_price(option1)))\n",
        "option2 = VanillaOption(otype=-1)\n",
        "print('>>>>>>>>>>put value is ' + str(gbm1.bsm_price(option2)))"
      ],
      "execution_count": 8,
      "outputs": [
        {
          "output_type": "stream",
          "text": [
            ">>>>>>>>>>call value is 5.943273183452838\n",
            ">>>>>>>>>>put value is 10.84042522804176\n"
          ],
          "name": "stdout"
        }
      ]
    },
    {
      "metadata": {
        "id": "EikgO4hDSlha",
        "colab_type": "code",
        "colab": {
          "base_uri": "https://localhost:8080/",
          "height": 34
        },
        "outputId": "af73d74b-b47e-4d14-e453-ffa80b90775c"
      },
      "cell_type": "code",
      "source": [
        "gbm1.drift_ratio"
      ],
      "execution_count": 9,
      "outputs": [
        {
          "output_type": "execute_result",
          "data": {
            "text/plain": [
              "0.0475"
            ]
          },
          "metadata": {
            "tags": []
          },
          "execution_count": 9
        }
      ]
    },
    {
      "metadata": {
        "id": "FBaezXTpTrx1",
        "colab_type": "text"
      },
      "cell_type": "markdown",
      "source": [
        "to change the interest rate:"
      ]
    },
    {
      "metadata": {
        "id": "nFScymMUToue",
        "colab_type": "code",
        "colab": {}
      },
      "cell_type": "code",
      "source": [
        "gbm1.drift_ratio = 0.5"
      ],
      "execution_count": 0,
      "outputs": []
    },
    {
      "metadata": {
        "id": "z_YCQJ8GT0zF",
        "colab_type": "code",
        "colab": {
          "base_uri": "https://localhost:8080/",
          "height": 34
        },
        "outputId": "71d691e2-e9d9-4d6b-b444-742c548c0e48"
      },
      "cell_type": "code",
      "source": [
        "gbm1.drift_ratio"
      ],
      "execution_count": 12,
      "outputs": [
        {
          "output_type": "execute_result",
          "data": {
            "text/plain": [
              "0.5"
            ]
          },
          "metadata": {
            "tags": []
          },
          "execution_count": 12
        }
      ]
    },
    {
      "metadata": {
        "id": "aoaVksl6UW4C",
        "colab_type": "code",
        "colab": {}
      },
      "cell_type": "code",
      "source": [
        "gbm2 = Gbm(init_state = 31, drift_ratio = 0.04, vol_ratio = 0.5)\n"
      ],
      "execution_count": 0,
      "outputs": []
    },
    {
      "metadata": {
        "id": "SAy-m15iU857",
        "colab_type": "code",
        "colab": {
          "base_uri": "https://localhost:8080/",
          "height": 34
        },
        "outputId": "5a276d9b-1f95-43d0-bb67-35844fd3d7e6"
      },
      "cell_type": "code",
      "source": [
        "opt1 = VanillaOption(otype = 1, strike = 22, maturity = 2)\n",
        "gbm2.bsm_price(opt1)\n"
      ],
      "execution_count": 21,
      "outputs": [
        {
          "output_type": "execute_result",
          "data": {
            "text/plain": [
              "13.594261257406867"
            ]
          },
          "metadata": {
            "tags": []
          },
          "execution_count": 21
        }
      ]
    },
    {
      "metadata": {
        "id": "V-BFvU2fVCns",
        "colab_type": "code",
        "colab": {
          "base_uri": "https://localhost:8080/",
          "height": 34
        },
        "outputId": "3e92dac3-c57f-4434-90ab-8ac9c2eb4f7d"
      },
      "cell_type": "code",
      "source": [
        "opt2 = VanillaOption(otype = -1, strike = 22, maturity = 2)\n",
        "gbm2.bsm_price(opt2)"
      ],
      "execution_count": 22,
      "outputs": [
        {
          "output_type": "execute_result",
          "data": {
            "text/plain": [
              "2.902820877912852"
            ]
          },
          "metadata": {
            "tags": []
          },
          "execution_count": 22
        }
      ]
    },
    {
      "metadata": {
        "id": "cBG8oVS1VaNk",
        "colab_type": "code",
        "colab": {}
      },
      "cell_type": "code",
      "source": [
        ""
      ],
      "execution_count": 0,
      "outputs": []
    }
  ]
}