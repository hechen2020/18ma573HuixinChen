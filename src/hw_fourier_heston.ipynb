{
  "nbformat": 4,
  "nbformat_minor": 0,
  "metadata": {
    "colab": {
      "name": "hw_fourier_heston.ipynb",
      "version": "0.3.2",
      "provenance": [],
      "collapsed_sections": [],
      "include_colab_link": true
    },
    "kernelspec": {
      "name": "python3",
      "display_name": "Python 3"
    }
  },
  "cells": [
    {
      "cell_type": "markdown",
      "metadata": {
        "id": "view-in-github",
        "colab_type": "text"
      },
      "source": [
        "<a href=\"https://colab.research.google.com/github/hechen2020/19ma573HuixinChen/blob/master/src/hw_fourier_heston.ipynb\" target=\"_parent\"><img src=\"https://colab.research.google.com/assets/colab-badge.svg\" alt=\"Open In Colab\"/></a>"
      ]
    },
    {
      "metadata": {
        "id": "gjCx3_fpvRjh",
        "colab_type": "text"
      },
      "cell_type": "markdown",
      "source": [
        "###Calculate call price for heston model with given parameters\n",
        "\n",
        "- Heston\n",
        "\n",
        " - init_state=[100., .04], r=.05, kappa=1.2, theta=.04, xi=.3, rho=.5\n",
        " \n",
        "- Vanilla Option\n",
        "\n",
        " - otype = 1, strike = 100, maturity = 1., market_price = 15."
      ]
    },
    {
      "metadata": {
        "id": "THeMSV27vM2H",
        "colab_type": "code",
        "colab": {
          "base_uri": "https://localhost:8080/",
          "height": 134
        },
        "outputId": "db7bce17-45a2-4779-f69b-f6656f66d426"
      },
      "cell_type": "code",
      "source": [
        "'''======\n",
        "run once, then comment it off, and run again\n",
        "========'''\n",
        "!git clone https://github.com/hechen2020/19ma573HuixinChen.git"
      ],
      "execution_count": 1,
      "outputs": [
        {
          "output_type": "stream",
          "text": [
            "Cloning into '19ma573HuixinChen'...\n",
            "remote: Enumerating objects: 146, done.\u001b[K\n",
            "remote: Counting objects: 100% (146/146), done.\u001b[K\n",
            "remote: Compressing objects: 100% (146/146), done.\u001b[K\n",
            "remote: Total 322 (delta 49), reused 0 (delta 0), pack-reused 176\u001b[K\n",
            "Receiving objects: 100% (322/322), 1.23 MiB | 1.19 MiB/s, done.\n",
            "Resolving deltas: 100% (108/108), done.\n"
          ],
          "name": "stdout"
        }
      ]
    },
    {
      "metadata": {
        "id": "Y5ERfH0ivZnx",
        "colab_type": "code",
        "colab": {
          "base_uri": "https://localhost:8080/",
          "height": 34
        },
        "outputId": "f159df1e-f7bd-4c78-8a6a-8f5b39570bbf"
      },
      "cell_type": "code",
      "source": [
        "cd ./19ma573HuixinChen/src/"
      ],
      "execution_count": 2,
      "outputs": [
        {
          "output_type": "stream",
          "text": [
            "/content/19ma573HuixinChen/src\n"
          ],
          "name": "stdout"
        }
      ]
    },
    {
      "metadata": {
        "id": "JMJvGB5gvbyk",
        "colab_type": "code",
        "colab": {}
      },
      "cell_type": "code",
      "source": [
        "from contract_v01 import VanillaOption\n",
        "from sde_1d_v01 import Gbm_1d, bsm_price"
      ],
      "execution_count": 0,
      "outputs": []
    },
    {
      "metadata": {
        "id": "kQjUdCvlveDi",
        "colab_type": "code",
        "colab": {}
      },
      "cell_type": "code",
      "source": [
        "import numpy as np\n",
        "import scipy as s\n",
        "import math"
      ],
      "execution_count": 0,
      "outputs": []
    },
    {
      "metadata": {
        "id": "dR9GWl2K0D1V",
        "colab_type": "text"
      },
      "cell_type": "markdown",
      "source": [
        "For Heston Model, we have the Characteristic Function of Log Asset Price as\n",
        "\n",
        "$$\\phi(u)=\\frac{e^{iulnS_0+iurt+\\frac{\\kappa\\theta t(\\kappa-i\\rho\\xi u)}{\\xi^2}}}{(cosh\\frac{\\gamma t}{2}+\\frac{\\kappa-i\\rho\\xi u}{\\gamma}sinh\\frac{\\gamma t}{2})^{\\frac{2\\kappa\\theta}{\\xi^2}}}\\times e^{\\frac{-(u^2+iu)v_0}{\\gamma coth\\frac{\\gamma t}{2}+\\kappa-i\\rho\\xi u}}$$\n",
        "\n",
        "where\n",
        "\n",
        "$$\\gamma=\\sqrt{\\xi^2(u^2+iu)+(\\kappa-i\\rho\\xi u)^2}$$\n",
        "\n",
        "$S_0$ and $v_0$ are initial price and volatility\n",
        "\n",
        "The call price can be evaluated using the characteristic functions as\n",
        "\n",
        "$$C=S_0I_1-Ke^{-rT}I_2$$\n",
        "\n",
        "where\n",
        "\n",
        "$$I_1=\\frac{1}{2}+\\frac{1}{\\pi}\\int_0^\\infty{Re(\\frac{e^{-iuln(K)}\\phi(u-i)}{iu\\phi(-i)})}du$$\n",
        "\n",
        "and\n",
        "\n",
        "$$I_2=\\frac{1}{2}+\\frac{1}{\\pi}\\int_0^\\infty{Re(\\frac{e^{-iuln(K)}\\phi(u)}{iu})}du$$"
      ]
    },
    {
      "metadata": {
        "id": "3ZcHbIxYvgnC",
        "colab_type": "code",
        "colab": {}
      },
      "cell_type": "code",
      "source": [
        "gbm1 = Gbm_1d(init_state = 100., drift_ratio = .05, vol_ratio = .04)\n",
        "\n",
        "kappa = 1.2\n",
        "theta = .04\n",
        "xi = .3\n",
        "rho = .5\n",
        "otype = 1\n",
        "strike = 100.\n",
        "maturity = 1.\n",
        "market_price = 15."
      ],
      "execution_count": 0,
      "outputs": []
    },
    {
      "metadata": {
        "id": "WwJrLA6a3aI0",
        "colab_type": "code",
        "colab": {}
      },
      "cell_type": "code",
      "source": [
        "def char_fcn(u, s0, v0, r, T, kappa, theta, xi, rho):\n",
        "  #define gamma\n",
        "  gamma = np.sqrt(xi**2*(u**2+1j*u)+(kappa-1j*rho*xi*u)**2)\n",
        "  \n",
        "  #define phi\n",
        "  p1 = np.exp(1j*u*np.log(s0)+1j*u*r*T+(kappa*theta*T*(kappa-1j*rho*xi*u))/(xi**2))\n",
        "  p2 = (np.cosh(gamma*T/2)+(kappa-1j*rho*xi*u)/gamma*np.sinh(gamma*T/2))**((2*kappa*theta)/(xi**2))\n",
        "  p3 = np.exp((-(u**2+1j*u)*v0)/(gamma*(np.cosh(gamma*T/2)/np.sinh(gamma*T/2))+kappa-1j*rho*xi*u))\n",
        "  phi = (p1/p2)*p3\n",
        "  \n",
        "  return phi"
      ],
      "execution_count": 0,
      "outputs": []
    },
    {
      "metadata": {
        "id": "DORhKz-4wK3J",
        "colab_type": "code",
        "colab": {}
      },
      "cell_type": "code",
      "source": [
        "def heston_call(self,\n",
        "               kappa,\n",
        "               theta,\n",
        "               xi,\n",
        "               rho,\n",
        "               strike,\n",
        "               maturity):\n",
        "  s0 = self.init_state\n",
        "  v0 = self.vol_ratio\n",
        "  r = self.drift_ratio\n",
        "  \n",
        "  K = strike\n",
        "  T = maturity  \n",
        "  \n",
        "  #function inside the integral\n",
        "  re1 = lambda u: np.real((np.exp(-1j*u*np.log(K))*char_fcn(u-1j, s0, v0, r, T, kappa, theta, xi, rho))/(1j*u*char_fcn(-1j, s0, v0, r, T, kappa, theta, xi, rho)))\n",
        "  re2 = lambda u: np.real((np.exp(-1j*u*np.log(K))*char_fcn(u, s0, v0, r, T, kappa, theta, xi, rho))/(1j*u))\n",
        "  \n",
        "  #evaluate integral\n",
        "  int1, err = s.integrate.quad(re1, 0, 5135)#overflow begins to appear for greater upper bound\n",
        "  int2, err = s.integrate.quad(re2, 0, 5135)#but as an approximation this upperbound is close\n",
        "  \n",
        "  #evaluate I1 and I2\n",
        "  I1 = 1/2 + (1/np.pi)*int1\n",
        "  I2 = 1/2 + (1/np.pi)*int2\n",
        "  \n",
        "  #return call price\n",
        "  return s0*I1 - K*np.exp(-r*T)*I2\n",
        "\n",
        "Gbm_1d.heston_call = heston_call"
      ],
      "execution_count": 0,
      "outputs": []
    },
    {
      "metadata": {
        "id": "PsNEQgNKKj2N",
        "colab_type": "code",
        "colab": {
          "base_uri": "https://localhost:8080/",
          "height": 67
        },
        "outputId": "01ab06e0-fa87-44f3-f8cd-386596d6ad97"
      },
      "cell_type": "code",
      "source": [
        "call = gbm1.heston_call(kappa, theta, xi, rho, strike, maturity)\n",
        "print(call)"
      ],
      "execution_count": 8,
      "outputs": [
        {
          "output_type": "stream",
          "text": [
            "9.998984543896427\n"
          ],
          "name": "stdout"
        },
        {
          "output_type": "stream",
          "text": [
            "/usr/local/lib/python3.6/dist-packages/ipykernel_launcher.py:7: RuntimeWarning: overflow encountered in cdouble_scalars\n",
            "  import sys\n"
          ],
          "name": "stderr"
        }
      ]
    },
    {
      "metadata": {
        "id": "ZhEJ0poeKuMu",
        "colab_type": "code",
        "colab": {}
      },
      "cell_type": "code",
      "source": [
        ""
      ],
      "execution_count": 0,
      "outputs": []
    }
  ]
}