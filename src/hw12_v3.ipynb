{
  "nbformat": 4,
  "nbformat_minor": 0,
  "metadata": {
    "colab": {
      "name": "hw12.ipynb",
      "version": "0.3.2",
      "provenance": [],
      "collapsed_sections": [],
      "include_colab_link": true
    },
    "kernelspec": {
      "name": "python3",
      "display_name": "Python 3"
    }
  },
  "cells": [
    {
      "cell_type": "markdown",
      "metadata": {
        "id": "view-in-github",
        "colab_type": "text"
      },
      "source": [
        "<a href=\"https://colab.research.google.com/github/hechen2020/19ma573HuixinChen/blob/master/src/hw12_v3.ipynb\" target=\"_parent\"><img src=\"https://colab.research.google.com/assets/colab-badge.svg\" alt=\"Open In Colab\"/></a>"
      ]
    },
    {
      "metadata": {
        "id": "VyTgzd8Nnmw-",
        "colab_type": "code",
        "colab": {}
      },
      "cell_type": "code",
      "source": [
        "import numpy as np\n",
        "import scipy.stats as ss\n",
        "import scipy.optimize as so\n",
        "import scipy\n",
        "import matplotlib.pyplot as plt"
      ],
      "execution_count": 0,
      "outputs": []
    },
    {
      "metadata": {
        "id": "2w2FWQbmvrUR",
        "colab_type": "text"
      },
      "cell_type": "markdown",
      "source": [
        "**Part 1: find $\\mathbb{E}[\\hat v_{10}^2]$ for OMC**"
      ]
    },
    {
      "metadata": {
        "id": "x5r01iHin1IC",
        "colab_type": "code",
        "colab": {}
      },
      "cell_type": "code",
      "source": [
        "#define function h(x)\n",
        "def vhat_sq_fcn(m):\n",
        "  init_sum = 0 #initialize summation\n",
        "  for i in range(m):\n",
        "    z = np.random.normal(0,1)#generate random z\n",
        "    if z < -2.:\n",
        "      init_sum = init_sum + 1#sum add 1 when indicator function returns 1\n",
        "  vhat = init_sum / 10#find mean of the sum\n",
        "  vhatsq = vhat**2#square vhat\n",
        "  return vhatsq"
      ],
      "execution_count": 0,
      "outputs": []
    },
    {
      "metadata": {
        "id": "j2oEvo6zpMhE",
        "colab_type": "code",
        "colab": {}
      },
      "cell_type": "code",
      "source": [
        "def omc_fcn(m, n):\n",
        "  vec = np.zeros(n)#initialize sample\n",
        "  for i in range(len(vec)):\n",
        "    vec[i] = vhat_sq_fcn(m)#one vhat_sq value\n",
        "    \n",
        "  return vec"
      ],
      "execution_count": 0,
      "outputs": []
    },
    {
      "metadata": {
        "id": "PvK2MXFdqD9w",
        "colab_type": "code",
        "outputId": "02157c78-5b65-4dae-8b2c-9541a6407f5b",
        "colab": {
          "base_uri": "https://localhost:8080/",
          "height": 84
        }
      },
      "cell_type": "code",
      "source": [
        "#OMC trials: m=10 for all\n",
        "trial1 = omc_fcn(10, 500)\n",
        "mean1 = trial1.mean()\n",
        "trial2 = omc_fcn(10, 1000)\n",
        "mean2 = trial2.mean()\n",
        "trial3 = omc_fcn(10, 2000)\n",
        "mean3 = trial3.mean()\n",
        "trial4 = omc_fcn(10, 100000)\n",
        "mean4 = trial4.mean()\n",
        "#print(trial1)\n",
        "#print(trial2)\n",
        "#print(trial3)\n",
        "print(mean1)\n",
        "print(mean2)\n",
        "print(mean3)\n",
        "print(mean4)"
      ],
      "execution_count": 55,
      "outputs": [
        {
          "output_type": "stream",
          "text": [
            "0.0023000000000000004\n",
            "0.0030200000000000005\n",
            "0.0029300000000000007\n",
            "0.0027601000000000006\n"
          ],
          "name": "stdout"
        }
      ]
    },
    {
      "metadata": {
        "id": "9rbL_x1VspM0",
        "colab_type": "text"
      },
      "cell_type": "markdown",
      "source": [
        "OMC result is about 0.0027 for $\\mathbb{E}[\\hat v_{10}^2]$"
      ]
    },
    {
      "metadata": {
        "id": "dZGBbBi6v0eK",
        "colab_type": "text"
      },
      "cell_type": "markdown",
      "source": [
        "**Part 2: find $\\mathbb{E}[\\hat v_{10}^2]$ for IS with $b=2$**"
      ]
    },
    {
      "metadata": {
        "id": "RHjIy4m9qo2K",
        "colab_type": "code",
        "colab": {}
      },
      "cell_type": "code",
      "source": [
        "def vhat_sq_is(b, m):\n",
        "  init_sum = 0 #initialize summation\n",
        "  for i in range(m):\n",
        "    x = np.random.normal(-b,1)#generate random x where x ~ N(-b,1)\n",
        "    if x < -2.:\n",
        "      init_sum = init_sum + np.exp(x * b)#sum add value when indicator function returns 1\n",
        "  vhat = np.exp(b**2 / 2) * (init_sum / 10)#find mean of the sum and multiply\n",
        "  vhatsq = vhat**2#square vhat\n",
        "  return vhatsq"
      ],
      "execution_count": 0,
      "outputs": []
    },
    {
      "metadata": {
        "id": "9MoDHuC-tgGd",
        "colab_type": "code",
        "colab": {}
      },
      "cell_type": "code",
      "source": [
        "def is_fcn(b, m, n):\n",
        "  vec = np.zeros(n)#initialize sample\n",
        "  for i in range(len(vec)):\n",
        "    vec[i] = vhat_sq_is(b, m)#one vhat_sq value\n",
        "    \n",
        "  return vec"
      ],
      "execution_count": 0,
      "outputs": []
    },
    {
      "metadata": {
        "id": "ehrPCaegtnyj",
        "colab_type": "code",
        "outputId": "f8dd60b8-fa3c-4102-f723-b65ba3770e4e",
        "colab": {
          "base_uri": "https://localhost:8080/",
          "height": 84
        }
      },
      "cell_type": "code",
      "source": [
        "#OMC trials: b=2, m=10 for all\n",
        "trial1 = is_fcn(2, 10, 500)\n",
        "mean1 = trial1.mean()\n",
        "trial2 = is_fcn(2, 10, 1000)\n",
        "mean2 = trial2.mean()\n",
        "trial3 = is_fcn(2, 10, 2000)\n",
        "mean3 = trial3.mean()\n",
        "trial4 = is_fcn(2, 10, 100000)\n",
        "mean4 = trial4.mean()\n",
        "#print(trial1)\n",
        "#print(trial2)\n",
        "#print(trial3)\n",
        "print(mean1)\n",
        "print(mean2)\n",
        "print(mean3)\n",
        "print(mean4)"
      ],
      "execution_count": 58,
      "outputs": [
        {
          "output_type": "stream",
          "text": [
            "0.0005977740973219649\n",
            "0.0006222955894756233\n",
            "0.0006470758549943048\n",
            "0.0006369570603416192\n"
          ],
          "name": "stdout"
        }
      ]
    },
    {
      "metadata": {
        "id": "LObTI9VZvJpN",
        "colab_type": "text"
      },
      "cell_type": "markdown",
      "source": [
        "IS result is about 0.0006 for $\\mathbb{E}[\\hat v_{10}^2]$ for $b=2$"
      ]
    },
    {
      "metadata": {
        "id": "NVElB8zuv_Ku",
        "colab_type": "text"
      },
      "cell_type": "markdown",
      "source": [
        "**Part 3: What b makes IS most efficient?**"
      ]
    },
    {
      "metadata": {
        "id": "7e81Hy71AwXS",
        "colab_type": "text"
      },
      "cell_type": "markdown",
      "source": [
        "From class notes we have the true expectation is \n",
        "\n",
        "$$v = N(-2) \\approx 0.02275$$\n",
        "\n",
        "We know that the MSE can be written as\n",
        "\n",
        "$$MSE = Var + Bias^2$$\n",
        "\n",
        "We also know that the estimator $\\hat v_{10}$ is an unbiased estimator of $v$ (class notes). Thus\n",
        "\n",
        "$$Bias(\\hat v_{10} - v) = 0$$\n",
        "\n",
        "and\n",
        "\n",
        "$$MSE = Var(\\hat v_{10}) = E[\\hat v_{10}^2] - (E[\\hat v_{10}])^2$$\n",
        "\n",
        "since $\\hat v_{10}$ is unbiased the expected value should be the true value, i.e.,\n",
        "\n",
        "$$E[\\hat v_{10}] = N(-2) \\approx 0.02275$$\n",
        "\n",
        "so we can rewrite MSE as\n",
        "\n",
        "$$MSE = Var(\\hat v_{10}) = E[\\hat v_{10}^2] - (0.02275)^2=E[\\hat v_{10}^2] - 0.000517565$$\n",
        "\n",
        "thus to minimize MSE, we want value of $E[\\hat v_{10}^2]$ to be at or close to $0.000517565$.\n",
        "\n",
        "We can find the range for $b$ that satisfy this by numerical computations"
      ]
    },
    {
      "metadata": {
        "id": "03P8oJj_t1W-",
        "colab_type": "code",
        "outputId": "c21e5759-db52-4a73-fc62-aec1f1560c7a",
        "colab": {
          "base_uri": "https://localhost:8080/",
          "height": 286
        }
      },
      "cell_type": "code",
      "source": [
        "bvec = np.arange(0,3,0.005)\n",
        "#print(b[2])\n",
        "#print(len(b))\n",
        "vhat = np.zeros(len(bvec))\n",
        "#print(vhat)\n",
        "#print(vhat[4])\n",
        "for i in range (len(vhat)):\n",
        "  vhat[i] = is_fcn(bvec[i], 10, 50000).mean()\n",
        "vtrue = np.zeros(len(bvec))\n",
        "for i in range(len(vtrue)):\n",
        "  vtrue[i] = (ss.norm.cdf(-2))**2\n",
        "plt.plot(bvec, vhat)\n",
        "plt.plot(bvec, vtrue)"
      ],
      "execution_count": 59,
      "outputs": [
        {
          "output_type": "execute_result",
          "data": {
            "text/plain": [
              "[<matplotlib.lines.Line2D at 0x7f22ba7b5588>]"
            ]
          },
          "metadata": {
            "tags": []
          },
          "execution_count": 59
        },
        {
          "output_type": "display_data",
          "data": {
            "image/png": "[encoded data removed]",
            "text/plain": [
              "<Figure size 432x288 with 1 Axes>"
            ]
          },
          "metadata": {
            "tags": []
          }
        }
      ]
    },
    {
      "metadata": {
        "id": "OYwixIYdUVnD",
        "colab_type": "code",
        "outputId": "9c370a17-bad3-49a4-b2a3-37799e2eb5b7",
        "colab": {
          "base_uri": "https://localhost:8080/",
          "height": 286
        }
      },
      "cell_type": "code",
      "source": [
        "err = vtrue - vhat\n",
        "plt.plot(bvec, vtrue-vhat)\n",
        "minerr = max(err)\n",
        "minerrb = bvec[np.argwhere(err == minerr)]\n",
        "print('minimum at b=' + str(minerrb) + ' with error of ' + str(-minerr))"
      ],
      "execution_count": 60,
      "outputs": [
        {
          "output_type": "stream",
          "text": [
            "minimum at b=[[2.32]] with error of 0.0001133398690194294\n"
          ],
          "name": "stdout"
        },
        {
          "output_type": "display_data",
          "data": {
            "image/png": "[encoded data removed]",
            "text/plain": [
              "<Figure size 432x288 with 1 Axes>"
            ]
          },
          "metadata": {
            "tags": []
          }
        }
      ]
    },
    {
      "metadata": {
        "id": "Jur_XX_-HeZq",
        "colab_type": "text"
      },
      "cell_type": "markdown",
      "source": [
        "So the min value should be around $b=2$"
      ]
    },
    {
      "metadata": {
        "id": "JHPCvUKPG8XB",
        "colab_type": "text"
      },
      "cell_type": "markdown",
      "source": [
        "*Try #2: minimize error*"
      ]
    },
    {
      "metadata": {
        "id": "4DWw8fjrHBlg",
        "colab_type": "code",
        "colab": {}
      },
      "cell_type": "code",
      "source": [
        "def err_fcn(b,m,n):\n",
        "  return np.abs(is_fcn(b,m,n).mean() - ss.norm.cdf(-2)**2)"
      ],
      "execution_count": 0,
      "outputs": []
    },
    {
      "metadata": {
        "id": "UnBjYM65HY7X",
        "colab_type": "code",
        "outputId": "8c2ab397-0588-4857-cc3f-21cc02c3b2ad",
        "colab": {
          "base_uri": "https://localhost:8080/",
          "height": 34
        }
      },
      "cell_type": "code",
      "source": [
        "b_val = so.fmin(err_fcn, 2, args = (10, 50000), disp = 0)[0]\n",
        "print('MSE b value is at ' + str(b_val))"
      ],
      "execution_count": 62,
      "outputs": [
        {
          "output_type": "stream",
          "text": [
            "MSE b value is at 2.1500000000000004\n"
          ],
          "name": "stdout"
        }
      ]
    },
    {
      "metadata": {
        "id": "CpUBHGdrSJmE",
        "colab_type": "text"
      },
      "cell_type": "markdown",
      "source": [
        "Note: neither method above provide the exact value of b; in other words, the b-val are not deterministic"
      ]
    },
    {
      "metadata": {
        "id": "5mA2fVADwEXc",
        "colab_type": "text"
      },
      "cell_type": "markdown",
      "source": [
        "*To find $E[\\hat v _{10}^2]$ by the formula*\n",
        "\n",
        "we are looking for \n",
        "\n",
        "$$E[(e^{b^2/2}\\frac{1}{10}\\sum_{i=1}^{10}e^{x_ib}I(x_i<-2))^2]$$\n",
        "\n",
        "which can be rewritten as\n",
        "\n",
        "$$e^{b^2}\\frac{1}{100}E[(\\sum_{i=1}^{10}e^{x_ib}I(x_i<-2))^2]=e^{b^2}\\frac{1}{100}E[(\\sum_{i=1}^{10}e^{x_ib}I(x_i<-2))(\\sum_{j=1}^{10}e^{x_jb}I(x_j<-2))]$$\n",
        "\n",
        "Inside the expected value, there are two cases: when $i=j$ and when $i\\not = j$.\n",
        "\n",
        "When $i=j$, the expectation is\n",
        "\n",
        "$$E[e^{2xb}I(x<-2)]$$\n",
        "\n",
        "which can be rewritten as\n",
        "\n",
        "$$E[e^{2xb}I(x<-2)]=\\int_{-\\infty}^{-2}e^{2xb}\\phi^b(x)dx=\\int_{-\\infty}^{-2}e^{2xb}\\frac{1}{\\sqrt{2\\pi}}e^{-\\frac{(x+b)^2}{2}}dx=\\frac{1}{\\sqrt{2\\pi}}\\int_{-\\infty}^{-2}e^{2xb}e^{-\\frac{x^2}{2}-xb-\\frac{b^2}{2}}dx=\\frac{1}{\\sqrt{2\\pi}}\\int_{-\\infty}^{-2}e^{-\\frac{x^2}{2}+xb-\\frac{b^2}{2}}dx$$\n",
        "\n",
        "and there are $10$ cases of this.\n",
        "\n",
        "When $i\\not= j$, the expectation is\n",
        "\n",
        "$$E[(e^{xb}I(x<-2))^2]=(\\int_{-\\infty}^{-2}e^{xb}\\phi^b(x)dx)^2=(\\int_{-\\infty}^{-2}e^{xb}\\frac{1}{\\sqrt{2\\pi}}e^{-\\frac{(x+b)^2}{2}}dx)^2=(\\int_{-\\infty}^{-2}\\frac{1}{\\sqrt{2\\pi}}e^{-\\frac{x^2}{2}-\\frac{b^2}{2}}dx)^2$$\n",
        "\n",
        "and there are $100-10 = 90$ cases of this.\n",
        "\n",
        "Thus we have\n",
        "\n",
        "$$e^{b^2}\\frac{1}{100}E[(\\sum_{i=1}^{10}e^{x_ib}I(x_i<-2))^2]=e^{b^2}\\frac{1}{100}(10\\frac{1}{\\sqrt{2\\pi}}\\int_{-\\infty}^{-2}e^{-\\frac{x^2}{2}+xb-\\frac{b^2}{2}}dx+90(\\int_{-\\infty}^{-2}\\frac{1}{\\sqrt{2\\pi}}e^{-\\frac{x^2}{2}-\\frac{b^2}{2}}dx)^2)=e^{b^2}\\frac{1}{10}\\frac{1}{\\sqrt{2\\pi}}\\int_{-\\infty}^{-2}e^{-\\frac{x^2}{2}+xb-\\frac{b^2}{2}}dx+e^{b^2}\\frac{9}{10}(\\int_{-\\infty}^{-2}\\frac{1}{\\sqrt{2\\pi}}e^{-\\frac{x^2}{2}-\\frac{b^2}{2}}dx)^2$$\n",
        "\n",
        "we want this to be close to $0.02275^2$"
      ]
    },
    {
      "metadata": {
        "id": "knoqxSDNXV9j",
        "colab_type": "code",
        "colab": {}
      },
      "cell_type": "code",
      "source": [
        "def integral_fcn(b):\n",
        "  int1 = lambda x: (1/np.sqrt(2*np.pi)) * np.exp(- x**2/2 + x*b - b**2/2)\n",
        "  intval1 = scipy.integrate.quad(int1, -np.inf, -2)[0]\n",
        "  int2 = lambda x: (1/np.sqrt(2*np.pi)) * np.exp(- x**2/2 - b**2/2)\n",
        "  intval2 = scipy.integrate.quad(int2, -np.inf, -2)[0]\n",
        "  \n",
        "  return np.exp(b**2) * ((intval1) / 10 + 9*(intval2**2) / 10)"
      ],
      "execution_count": 0,
      "outputs": []
    },
    {
      "metadata": {
        "id": "-zkXC9DY5fZK",
        "colab_type": "code",
        "outputId": "cf72eb4d-8855-4743-bfb6-0566b95a4a40",
        "colab": {
          "base_uri": "https://localhost:8080/",
          "height": 286
        }
      },
      "cell_type": "code",
      "source": [
        "bvec = np.arange(0,3,0.001)\n",
        "vvec = np.zeros(len(bvec))\n",
        "#print(vhat)\n",
        "#print(vhat[4])\n",
        "for i in range (len(vvec)):\n",
        "  vvec[i] = integral_fcn(bvec[i])\n",
        "vreal = np.zeros(len(bvec))\n",
        "for i in range(len(vreal)):\n",
        "  vreal[i] = (ss.norm.cdf(-2))**2\n",
        "plt.plot(bvec, vvec)\n",
        "plt.plot(bvec, vreal)"
      ],
      "execution_count": 65,
      "outputs": [
        {
          "output_type": "execute_result",
          "data": {
            "text/plain": [
              "[<matplotlib.lines.Line2D at 0x7f22ba615828>]"
            ]
          },
          "metadata": {
            "tags": []
          },
          "execution_count": 65
        },
        {
          "output_type": "display_data",
          "data": {
            "image/png": "[encoded data removed]",
            "text/plain": [
              "<Figure size 432x288 with 1 Axes>"
            ]
          },
          "metadata": {
            "tags": []
          }
        }
      ]
    },
    {
      "metadata": {
        "id": "8a-5718a5-AN",
        "colab_type": "code",
        "colab": {
          "base_uri": "https://localhost:8080/",
          "height": 286
        },
        "outputId": "2c3f674d-f9d7-4b41-f085-2b0f6952cb25"
      },
      "cell_type": "code",
      "source": [
        "err = vreal - vvec\n",
        "plt.plot(bvec, vreal-vvec)\n",
        "minerr = max(err)\n",
        "minerrb = bvec[np.argwhere(err == minerr)]\n",
        "print('minimum at b=' + str(minerrb) + ' with error of ' + str(-minerr))"
      ],
      "execution_count": 68,
      "outputs": [
        {
          "output_type": "stream",
          "text": [
            "minimum at b=[[2.216]] with error of 0.00011700363541083123\n"
          ],
          "name": "stdout"
        },
        {
          "output_type": "display_data",
          "data": {
            "image/png": "[encoded data removed]",
            "text/plain": [
              "<Figure size 432x288 with 1 Axes>"
            ]
          },
          "metadata": {
            "tags": []
          }
        }
      ]
    },
    {
      "metadata": {
        "id": "yGV-uIBHv7O3",
        "colab_type": "text"
      },
      "cell_type": "markdown",
      "source": [
        "Thus the deterministic approach result is at about $b=2.216$, which matches previous assumptions"
      ]
    },
    {
      "metadata": {
        "id": "ZStRUHSpvvjh",
        "colab_type": "code",
        "colab": {}
      },
      "cell_type": "code",
      "source": [
        ""
      ],
      "execution_count": 0,
      "outputs": []
    }
  ]
}