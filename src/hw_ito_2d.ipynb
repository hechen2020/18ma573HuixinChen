{
  "nbformat": 4,
  "nbformat_minor": 0,
  "metadata": {
    "colab": {
      "name": "hw_ito_2d.ipynb",
      "version": "0.3.2",
      "provenance": [],
      "collapsed_sections": [],
      "include_colab_link": true
    },
    "kernelspec": {
      "name": "python3",
      "display_name": "Python 3"
    }
  },
  "cells": [
    {
      "cell_type": "markdown",
      "metadata": {
        "id": "view-in-github",
        "colab_type": "text"
      },
      "source": [
        "<a href=\"https://colab.research.google.com/github/hechen2020/19ma573HuixinChen/blob/master/src/hw_ito_2d.ipynb\" target=\"_parent\"><img src=\"https://colab.research.google.com/assets/colab-badge.svg\" alt=\"Open In Colab\"/></a>"
      ]
    },
    {
      "metadata": {
        "id": "0zJvwnhLlerg",
        "colab_type": "text"
      },
      "cell_type": "markdown",
      "source": [
        "consider 2-d random process $(X_{1,t},X_{2,t})$ satisfying\n",
        "\n",
        "$$\\begin{cases}\n",
        "  dX_{1,t} = b_1dt+\\sigma_{11}dW_{1t}+\\sigma_{12}dW_{2t}\\\\    \n",
        "  dX_{2,t} = b_2dt+\\sigma_{21}dW_{1t}+\\sigma_{22}dW_{2t}    \n",
        "\\end{cases}$$\n",
        "\n",
        "where $(W_1,W_2)$ is 2-d BM. Complete the following Ito formula for a smooth function $f:\\mathbb{R}^2 \\mapsto\\mathbb{R}$:\n",
        "\n",
        "$$f(X_{1t},X_{2t}) = f(X_{10},X_{20})+...$$"
      ]
    },
    {
      "metadata": {
        "id": "XyPzjCDpmnWR",
        "colab_type": "text"
      },
      "cell_type": "markdown",
      "source": [
        "By Ito formula, the rest of the formula should consist of 3 parts:\n",
        "\n",
        "$$part_1 = \\int_0^t{I_1}ds$$\n",
        "\n",
        "$$part_2 = \\int_0^t{I_2}dW_{1t}$$\n",
        "\n",
        "$$part_3 = \\int_0^t{I_3}dW_{2t}$$\n",
        "\n",
        "where $I_1$ is given by\n",
        "\n",
        "$$\\mathcal{L}f(X_s)=b\\bullet\\nabla f + \\frac{1}{2}tr(\\sigma\\sigma^TD^2f)$$\n",
        "\n",
        "where we know\n",
        "\n",
        "$$\\sigma =   \\begin{bmatrix}\n",
        "   \\sigma_{11} &\n",
        "   \\sigma_{12} \\\\\n",
        "   \\sigma_{21} &\\sigma_{22} \n",
        "   \\end{bmatrix}$$\n",
        "   \n",
        "thus\n",
        "\n",
        "$$\\sigma\\sigma^T = \\begin{bmatrix}\n",
        "   \\sigma_{11}^2 + \\sigma_{12}^2 &\n",
        "   \\sigma_{11}\\sigma_{21}+\\sigma_{12}\\sigma_{22} \\\\\n",
        "   \\sigma_{11}\\sigma_{21}+\\sigma_{12}\\sigma_{22} &\\sigma_{21}^2 + \\sigma_{22}^2 \n",
        "   \\end{bmatrix}$$\n",
        "\n",
        "for $\\nabla f$, we have\n",
        "\n",
        "$$\\nabla f(X_{1t},X_{2t})=(\\partial_{X_1}f,\\partial_{X_2}f)$$\n",
        "\n",
        "and for $D^2f$, we have\n",
        "\n",
        "$$D^2f = \\begin{bmatrix}\n",
        "    \\partial_{X_1X_1}f & \\partial_{X_1X_2}f\\\\\n",
        "    \\partial_{X_2X_1}f & \\partial_{X_2X_2}f\n",
        "   \\end{bmatrix}$$\n",
        "\n",
        "together we have\n",
        "\n",
        "$$I_1= (b_1,b_2)\\bullet(\\partial_{X_1}f,\\partial_{X_2}f)\n",
        "   +\\frac{1}{2}tr(\n",
        "   \\begin{bmatrix}\n",
        "   \\sigma_{11}^2 + \\sigma_{12}^2 &\n",
        "   \\sigma_{11}\\sigma_{21}+\\sigma_{12}\\sigma_{22} \\\\\n",
        "   \\sigma_{11}\\sigma_{21}+\\sigma_{12}\\sigma_{22} &\\sigma_{21}^2 + \\sigma_{22}^2 \n",
        "   \\end{bmatrix}\n",
        "   \\begin{bmatrix}\n",
        "    \\partial_{X_1X_1}f & \\partial_{X_1X_2}f\\\\\n",
        "    \\partial_{X_2X_1}f & \\partial_{X_2X_2}f\n",
        "   \\end{bmatrix})\n",
        "   =b_1\\partial_{X_1}f+b_2\\partial_{X_2}f + \\frac{1}{2}tr(\n",
        "   \\begin{bmatrix}\n",
        "   (\\sigma_{11}^2+\\sigma_{12}^2)\\partial_{X_1X_1}f + (\\sigma_{11}\\sigma_{21}+\\sigma_{12}\\sigma_{22})\\partial_{X_2X_1}f & ...\\\\\n",
        "   ... & (\\sigma_{11}\\sigma_{21}+\\sigma_{12}\\sigma_{22})\\partial_{X_1X_2}f + (\\sigma_{21}^2+\\sigma_{22}^2)\\partial_{X_2X_2}f\n",
        "   \\end{bmatrix})\n",
        "   =b_1\\partial_{X_1}f+b_2\\partial_{X_2}f + \\frac{1}{2}[ (\\sigma_{11}^2+\\sigma_{12}^2)\\partial_{X_1X_1}f + (\\sigma_{11}\\sigma_{21}+\\sigma_{12}\\sigma_{22})\\partial_{X_2X_1}f+(\\sigma_{11}\\sigma_{21}+\\sigma_{12}\\sigma_{22})\\partial_{X_1X_2}f + (\\sigma_{21}^2+\\sigma_{22}^2)\\partial_{X_2X_2}f]\n",
        "   =b_1\\partial_{X_1}f+b_2\\partial_{X_2}f + \\frac{1}{2}[ (\\sigma_{11}^2+\\sigma_{12}^2)\\partial_{X_1X_1}f + 2(\\sigma_{11}\\sigma_{21}+\\sigma_{12}\\sigma_{22})\\partial_{X_1X_2}f+ (\\sigma_{21}^2+\\sigma_{22}^2)\\partial_{X_2X_2}f]$$\n",
        "\n",
        "\n",
        "for the martingale part, we have\n",
        "\n",
        "$$\\int_0^t{Df(X_{1s},X_{2s})\\bullet\\sigma}dW=\\int_0^t{\\begin{bmatrix}\n",
        "   \\partial_{X_1}f \\\\\n",
        "   \\partial_{X_2}f\n",
        "   \\end{bmatrix}\\bullet(\n",
        "   \\begin{bmatrix}\n",
        "   \\sigma_{11} & \\sigma_{12} \\\\\n",
        "   \\sigma_{21} & \\sigma_{22}\n",
        "   \\end{bmatrix}\n",
        "   \\begin{bmatrix}\n",
        "   dW_1 \\\\\n",
        "   dW_2\n",
        "   \\end{bmatrix})}\n",
        "   = \\int_0^t{\\begin{bmatrix}\n",
        "   \\partial_{X_1}f \\\\\n",
        "   \\partial_{X_2}f\n",
        "   \\end{bmatrix}\\bullet\\begin{bmatrix}\n",
        "   \\sigma_{11}dW_1 + \\sigma_{12}dW_2 \\\\\n",
        "   \\sigma_{21}dW_1 + \\sigma_{22}dW_2\n",
        "   \\end{bmatrix}}\n",
        "   =\\int_0^t{\\partial_{X_1}f(\\sigma_{11}dW_1 + \\sigma_{12}dW_2) +\n",
        "   \\partial_{X_2}f(\\sigma_{21}dW_1 + \\sigma_{22}dW_2)}\n",
        "   =\\int_0^t{\\sigma_{11}\\partial_{X_1}f +\n",
        "   \\sigma_{21}\\partial_{X_2}fdW_1} + \\int_0^t{\\sigma_{12}\\partial_{X_1}f +\n",
        "   \\sigma_{22}\\partial_{X_2}fdW_2} = part_2 + part_3$$"
      ]
    },
    {
      "metadata": {
        "id": "gC8-dI3JlZxu",
        "colab_type": "code",
        "colab": {}
      },
      "cell_type": "code",
      "source": [
        ""
      ],
      "execution_count": 0,
      "outputs": []
    }
  ]
}