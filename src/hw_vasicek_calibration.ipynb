{
  "nbformat": 4,
  "nbformat_minor": 0,
  "metadata": {
    "colab": {
      "name": "hw_vasicek_calibration.ipynb",
      "version": "0.3.2",
      "provenance": [],
      "collapsed_sections": [],
      "include_colab_link": true
    },
    "kernelspec": {
      "name": "python3",
      "display_name": "Python 3"
    }
  },
  "cells": [
    {
      "cell_type": "markdown",
      "metadata": {
        "id": "view-in-github",
        "colab_type": "text"
      },
      "source": [
        "<a href=\"https://colab.research.google.com/github/hechen2020/19ma573HuixinChen/blob/master/src/hw_vasicek_calibration.ipynb\" target=\"_parent\"><img src=\"https://colab.research.google.com/assets/colab-badge.svg\" alt=\"Open In Colab\"/></a>"
      ]
    },
    {
      "metadata": {
        "id": "TZKzk0MrEQOG",
        "colab_type": "text"
      },
      "cell_type": "markdown",
      "source": [
        "##hw_vasicek_calibration\n",
        "###goal: to design pricing engine and calibrate vasicek model from data"
      ]
    },
    {
      "metadata": {
        "id": "frdN1IKSgNdp",
        "colab_type": "text"
      },
      "cell_type": "markdown",
      "source": [
        "##Verify:\n",
        "\n",
        "$$r_t=r_0e^{-\\kappa t}+\\mu(1-e^{-\\kappa t})+\\sigma^{-\\kappa t}\\int_0^t{e^{\\kappa t}dW_s}$$\n",
        "\n",
        "is the solution for\n",
        "\n",
        "$$dr_t=\\kappa(\\mu-r_t)dt+\\sigma dW_t$$\n",
        "\n",
        "with $r_0$\n",
        "\n",
        "##Steps:\n",
        "\n",
        "We can first distribute the terms and isolate the terms with $dr_t$ and $r_t$ in the differential equation and get:\n",
        "\n",
        "$$dr_t+\\kappa r_tdt=\\kappa\\mu+\\sigma dW_t$$\n",
        "\n",
        "Then multiply both sides by the integrating factor $e^{\\kappa t}$ and get\n",
        "\n",
        "$$e^{\\kappa t}dr_t+e^{\\kappa t}\\kappa r_tdt=e^{\\kappa t}\\kappa\\mu+e^{\\kappa t}\\sigma dW_t$$\n",
        "\n",
        "note on the left side, if we let $x=r_t$ and $y=e^{\\kappa t}$, we should have\n",
        "\n",
        "$$\\frac{dx}{dt} = dr_t = x'$$\n",
        "\n",
        "$$\\frac{dy}{dt} = \\kappa e^{\\kappa t}dt = y'$$\n",
        "\n",
        "so the left-hand side becomes\n",
        "\n",
        "$$x'y+y'x$$\n",
        "\n",
        "which is equal to $(xy)'$ by property of derivative. So the original differential equation becomes\n",
        "\n",
        "$$d(e^{\\kappa t}r_t) = e^{\\kappa t}\\kappa\\mu+e^{\\kappa t}\\sigma dW_t$$\n",
        "\n",
        "We can then integrate both sides to get\n",
        "\n",
        "$$\\int_0^t{d(e^{\\kappa s}r_s)}ds = \\int_0^t{e^{\\kappa s}\\kappa\\mu+e^{\\kappa s}\\sigma dW_s}ds$$\n",
        "\n",
        "where the left-hand side becomes\n",
        "\n",
        "$$\\int_0^t{d(e^{\\kappa s}r_s)}ds = e^{\\kappa t}r_t - e^0r_0 = e^{\\kappa t}r_t - r_0$$\n",
        "\n",
        "so have\n",
        "\n",
        "$$e^{\\kappa t}r_t - r_0 = \\int_0^t{e^{\\kappa s}\\kappa\\mu+e^{\\kappa s}\\sigma dW_s}ds = \\int_0^t{e^{\\kappa s}\\kappa\\mu}ds+\\int_0^t{e^{\\kappa s}\\sigma dW_s}ds$$\n",
        "\n",
        "On the right-hand side, the first term can be simply integrated as\n",
        "\n",
        "$$\\int_0^t{e^{\\kappa s}\\kappa\\mu}ds = \\mu(e^{\\kappa t}-1)$$\n",
        "\n",
        "and in the second term the term $\\sigma$ can be pulled out. So we obtain\n",
        "\n",
        "$$e^{\\kappa t}r_t - r_0=\\mu(e^{\\kappa t}-1)+\\sigma\\int_0^t{e^{\\kappa s}dW_s}ds$$\n",
        "\n",
        "so\n",
        "\n",
        "$$r_t = e^{-\\kappa t}r_0+e^{-\\kappa t}\\mu(e^{\\kappa t}-1)+e^{-\\kappa t}\\sigma\\int_0^t{e^{\\kappa s}dW_s}ds$$\n",
        "\n",
        "$$r_t = e^{-\\kappa t}r_0+\\mu(1-e^{-\\kappa t})+\\sigma e^{-\\kappa t}\\int_0^t{e^{\\kappa s}dW_s}ds$$\n"
      ]
    },
    {
      "metadata": {
        "id": "ViYTmqaFjhj8",
        "colab_type": "text"
      },
      "cell_type": "markdown",
      "source": [
        "###Design pricing engine of ZCB using explicit formula"
      ]
    },
    {
      "metadata": {
        "id": "q11YsgoulpwV",
        "colab_type": "code",
        "colab": {}
      },
      "cell_type": "code",
      "source": [
        "import numpy as np\n",
        "import array\n",
        "import scipy.optimize as so\n",
        "import matplotlib.pyplot as plt"
      ],
      "execution_count": 0,
      "outputs": []
    },
    {
      "metadata": {
        "id": "znBbLouzEPvA",
        "colab_type": "code",
        "colab": {}
      },
      "cell_type": "code",
      "source": [
        "def zcb_pricing(r0, T, kappa, mu, sigma):\n",
        "  b = (1-np.exp(-kappa*T))/kappa\n",
        "  a = (mu - sigma**2/(2*(kappa**2)))*(b-T)-(sigma**2/(4*kappa))*(b**2)\n",
        "  price = np.exp(a-b*r0)\n",
        "  \n",
        "  return price"
      ],
      "execution_count": 0,
      "outputs": []
    },
    {
      "metadata": {
        "id": "vywKIZgujbMv",
        "colab_type": "text"
      },
      "cell_type": "markdown",
      "source": [
        "###Design pricing engine using exact sampling"
      ]
    },
    {
      "metadata": {
        "id": "7QC89YH5EOrm",
        "colab_type": "code",
        "colab": {}
      },
      "cell_type": "code",
      "source": [
        "def zcb_pricing_es(r0, T, kappa, mu, sigma, n):\n",
        "  \n",
        "  arr_price = array.array('f',[])\n",
        "  for i in range(n):\n",
        "    Z = np.random.normal()\n",
        "    R = (mu*T + (r0-mu)*((1-np.exp(-kappa*T))/kappa)) + Z*np.sqrt((sigma**2/(2*kappa**3))*(2*kappa*T-3+4*np.exp(-kappa*T)-np.exp(-2*kappa*T)))\n",
        "    p = np.exp(-R)\n",
        "    arr_price.append(p)\n",
        "\n",
        "  return np.mean(arr_price)\n",
        "  "
      ],
      "execution_count": 0,
      "outputs": []
    },
    {
      "metadata": {
        "id": "z3CRebUilv79",
        "colab_type": "code",
        "colab": {}
      },
      "cell_type": "code",
      "source": [
        "def zcb_libor(price, T):\n",
        "  lrate = (100/T)*((1/price)-1)\n",
        "  \n",
        "  return lrate"
      ],
      "execution_count": 0,
      "outputs": []
    },
    {
      "metadata": {
        "id": "BIkfdhvhm90F",
        "colab_type": "code",
        "outputId": "e817b392-2a5d-457f-915b-8da06b2af061",
        "colab": {
          "base_uri": "https://localhost:8080/",
          "height": 84
        }
      },
      "cell_type": "code",
      "source": [
        "theta = [.1, .05, .003, .03]\n",
        "kappa, mu, sigma, r0 = theta\n",
        "\n",
        "T = 1\n",
        "\n",
        "#using explicit formula\n",
        "zcb_p1 = zcb_pricing(r0, T, kappa, mu, sigma)\n",
        "zcb_l1 = zcb_libor(zcb_p1, T)\n",
        "\n",
        "#using exact sampling with 100 samples\n",
        "zcb_p2 = zcb_pricing_es(r0, T, kappa, mu, sigma, 100)\n",
        "zcb_l2 = zcb_libor(zcb_p2, T)\n",
        "\n",
        "print(zcb_p1)\n",
        "print(zcb_l1)\n",
        "\n",
        "print(zcb_p2)\n",
        "print(zcb_l2)"
      ],
      "execution_count": 5,
      "outputs": [
        {
          "output_type": "stream",
          "text": [
            "0.9695084475425054\n",
            "3.145052787810565\n",
            "0.9697322\n",
            "3.1212508237085768\n"
          ],
          "name": "stdout"
        }
      ]
    },
    {
      "metadata": {
        "id": "BZv4CiFssK5z",
        "colab_type": "text"
      },
      "cell_type": "markdown",
      "source": [
        "### Find 10 term swap rates"
      ]
    },
    {
      "metadata": {
        "id": "7eleEcAmq5ry",
        "colab_type": "text"
      },
      "cell_type": "markdown",
      "source": [
        "$$s(t, T, N)=100\\frac{1-P(t,T)}{\\Delta\\sum_{j=1}^N{P(t,t+j\\Delta)}}$$\n",
        "\n",
        "$$\\Delta=\\frac{T-t}{N}$$"
      ]
    },
    {
      "metadata": {
        "id": "v27Uq5ZurmGZ",
        "colab_type": "code",
        "colab": {}
      },
      "cell_type": "code",
      "source": [
        "def term_swap(r0, T, kappa, mu, sigma, N):\n",
        "  delta = T/N\n",
        "  \n",
        "  arr_p = array.array('f',[])\n",
        "  for i in range(N):\n",
        "    p = zcb_pricing(r0, (i+1)*delta, kappa, mu, sigma)\n",
        "    arr_p.append(p)\n",
        "    \n",
        "  swap = 100*((1-zcb_pricing(r0, T, kappa, mu, sigma))/(delta*sum(arr_p)))\n",
        "    \n",
        "  return swap"
      ],
      "execution_count": 0,
      "outputs": []
    },
    {
      "metadata": {
        "id": "PpZXnStZnCvL",
        "colab_type": "code",
        "colab": {}
      },
      "cell_type": "code",
      "source": [
        "def term_swap_es(r0, T, kappa, mu, sigma, N, num_path):\n",
        "  delta = T/N\n",
        "  \n",
        "  arr_p = array.array('f',[])\n",
        "  for i in range(N):\n",
        "    p = zcb_pricing_es(r0, (i+1)*delta, kappa, mu, sigma, num_path)\n",
        "    arr_p.append(p)\n",
        "    \n",
        "  swap = 100*((1-zcb_pricing_es(r0, T, kappa, mu, sigma, num_path))/(delta*sum(arr_p)))\n",
        "    \n",
        "  return swap"
      ],
      "execution_count": 0,
      "outputs": []
    },
    {
      "metadata": {
        "id": "IudWwhYytQyv",
        "colab_type": "code",
        "outputId": "3a4b7f34-6ac7-4951-938f-7bd1f06c967b",
        "colab": {
          "base_uri": "https://localhost:8080/",
          "height": 50
        }
      },
      "cell_type": "code",
      "source": [
        "T = 5\n",
        "N = 10\n",
        "swap_rate = term_swap(r0, T, kappa, mu, sigma, N)\n",
        "swap_rate_es = term_swap_es(r0, T, kappa, mu, sigma, N, 100)\n",
        "print(swap_rate)\n",
        "print(swap_rate_es)"
      ],
      "execution_count": 54,
      "outputs": [
        {
          "output_type": "stream",
          "text": [
            "3.441821404372335\n",
            "3.460067613013911\n"
          ],
          "name": "stdout"
        }
      ]
    },
    {
      "metadata": {
        "id": "ME61imlq8XXj",
        "colab_type": "text"
      },
      "cell_type": "markdown",
      "source": [
        "###Callibrate Vasicek model using Libor market data, then compare"
      ]
    },
    {
      "metadata": {
        "id": "2DijFs3fth29",
        "colab_type": "code",
        "colab": {}
      },
      "cell_type": "code",
      "source": [
        "import pandas as pd\n",
        "dfLiborRate = pd.DataFrame({'maturity (months)': [1, 2, 3, 6, 12],\n",
        "'20081029 rate(%)': [3.1175, 3.2738, 3.4200, 3.4275, 3.4213],\n",
        "'20110214 rate(%)': [0.2647, 0.2890, 0.3140, 0.4657, 0.7975]\n",
        "})"
      ],
      "execution_count": 0,
      "outputs": []
    },
    {
      "metadata": {
        "id": "8_OnXnwKrZyb",
        "colab_type": "code",
        "colab": {}
      },
      "cell_type": "code",
      "source": [
        "libor_20081029 = [3.1175, 3.2738, 3.4200, 3.4275, 3.4213]\n",
        "libor_maturities = [1/12, 2/12, 3/12, 6/12, 1.]"
      ],
      "execution_count": 0,
      "outputs": []
    },
    {
      "metadata": {
        "id": "V4Z9GX-trrLj",
        "colab_type": "code",
        "colab": {}
      },
      "cell_type": "code",
      "source": [
        "#Using SSRE and explicit formula\n",
        "def error_fcn(theta, market_rates, maturities):\n",
        "  kappa, mu, sigma, r0 = theta\n",
        "  \n",
        "  arr_e = array.array('f',[])\n",
        "  for i in range(len(maturities)):\n",
        "    cal_price = zcb_pricing(r0, maturities[i], kappa, mu, sigma)\n",
        "    cal_rate = zcb_libor(cal_price, maturities[i])\n",
        "    err = ((market_rates[i]-cal_rate)/market_rates[i])**2\n",
        "    arr_e.append(err)\n",
        "  \n",
        "  return np.sqrt(np.sum(arr_e))\n",
        "\n",
        "#Using SSRE and es\n",
        "def error_fcn_es(theta, market_rates, maturities, num_path):\n",
        "  kappa, mu, sigma, r0 = theta\n",
        "  \n",
        "  arr_e = array.array('f',[])\n",
        "  for i in range(len(maturities)):\n",
        "    cal_price = zcb_pricing_es(r0, maturities[i], kappa, mu, sigma, num_path)\n",
        "    cal_rate = zcb_libor(cal_price, maturities[i])\n",
        "    err = ((market_rates[i]-cal_rate)/market_rates[i])**2\n",
        "    arr_e.append(err)\n",
        "  \n",
        "  return np.sqrt(np.sum(arr_e))\n"
      ],
      "execution_count": 0,
      "outputs": []
    },
    {
      "metadata": {
        "id": "eNxXwjTrvXFH",
        "colab_type": "code",
        "colab": {}
      },
      "cell_type": "code",
      "source": [
        "#Calibration using explicit formula\n",
        "def lcalibration(libor_rates, maturities):\n",
        "  init_theta = [.1, .05, .003, .03]\n",
        "  ikappa, imu, isigma, ir0 = init_theta\n",
        "  \n",
        "  return so.fmin(error_fcn, init_theta,\n",
        "                 args = (libor_rates, maturities), disp = 0)\n",
        "\n",
        "#Calibration using es\n",
        "def lcalibration_es(libor_rates, maturities, num_path):\n",
        "  init_theta = [.1, .05, .003, .03]\n",
        "  ikappa, imu, isigma, ir0 = init_theta\n",
        "  \n",
        "  return so.fmin(error_fcn_es, init_theta, args = (libor_rates, maturities, num_path), disp = 0)"
      ],
      "execution_count": 0,
      "outputs": []
    },
    {
      "metadata": {
        "id": "L-tlL7gvvXgd",
        "colab_type": "code",
        "outputId": "5050e30a-f0e0-46c7-8191-085c3bfe4944",
        "colab": {
          "base_uri": "https://localhost:8080/",
          "height": 84
        }
      },
      "cell_type": "code",
      "source": [
        "test = error_fcn(theta, libor_20081029,libor_maturities)\n",
        "print(test)\n",
        "test2 = error_fcn_es(theta, libor_20081029, libor_maturities, 100)\n",
        "print(test2)\n",
        "\n",
        "#calibrated theta using explicit formula\n",
        "cal_theta = lcalibration(libor_20081029,libor_maturities)\n",
        "print(cal_theta)\n",
        "#calibrated theta using es\n",
        "cal_theta_es = lcalibration_es(libor_20081029,libor_maturities, 100)\n",
        "print(cal_theta_es)"
      ],
      "execution_count": 59,
      "outputs": [
        {
          "output_type": "stream",
          "text": [
            "0.19182101\n",
            "0.18907772\n",
            "[ 5.59152639e+02  3.45052451e-02 -8.14831348e+00 -1.13040283e-01]\n",
            "[0.10843745 0.04953114 0.00284062 0.03253125]\n"
          ],
          "name": "stdout"
        }
      ]
    },
    {
      "metadata": {
        "id": "9sXcwMYS3fCr",
        "colab_type": "code",
        "outputId": "d413b3fb-e176-458f-fc3a-f2bb692ab94f",
        "colab": {
          "base_uri": "https://localhost:8080/",
          "height": 378
        }
      },
      "cell_type": "code",
      "source": [
        "ckappa, cmu, csigma, cr0 = cal_theta\n",
        "\n",
        "#explicit formula calibration comparison\n",
        "clibor = array.array('f',[])\n",
        "clibor_err = array.array('f',[])\n",
        "\n",
        "for i in range(len(libor_20081029)):\n",
        "  cprice = zcb_pricing(cr0, libor_maturities[i], ckappa, cmu, csigma)\n",
        "  cl = zcb_libor(cprice, libor_maturities[i])\n",
        "  err = np.abs(cl - libor_20081029[i])\n",
        "  clibor.append(cl)\n",
        "  clibor_err.append(err)\n",
        "  \n",
        "plt.plot(libor_maturities, libor_20081029, 'ro')\n",
        "plt.plot(libor_maturities, clibor, 'bo')\n",
        "plt.xlabel('maturities')\n",
        "plt.ylabel('market/calibrated rates')\n",
        "\n",
        "print(np.sum(clibor_err))"
      ],
      "execution_count": 60,
      "outputs": [
        {
          "output_type": "stream",
          "text": [
            "0.16134936\n"
          ],
          "name": "stdout"
        },
        {
          "output_type": "display_data",
          "data": {
            "image/png": "[encoded data removed]",
            "text/plain": [
              "<Figure size 576x396 with 1 Axes>"
            ]
          },
          "metadata": {
            "tags": []
          }
        }
      ]
    },
    {
      "metadata": {
        "id": "etF2JN7Y5n-Y",
        "colab_type": "code",
        "outputId": "58111f9a-d410-4009-feb0-689993848a2e",
        "colab": {
          "base_uri": "https://localhost:8080/",
          "height": 378
        }
      },
      "cell_type": "code",
      "source": [
        "#es calibration comparison: with 100 paths\n",
        "clibor_es = array.array('f',[])\n",
        "clibor_err_es = array.array('f',[])\n",
        "\n",
        "for i in range(len(libor_20081029)):\n",
        "  cprice = zcb_pricing_es(cr0, libor_maturities[i], ckappa, cmu, csigma, 100)\n",
        "  cl = zcb_libor(cprice, libor_maturities[i])\n",
        "  err = np.abs(cl - libor_20081029[i])\n",
        "  clibor_es.append(cl)\n",
        "  clibor_err_es.append(err)\n",
        "  \n",
        "  \n",
        "plt.plot(libor_maturities, libor_20081029, 'ro')\n",
        "plt.plot(libor_maturities, clibor_es, 'bo')\n",
        "plt.xlabel('maturities')\n",
        "plt.ylabel('market/calibrated rates')\n",
        "\n",
        "print(np.sum(clibor_err_es))"
      ],
      "execution_count": 61,
      "outputs": [
        {
          "output_type": "stream",
          "text": [
            "1.4402524\n"
          ],
          "name": "stdout"
        },
        {
          "output_type": "display_data",
          "data": {
            "image/png": "[encoded data removed]",
            "text/plain": [
              "<Figure size 576x396 with 1 Axes>"
            ]
          },
          "metadata": {
            "tags": []
          }
        }
      ]
    },
    {
      "metadata": {
        "id": "ClpTX81k5_ZY",
        "colab_type": "text"
      },
      "cell_type": "markdown",
      "source": [
        "explicit formula produces parameters that produce calibrated rates closer to the market rate (and less computational time), but involve negative parameters (drawback)\n",
        "\n",
        "..."
      ]
    },
    {
      "metadata": {
        "id": "UlJu7pYT9aMO",
        "colab_type": "text"
      },
      "cell_type": "markdown",
      "source": [
        "###Callibrate Vasicek model using swap market data, then compare"
      ]
    },
    {
      "metadata": {
        "id": "fZg7L1R68qzv",
        "colab_type": "code",
        "colab": {}
      },
      "cell_type": "code",
      "source": [
        "dfSwapRate = pd.DataFrame({'term (year)': [2, 3, 5, 7, 10, 15, 30],\n",
        "'20081029 rate(%)': [2.6967, 3.1557, 3.8111, 4.1497, 4.3638, 4.3753, 4.2772],\n",
        "'20110214 rate(%)': [1.0481, 1.5577, 2.5569, 3.1850, 3.7225, 4.1683, 4.4407]\n",
        "})"
      ],
      "execution_count": 0,
      "outputs": []
    },
    {
      "metadata": {
        "id": "vBbUVzr79m1g",
        "colab_type": "code",
        "colab": {}
      },
      "cell_type": "code",
      "source": [
        "swap_20081029 = [2.6967, 3.1557, 3.8111, 4.1497, 4.3638, 4.3753, 4.2772]\n",
        "swap_maturity = [2, 3, 5, 7, 10, 15, 30]\n",
        "#assuming as before the term length is 1/2 year\n",
        "swap_term = [4, 6, 10, 14, 20, 30, 60]"
      ],
      "execution_count": 0,
      "outputs": []
    },
    {
      "metadata": {
        "id": "K47STJZk6ywh",
        "colab_type": "code",
        "colab": {}
      },
      "cell_type": "code",
      "source": [
        "#Using SSRE and explicit formula\n",
        "def error_fcn_swap(theta, market_rates, maturities, terms):\n",
        "  kappa, mu, sigma, r0 = theta\n",
        "  \n",
        "  arr_e = array.array('f',[])\n",
        "  for i in range(len(maturities)):\n",
        "    cal_rate = term_swap(r0, maturities[i], kappa, mu, sigma, terms[i])\n",
        "    err = ((market_rates[i]-cal_rate)/market_rates[i])**2\n",
        "    arr_e.append(err)\n",
        "  \n",
        "  return np.sum(arr_e)\n",
        "\n",
        "#Using SSRE and es\n",
        "def error_fcn_swap_es(theta, market_rates, maturities, terms, num_path):\n",
        "  kappa, mu, sigma, r0 = theta\n",
        "  \n",
        "  arr_e = array.array('f',[])\n",
        "  for i in range(len(maturities)):\n",
        "    cal_rate = term_swap_es(r0, maturities[i], kappa, mu, sigma, terms[i], num_path)\n",
        "    err = ((market_rates[i]-cal_rate)/market_rates[i])**2\n",
        "    arr_e.append(err)\n",
        "  \n",
        "  return np.sum(arr_e)"
      ],
      "execution_count": 0,
      "outputs": []
    },
    {
      "metadata": {
        "id": "WAfmrDG_8c_C",
        "colab_type": "code",
        "colab": {}
      },
      "cell_type": "code",
      "source": [
        "#Calibration using explicit formula\n",
        "def scalibration(swap_rates, maturities, terms):\n",
        "  init_theta = [.1, .05, .003, .03]\n",
        "  ikappa, imu, isigma, ir0 = init_theta\n",
        "  \n",
        "  return so.fmin(error_fcn_swap, init_theta,\n",
        "                 args = (swap_rates, maturities, terms), disp = 0)\n",
        "\n",
        "#Calibration using es\n",
        "def scalibration_es(libor_rates, maturities, terms, num_path):\n",
        "  init_theta = [.1, .05, .003, .03]\n",
        "  ikappa, imu, isigma, ir0 = init_theta\n",
        "  \n",
        "  return so.fmin(error_fcn_swap_es, init_theta, args = (libor_rates, maturities, terms, num_path), disp = 0)"
      ],
      "execution_count": 0,
      "outputs": []
    },
    {
      "metadata": {
        "id": "6G0zzMyp8VoV",
        "colab_type": "code",
        "outputId": "18229ea3-4124-447c-9a56-3744451264d3",
        "colab": {
          "base_uri": "https://localhost:8080/",
          "height": 50
        }
      },
      "cell_type": "code",
      "source": [
        "#calibrated theta using explicit formula\n",
        "cal_theta_s = scalibration(swap_20081029,swap_maturity, swap_term)\n",
        "print(cal_theta_s)\n",
        "#calibrated theta using es\n",
        "cal_theta_s_es = scalibration_es(swap_20081029,swap_maturity, swap_term, 100)\n",
        "print(cal_theta_s_es)"
      ],
      "execution_count": 66,
      "outputs": [
        {
          "output_type": "stream",
          "text": [
            "[ 1.18531696  0.04717442 -0.02526716 -0.00588583]\n",
            "[0.10207574 0.05518998 0.00301193 0.02849938]\n"
          ],
          "name": "stdout"
        }
      ]
    },
    {
      "metadata": {
        "id": "wDujpXE-9Jkz",
        "colab_type": "code",
        "outputId": "37a8a697-824d-49f9-bd15-71b60e52fd08",
        "colab": {
          "base_uri": "https://localhost:8080/",
          "height": 378
        }
      },
      "cell_type": "code",
      "source": [
        "cskappa, csmu, cssigma, csr0 = cal_theta_s\n",
        "\n",
        "#explicit formula calibration comparison\n",
        "cswap = array.array('f',[])\n",
        "cswap_err = array.array('f',[])\n",
        "\n",
        "for i in range(len(swap_20081029)):\n",
        "  cs = term_swap(csr0, swap_maturity[i], cskappa, csmu, cssigma, swap_term[i])\n",
        "  err = np.abs(cs - swap_20081029[i])\n",
        "  cswap.append(cs)\n",
        "  cswap_err.append(err)\n",
        "  \n",
        "plt.plot(swap_maturity, swap_20081029, 'ro')\n",
        "plt.plot(swap_maturity, cswap, 'bo')\n",
        "plt.xlabel('maturities')\n",
        "plt.ylabel('market/calibrated rates')\n",
        "\n",
        "print(np.sum(cswap_err))"
      ],
      "execution_count": 67,
      "outputs": [
        {
          "output_type": "stream",
          "text": [
            "0.63494384\n"
          ],
          "name": "stdout"
        },
        {
          "output_type": "display_data",
          "data": {
            "image/png": "[encoded data removed]",
            "text/plain": [
              "<Figure size 576x396 with 1 Axes>"
            ]
          },
          "metadata": {
            "tags": []
          }
        }
      ]
    },
    {
      "metadata": {
        "id": "-39cXyyE-U-8",
        "colab_type": "code",
        "outputId": "e36a610a-5b80-4871-8967-d9904a95403a",
        "colab": {
          "base_uri": "https://localhost:8080/",
          "height": 378
        }
      },
      "cell_type": "code",
      "source": [
        "#es calibration comparison: with 100 paths\n",
        "cswap_es = array.array('f',[])\n",
        "cswap_err_es = array.array('f',[])\n",
        "\n",
        "for i in range(len(swap_20081029)):\n",
        "#  cprice = zcb_pricing_es(cr0, libor_maturities[i], ckappa, cmu, csigma, 100)\n",
        "  cs = term_swap_es(csr0, swap_maturity[i], cskappa, csmu, cssigma, swap_term[i], 100)\n",
        "  err = np.abs(cs - swap_20081029[i])\n",
        "  cswap_es.append(cs)\n",
        "  cswap_err_es.append(err)\n",
        "  \n",
        "plt.plot(swap_maturity, swap_20081029, 'ro')\n",
        "plt.plot(swap_maturity, cswap_es, 'bo')\n",
        "plt.xlabel('maturities')\n",
        "plt.ylabel('market/calibrated rates')\n",
        "\n",
        "print(np.sum(cswap_err_es))"
      ],
      "execution_count": 68,
      "outputs": [
        {
          "output_type": "stream",
          "text": [
            "0.5446303\n"
          ],
          "name": "stdout"
        },
        {
          "output_type": "display_data",
          "data": {
            "image/png": "[encoded data removed]",
            "text/plain": [
              "<Figure size 576x396 with 1 Axes>"
            ]
          },
          "metadata": {
            "tags": []
          }
        }
      ]
    },
    {
      "metadata": {
        "id": "pmz4n6KrAt-u",
        "colab_type": "text"
      },
      "cell_type": "markdown",
      "source": [
        "the es method produces better estimated parameters and calibration for swap rates"
      ]
    },
    {
      "metadata": {
        "id": "vjGkZa2cAffR",
        "colab_type": "code",
        "colab": {}
      },
      "cell_type": "code",
      "source": [
        ""
      ],
      "execution_count": 0,
      "outputs": []
    }
  ]
}