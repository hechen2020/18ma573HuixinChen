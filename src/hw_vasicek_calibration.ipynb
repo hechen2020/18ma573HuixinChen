{
  "nbformat": 4,
  "nbformat_minor": 0,
  "metadata": {
    "colab": {
      "name": "hw_vasicek_calibration.ipynb",
      "version": "0.3.2",
      "provenance": [],
      "collapsed_sections": [],
      "include_colab_link": true
    },
    "kernelspec": {
      "name": "python3",
      "display_name": "Python 3"
    }
  },
  "cells": [
    {
      "cell_type": "markdown",
      "metadata": {
        "id": "view-in-github",
        "colab_type": "text"
      },
      "source": [
        "<a href=\"https://colab.research.google.com/github/hechen2020/19ma573HuixinChen/blob/master/src/hw_vasicek_calibration.ipynb\" target=\"_parent\"><img src=\"https://colab.research.google.com/assets/colab-badge.svg\" alt=\"Open In Colab\"/></a>"
      ]
    },
    {
      "metadata": {
        "id": "TZKzk0MrEQOG",
        "colab_type": "text"
      },
      "cell_type": "markdown",
      "source": [
        "##hw_vasicek_calibration\n",
        "###goal: to design pricing engine and calibrate vasicek model from data"
      ]
    },
    {
      "metadata": {
        "id": "frdN1IKSgNdp",
        "colab_type": "text"
      },
      "cell_type": "markdown",
      "source": [
        "##Verify:\n",
        "\n",
        "$$r_t=r_0e^{-\\kappa t}+\\mu(1-e^{-\\kappa t})+\\sigma^{-\\kappa t}\\int_0^t{e^{\\kappa t}dW_s}$$\n",
        "\n",
        "is the solution for\n",
        "\n",
        "$$dr_t=\\kappa(\\mu-r_t)dt+\\sigma dW_t$$\n",
        "\n",
        "with $r_0$\n",
        "\n",
        "##Steps:\n",
        "\n",
        "We can first distribute the terms and isolate the terms with $dr_t$ and $r_t$ in the differential equation and get:\n",
        "\n",
        "$$dr_t+\\kappa r_tdt=\\kappa\\mu+\\sigma dW_t$$\n",
        "\n",
        "Then multiply both sides by the integrating factor $e^{\\kappa t}$ and get\n",
        "\n",
        "$$e^{\\kappa t}dr_t+e^{\\kappa t}\\kappa r_tdt=e^{\\kappa t}\\kappa\\mu+e^{\\kappa t}\\sigma dW_t$$\n",
        "\n",
        "note on the left side, if we let $x=r_t$ and $y=e^{\\kappa t}$, we should have\n",
        "\n",
        "$$\\frac{dx}{dt} = dr_t = x'$$\n",
        "\n",
        "$$\\frac{dy}{dt} = \\kappa e^{\\kappa t}dt = y'$$\n",
        "\n",
        "so the left-hand side becomes\n",
        "\n",
        "$$x'y+y'x$$\n",
        "\n",
        "which is equal to $(xy)'$ by property of derivative. So the original differential equation becomes\n",
        "\n",
        "$$d(e^{\\kappa t}r_t) = e^{\\kappa t}\\kappa\\mu+e^{\\kappa t}\\sigma dW_t$$\n",
        "\n",
        "We can then integrate both sides to get\n",
        "\n",
        "$$\\int_0^t{d(e^{\\kappa s}r_s)}ds = \\int_0^t{e^{\\kappa s}\\kappa\\mu+e^{\\kappa s}\\sigma dW_s}ds$$\n",
        "\n",
        "where the left-hand side becomes\n",
        "\n",
        "$$\\int_0^t{d(e^{\\kappa s}r_s)}ds = e^{\\kappa t}r_t - e^0r_0 = e^{\\kappa t}r_t - r_0$$\n",
        "\n",
        "so have\n",
        "\n",
        "$$e^{\\kappa t}r_t - r_0 = \\int_0^t{e^{\\kappa s}\\kappa\\mu+e^{\\kappa s}\\sigma dW_s}ds = \\int_0^t{e^{\\kappa s}\\kappa\\mu}ds+\\int_0^t{e^{\\kappa s}\\sigma dW_s}ds$$\n",
        "\n",
        "On the right-hand side, the first term can be simply integrated as\n",
        "\n",
        "$$\\int_0^t{e^{\\kappa s}\\kappa\\mu}ds = \\mu(e^{\\kappa t}-1)$$\n",
        "\n",
        "and in the second term the term $\\sigma$ can be pulled out. So we obtain\n",
        "\n",
        "$$e^{\\kappa t}r_t - r_0=\\mu(e^{\\kappa t}-1)+\\sigma\\int_0^t{e^{\\kappa s}dW_s}ds$$\n",
        "\n",
        "so\n",
        "\n",
        "$$r_t = e^{-\\kappa t}r_0+e^{-\\kappa t}\\mu(e^{\\kappa t}-1)+e^{-\\kappa t}\\sigma\\int_0^t{e^{\\kappa s}dW_s}ds$$\n",
        "\n",
        "$$r_t = e^{-\\kappa t}r_0+\\mu(1-e^{-\\kappa t})+\\sigma e^{-\\kappa t}\\int_0^t{e^{\\kappa s}dW_s}ds$$\n"
      ]
    },
    {
      "metadata": {
        "id": "ViYTmqaFjhj8",
        "colab_type": "text"
      },
      "cell_type": "markdown",
      "source": [
        "###Design pricing engine of ZCB using explicit formula"
      ]
    },
    {
      "metadata": {
        "id": "q11YsgoulpwV",
        "colab_type": "code",
        "colab": {}
      },
      "cell_type": "code",
      "source": [
        "import numpy as np\n",
        "import array\n",
        "import scipy.optimize as so\n",
        "import matplotlib.pyplot as plt"
      ],
      "execution_count": 0,
      "outputs": []
    },
    {
      "metadata": {
        "id": "znBbLouzEPvA",
        "colab_type": "code",
        "colab": {}
      },
      "cell_type": "code",
      "source": [
        "def zcb_pricing(r0, T, kappa, mu, sigma):\n",
        "  b = (1-np.exp(-kappa*T))/kappa\n",
        "  a = (mu - sigma**2/(2*(kappa**2)))*(b-T)-(sigma**2/(4*kappa))*(b**2)\n",
        "  price = np.exp(a-b*r0)\n",
        "  \n",
        "  return price"
      ],
      "execution_count": 0,
      "outputs": []
    },
    {
      "metadata": {
        "id": "vywKIZgujbMv",
        "colab_type": "text"
      },
      "cell_type": "markdown",
      "source": [
        "###Design pricing engine using exact sampling"
      ]
    },
    {
      "metadata": {
        "id": "7QC89YH5EOrm",
        "colab_type": "code",
        "colab": {}
      },
      "cell_type": "code",
      "source": [
        "def zcb_pricing_es(r0, T, kappa, mu, sigma, n):\n",
        "  \n",
        "  arr_price = array.array('f',[])\n",
        "  for i in range(n):\n",
        "    Z = np.random.normal()\n",
        "    R = (mu*T + (r0-mu)*((1-np.exp(-kappa*T))/kappa)) + Z*np.sqrt((sigma**2/(2*kappa**3))*(2*kappa*T-3+4*np.exp(-kappa*T)-np.exp(-2*kappa*T)))\n",
        "    p = np.exp(-R)\n",
        "    arr_price.append(p)\n",
        "\n",
        "  return np.mean(arr_price)\n",
        "  "
      ],
      "execution_count": 0,
      "outputs": []
    },
    {
      "metadata": {
        "id": "z3CRebUilv79",
        "colab_type": "code",
        "colab": {}
      },
      "cell_type": "code",
      "source": [
        "def zcb_libor(price, T):\n",
        "  lrate = (100/T)*((1/price)-1)\n",
        "  \n",
        "  return lrate"
      ],
      "execution_count": 0,
      "outputs": []
    },
    {
      "metadata": {
        "id": "BIkfdhvhm90F",
        "colab_type": "code",
        "colab": {
          "base_uri": "https://localhost:8080/",
          "height": 84
        },
        "outputId": "cb1bfa1d-45d3-49b8-aa54-bebd9358536f"
      },
      "cell_type": "code",
      "source": [
        "theta = [.1, .05, .003, .03]\n",
        "kappa, mu, sigma, r0 = theta\n",
        "\n",
        "T = 1\n",
        "\n",
        "#using explicit formula\n",
        "zcb_p1 = zcb_pricing(r0, T, kappa, mu, sigma)\n",
        "zcb_l1 = zcb_libor(zcb_p1, T)\n",
        "\n",
        "#using exact sampling with 100 samples\n",
        "zcb_p2 = zcb_pricing_es(r0, T, kappa, mu, sigma, 100)\n",
        "zcb_l2 = zcb_libor(zcb_p2, T)\n",
        "\n",
        "print(zcb_p1)\n",
        "print(zcb_l1)\n",
        "\n",
        "print(zcb_p2)\n",
        "print(zcb_l2)"
      ],
      "execution_count": 132,
      "outputs": [
        {
          "output_type": "stream",
          "text": [
            "0.9695084475425054\n",
            "3.145052787810565\n",
            "0.96965325\n",
            "3.1296498259598238\n"
          ],
          "name": "stdout"
        }
      ]
    },
    {
      "metadata": {
        "id": "BZv4CiFssK5z",
        "colab_type": "text"
      },
      "cell_type": "markdown",
      "source": [
        "### Find 10 term swap rates"
      ]
    },
    {
      "metadata": {
        "id": "7eleEcAmq5ry",
        "colab_type": "text"
      },
      "cell_type": "markdown",
      "source": [
        "$$s(t, T, N)=100\\frac{1-P(t,T)}{\\Delta\\sum_{j=1}^N{P(t,t+j\\Delta)}}$$\n",
        "\n",
        "$$\\Delta=\\frac{T-t}{N}$$"
      ]
    },
    {
      "metadata": {
        "id": "v27Uq5ZurmGZ",
        "colab_type": "code",
        "colab": {}
      },
      "cell_type": "code",
      "source": [
        "def term_swap(r0, T, kappa, mu, sigma, N):\n",
        "  delta = T/N\n",
        "  \n",
        "  arr_p = array.array('f',[])\n",
        "  for i in range(N):\n",
        "    p = zcb_pricing(r0, (i+1)*delta, kappa, mu, sigma)\n",
        "    arr_p.append(p)\n",
        "    \n",
        "  swap = 100*((1-zcb_pricing(r0, T, kappa, mu, sigma))/(delta*sum(arr_p)))\n",
        "    \n",
        "  return swap"
      ],
      "execution_count": 0,
      "outputs": []
    },
    {
      "metadata": {
        "id": "PpZXnStZnCvL",
        "colab_type": "code",
        "colab": {}
      },
      "cell_type": "code",
      "source": [
        "def term_swap_es(r0, T, kappa, mu, sigma, N, num_path):\n",
        "  delta = T/N\n",
        "  \n",
        "  arr_p = array.array('f',[])\n",
        "  for i in range(N):\n",
        "    p = zcb_pricing_es(r0, (i+1)*delta, kappa, mu, sigma, num_path)\n",
        "    arr_p.append(p)\n",
        "    \n",
        "  swap = 100*((1-zcb_pricing_es(r0, T, kappa, mu, sigma, num_path))/(delta*sum(arr_p)))\n",
        "    \n",
        "  return swap"
      ],
      "execution_count": 0,
      "outputs": []
    },
    {
      "metadata": {
        "id": "IudWwhYytQyv",
        "colab_type": "code",
        "colab": {
          "base_uri": "https://localhost:8080/",
          "height": 50
        },
        "outputId": "f13818f8-d0b5-447a-b3ad-3f2b9d21c199"
      },
      "cell_type": "code",
      "source": [
        "T = 5\n",
        "N = 10\n",
        "swap_rate = term_swap(r0, T, kappa, mu, sigma, N)\n",
        "swap_rate_es = term_swap_es(r0, T, kappa, mu, sigma, N, 100)\n",
        "print(swap_rate)\n",
        "print(swap_rate_es)"
      ],
      "execution_count": 135,
      "outputs": [
        {
          "output_type": "stream",
          "text": [
            "3.441821404372335\n",
            "3.42379027115172\n"
          ],
          "name": "stdout"
        }
      ]
    },
    {
      "metadata": {
        "id": "ME61imlq8XXj",
        "colab_type": "text"
      },
      "cell_type": "markdown",
      "source": [
        "###Callibrate Vasicek model using Libor market data, then compare"
      ]
    },
    {
      "metadata": {
        "id": "2DijFs3fth29",
        "colab_type": "code",
        "colab": {}
      },
      "cell_type": "code",
      "source": [
        "import pandas as pd\n",
        "dfLiborRate = pd.DataFrame({'maturity (months)': [1, 2, 3, 6, 12],\n",
        "'20081029 rate(%)': [3.1175, 3.2738, 3.4200, 3.4275, 3.4213],\n",
        "'20110214 rate(%)': [0.2647, 0.2890, 0.3140, 0.4657, 0.7975]\n",
        "})"
      ],
      "execution_count": 0,
      "outputs": []
    },
    {
      "metadata": {
        "id": "hf5RDZ9-8oxQ",
        "colab_type": "code",
        "colab": {
          "base_uri": "https://localhost:8080/",
          "height": 195
        },
        "outputId": "a8b74168-9488-491c-fa0a-417b914fb733"
      },
      "cell_type": "code",
      "source": [
        "dfLiborRate"
      ],
      "execution_count": 137,
      "outputs": [
        {
          "output_type": "execute_result",
          "data": {
            "text/html": [
              "<div>\n",
              "<style scoped>\n",
              "    .dataframe tbody tr th:only-of-type {\n",
              "        vertical-align: middle;\n",
              "    }\n",
              "\n",
              "    .dataframe tbody tr th {\n",
              "        vertical-align: top;\n",
              "    }\n",
              "\n",
              "    .dataframe thead th {\n",
              "        text-align: right;\n",
              "    }\n",
              "</style>\n",
              "<table border=\"1\" class=\"dataframe\">\n",
              "  <thead>\n",
              "    <tr style=\"text-align: right;\">\n",
              "      <th></th>\n",
              "      <th>20081029 rate(%)</th>\n",
              "      <th>20110214 rate(%)</th>\n",
              "      <th>maturity (months)</th>\n",
              "    </tr>\n",
              "  </thead>\n",
              "  <tbody>\n",
              "    <tr>\n",
              "      <th>0</th>\n",
              "      <td>3.1175</td>\n",
              "      <td>0.2647</td>\n",
              "      <td>1</td>\n",
              "    </tr>\n",
              "    <tr>\n",
              "      <th>1</th>\n",
              "      <td>3.2738</td>\n",
              "      <td>0.2890</td>\n",
              "      <td>2</td>\n",
              "    </tr>\n",
              "    <tr>\n",
              "      <th>2</th>\n",
              "      <td>3.4200</td>\n",
              "      <td>0.3140</td>\n",
              "      <td>3</td>\n",
              "    </tr>\n",
              "    <tr>\n",
              "      <th>3</th>\n",
              "      <td>3.4275</td>\n",
              "      <td>0.4657</td>\n",
              "      <td>6</td>\n",
              "    </tr>\n",
              "    <tr>\n",
              "      <th>4</th>\n",
              "      <td>3.4213</td>\n",
              "      <td>0.7975</td>\n",
              "      <td>12</td>\n",
              "    </tr>\n",
              "  </tbody>\n",
              "</table>\n",
              "</div>"
            ],
            "text/plain": [
              "   20081029 rate(%)  20110214 rate(%)  maturity (months)\n",
              "0            3.1175            0.2647                  1\n",
              "1            3.2738            0.2890                  2\n",
              "2            3.4200            0.3140                  3\n",
              "3            3.4275            0.4657                  6\n",
              "4            3.4213            0.7975                 12"
            ]
          },
          "metadata": {
            "tags": []
          },
          "execution_count": 137
        }
      ]
    },
    {
      "metadata": {
        "id": "8_OnXnwKrZyb",
        "colab_type": "code",
        "colab": {}
      },
      "cell_type": "code",
      "source": [
        "libor_20081029 = [3.1175, 3.2738, 3.4200, 3.4275, 3.4213]\n",
        "libor_maturities = [1/12, 2/12, 3/12, 6/12, 1.]"
      ],
      "execution_count": 0,
      "outputs": []
    },
    {
      "metadata": {
        "id": "V4Z9GX-trrLj",
        "colab_type": "code",
        "colab": {}
      },
      "cell_type": "code",
      "source": [
        "#Using SSRE and explicit formula\n",
        "def error_fcn(theta, market_rates, maturities):\n",
        "  kappa, mu, sigma, r0 = theta\n",
        "  \n",
        "  arr_e = array.array('f',[])\n",
        "  for i in range(len(maturities)):\n",
        "    cal_price = zcb_pricing(r0, maturities[i], kappa, mu, sigma)\n",
        "    cal_rate = zcb_libor(cal_price, maturities[i])\n",
        "    err = ((market_rates[i]-cal_rate)/market_rates[i])**2\n",
        "    arr_e.append(err)\n",
        "  \n",
        "  return np.sqrt(np.mean(arr_e))\n",
        "\n",
        "#Using SSRE and es\n",
        "def error_fcn_es(theta, market_rates, maturities, num_path):\n",
        "  kappa, mu, sigma, r0 = theta\n",
        "  \n",
        "  arr_e = array.array('f',[])\n",
        "  for i in range(len(maturities)):\n",
        "    cal_price = zcb_pricing_es(r0, maturities[i], kappa, mu, sigma, num_path)\n",
        "    cal_rate = zcb_libor(cal_price, maturities[i])\n",
        "    err = ((market_rates[i]-cal_rate)/market_rates[i])**2\n",
        "    arr_e.append(err)\n",
        "  \n",
        "  return np.sqrt(np.mean(arr_e))\n"
      ],
      "execution_count": 0,
      "outputs": []
    },
    {
      "metadata": {
        "id": "eNxXwjTrvXFH",
        "colab_type": "code",
        "colab": {}
      },
      "cell_type": "code",
      "source": [
        "#Calibration using explicit formula\n",
        "def lcalibration(libor_rates, maturities):\n",
        "  init_theta = [.1, .05, .003, .03]\n",
        "  ikappa, imu, isigma, ir0 = init_theta\n",
        "  \n",
        "  return so.fmin(error_fcn, init_theta,\n",
        "                 args = (libor_rates, maturities), disp = 0)\n",
        "\n",
        "#Calibration using es\n",
        "def lcalibration_es(libor_rates, maturities, num_path):\n",
        "  init_theta = [.1, .05, .003, .03]\n",
        "  ikappa, imu, isigma, ir0 = init_theta\n",
        "  \n",
        "  return so.fmin(error_fcn_es, init_theta, args = (libor_rates, maturities, num_path), disp = 0)"
      ],
      "execution_count": 0,
      "outputs": []
    },
    {
      "metadata": {
        "id": "L-tlL7gvvXgd",
        "colab_type": "code",
        "colab": {
          "base_uri": "https://localhost:8080/",
          "height": 84
        },
        "outputId": "dd034f40-f0ca-4939-d2c2-dee40c621a00"
      },
      "cell_type": "code",
      "source": [
        "test = error_fcn(theta, libor_20081029,libor_maturities)\n",
        "print(test)\n",
        "test2 = error_fcn_es(theta, libor_20081029, libor_maturities, 100)\n",
        "print(test2)\n",
        "\n",
        "#calibrated theta using explicit formula\n",
        "cal_theta = lcalibration(libor_20081029,libor_maturities)\n",
        "print(cal_theta)\n",
        "#calibrated theta using es\n",
        "cal_theta_es = lcalibration_es(libor_20081029,libor_maturities, 100)\n",
        "print(cal_theta_es)"
      ],
      "execution_count": 141,
      "outputs": [
        {
          "output_type": "stream",
          "text": [
            "0.085784964\n",
            "0.08422754\n",
            "[ 5.63335603e+02  3.45050192e-02 -8.20930732e+00 -1.14127580e-01]\n",
            "[0.09771755 0.05207564 0.00289125 0.03273198]\n"
          ],
          "name": "stdout"
        }
      ]
    },
    {
      "metadata": {
        "id": "9sXcwMYS3fCr",
        "colab_type": "code",
        "colab": {
          "base_uri": "https://localhost:8080/",
          "height": 378
        },
        "outputId": "0652f55e-7218-4ff2-ba36-279687b9a094"
      },
      "cell_type": "code",
      "source": [
        "ckappa, cmu, csigma, cr0 = cal_theta\n",
        "\n",
        "#explicit formula calibration comparison\n",
        "clibor = array.array('f',[])\n",
        "\n",
        "for i in range(len(libor_20081029)):\n",
        "  cprice = zcb_pricing(cr0, libor_maturities[i], ckappa, cmu, csigma)\n",
        "  cl = zcb_libor(cprice, libor_maturities[i])\n",
        "  clibor.append(cl)\n",
        "  \n",
        "plt.plot(libor_20081029, clibor, 'o')\n",
        "plt.xlabel('LIBOR rate')\n",
        "plt.ylabel('Calibrated rate')\n"
      ],
      "execution_count": 142,
      "outputs": [
        {
          "output_type": "execute_result",
          "data": {
            "text/plain": [
              "Text(0, 0.5, 'Calibrated rate')"
            ]
          },
          "metadata": {
            "tags": []
          },
          "execution_count": 142
        },
        {
          "output_type": "display_data",
          "data": {
            "image/png": "[encoded data removed]",
            "text/plain": [
              "<Figure size 576x396 with 1 Axes>"
            ]
          },
          "metadata": {
            "tags": []
          }
        }
      ]
    },
    {
      "metadata": {
        "id": "etF2JN7Y5n-Y",
        "colab_type": "code",
        "colab": {
          "base_uri": "https://localhost:8080/",
          "height": 378
        },
        "outputId": "eb1a2542-070a-47be-adff-930c7769852a"
      },
      "cell_type": "code",
      "source": [
        "#es calibration comparison: with 100 paths\n",
        "clibor_es = array.array('f',[])\n",
        "\n",
        "for i in range(len(libor_20081029)):\n",
        "  cprice = zcb_pricing_es(cr0, libor_maturities[i], ckappa, cmu, csigma, 100)\n",
        "  cl = zcb_libor(cprice, libor_maturities[i])\n",
        "  clibor_es.append(cl)\n",
        "  \n",
        "plt.plot(libor_20081029, clibor_es, 'o')\n",
        "plt.xlabel('LIBOR rate')\n",
        "plt.ylabel('Calibrated rate')"
      ],
      "execution_count": 143,
      "outputs": [
        {
          "output_type": "execute_result",
          "data": {
            "text/plain": [
              "Text(0, 0.5, 'Calibrated rate')"
            ]
          },
          "metadata": {
            "tags": []
          },
          "execution_count": 143
        },
        {
          "output_type": "display_data",
          "data": {
            "image/png": "[encoded data removed]",
            "text/plain": [
              "<Figure size 576x396 with 1 Axes>"
            ]
          },
          "metadata": {
            "tags": []
          }
        }
      ]
    },
    {
      "metadata": {
        "id": "ClpTX81k5_ZY",
        "colab_type": "text"
      },
      "cell_type": "markdown",
      "source": [
        "the pricing engine involving exact sampling produces $\\theta$ closer to the initial guess (and more reasonable since the other involve negatives), but explicit formula produces calibrated rates closer to the market rate (and less computational time)\n",
        "\n",
        "..."
      ]
    },
    {
      "metadata": {
        "id": "UlJu7pYT9aMO",
        "colab_type": "text"
      },
      "cell_type": "markdown",
      "source": [
        "###Callibrate Vasicek model using swap market data, then compare"
      ]
    },
    {
      "metadata": {
        "id": "fZg7L1R68qzv",
        "colab_type": "code",
        "colab": {}
      },
      "cell_type": "code",
      "source": [
        "dfSwapRate = pd.DataFrame({'term (year)': [2, 3, 5, 7, 10, 15, 30],\n",
        "'20081029 rate(%)': [2.6967, 3.1557, 3.8111, 4.1497, 4.3638, 4.3753, 4.2772],\n",
        "'20110214 rate(%)': [1.0481, 1.5577, 2.5569, 3.1850, 3.7225, 4.1683, 4.4407]\n",
        "})"
      ],
      "execution_count": 0,
      "outputs": []
    },
    {
      "metadata": {
        "id": "Lbwbl_RS9lUg",
        "colab_type": "code",
        "colab": {
          "base_uri": "https://localhost:8080/",
          "height": 254
        },
        "outputId": "27cb4c90-a4e3-4dd4-a6aa-1df575f245d4"
      },
      "cell_type": "code",
      "source": [
        "dfSwapRate"
      ],
      "execution_count": 145,
      "outputs": [
        {
          "output_type": "execute_result",
          "data": {
            "text/html": [
              "<div>\n",
              "<style scoped>\n",
              "    .dataframe tbody tr th:only-of-type {\n",
              "        vertical-align: middle;\n",
              "    }\n",
              "\n",
              "    .dataframe tbody tr th {\n",
              "        vertical-align: top;\n",
              "    }\n",
              "\n",
              "    .dataframe thead th {\n",
              "        text-align: right;\n",
              "    }\n",
              "</style>\n",
              "<table border=\"1\" class=\"dataframe\">\n",
              "  <thead>\n",
              "    <tr style=\"text-align: right;\">\n",
              "      <th></th>\n",
              "      <th>20081029 rate(%)</th>\n",
              "      <th>20110214 rate(%)</th>\n",
              "      <th>term (year)</th>\n",
              "    </tr>\n",
              "  </thead>\n",
              "  <tbody>\n",
              "    <tr>\n",
              "      <th>0</th>\n",
              "      <td>2.6967</td>\n",
              "      <td>1.0481</td>\n",
              "      <td>2</td>\n",
              "    </tr>\n",
              "    <tr>\n",
              "      <th>1</th>\n",
              "      <td>3.1557</td>\n",
              "      <td>1.5577</td>\n",
              "      <td>3</td>\n",
              "    </tr>\n",
              "    <tr>\n",
              "      <th>2</th>\n",
              "      <td>3.8111</td>\n",
              "      <td>2.5569</td>\n",
              "      <td>5</td>\n",
              "    </tr>\n",
              "    <tr>\n",
              "      <th>3</th>\n",
              "      <td>4.1497</td>\n",
              "      <td>3.1850</td>\n",
              "      <td>7</td>\n",
              "    </tr>\n",
              "    <tr>\n",
              "      <th>4</th>\n",
              "      <td>4.3638</td>\n",
              "      <td>3.7225</td>\n",
              "      <td>10</td>\n",
              "    </tr>\n",
              "    <tr>\n",
              "      <th>5</th>\n",
              "      <td>4.3753</td>\n",
              "      <td>4.1683</td>\n",
              "      <td>15</td>\n",
              "    </tr>\n",
              "    <tr>\n",
              "      <th>6</th>\n",
              "      <td>4.2772</td>\n",
              "      <td>4.4407</td>\n",
              "      <td>30</td>\n",
              "    </tr>\n",
              "  </tbody>\n",
              "</table>\n",
              "</div>"
            ],
            "text/plain": [
              "   20081029 rate(%)  20110214 rate(%)  term (year)\n",
              "0            2.6967            1.0481            2\n",
              "1            3.1557            1.5577            3\n",
              "2            3.8111            2.5569            5\n",
              "3            4.1497            3.1850            7\n",
              "4            4.3638            3.7225           10\n",
              "5            4.3753            4.1683           15\n",
              "6            4.2772            4.4407           30"
            ]
          },
          "metadata": {
            "tags": []
          },
          "execution_count": 145
        }
      ]
    },
    {
      "metadata": {
        "id": "vBbUVzr79m1g",
        "colab_type": "code",
        "colab": {}
      },
      "cell_type": "code",
      "source": [
        "swap_20081029 = [2.6967, 3.1557, 3.8111, 4.1497, 4.3638, 4.3753, 4.2772]\n",
        "swap_maturity = [2, 3, 5, 7, 10, 15, 30]\n",
        "#assuming as before the term length is 1/2 year\n",
        "swap_term = [4, 6, 10, 14, 20, 30, 60]"
      ],
      "execution_count": 0,
      "outputs": []
    },
    {
      "metadata": {
        "id": "K47STJZk6ywh",
        "colab_type": "code",
        "colab": {}
      },
      "cell_type": "code",
      "source": [
        "#Using SSRE and explicit formula\n",
        "def error_fcn_swap(theta, market_rates, maturities, terms):\n",
        "  kappa, mu, sigma, r0 = theta\n",
        "  \n",
        "  arr_e = array.array('f',[])\n",
        "  for i in range(len(maturities)):\n",
        "    cal_rate = term_swap(r0, maturities[i], kappa, mu, sigma, terms[i])\n",
        "    err = ((market_rates[i]-cal_rate)/market_rates[i])**2\n",
        "    arr_e.append(err)\n",
        "  \n",
        "  return np.sqrt(np.mean(arr_e))\n",
        "\n",
        "#Using SSRE and es\n",
        "def error_fcn_swap_es(theta, market_rates, maturities, terms, num_path):\n",
        "  kappa, mu, sigma, r0 = theta\n",
        "  \n",
        "  arr_e = array.array('f',[])\n",
        "  for i in range(len(maturities)):\n",
        "    cal_rate = term_swap_es(r0, maturities[i], kappa, mu, sigma, terms[i], num_path)\n",
        "    err = ((market_rates[i]-cal_rate)/market_rates[i])**2\n",
        "    arr_e.append(err)\n",
        "  \n",
        "  return np.sqrt(np.mean(arr_e))"
      ],
      "execution_count": 0,
      "outputs": []
    },
    {
      "metadata": {
        "id": "WAfmrDG_8c_C",
        "colab_type": "code",
        "colab": {}
      },
      "cell_type": "code",
      "source": [
        "#Calibration using explicit formula\n",
        "def scalibration(swap_rates, maturities, terms):\n",
        "  init_theta = [.1, .05, .003, .03]\n",
        "  ikappa, imu, isigma, ir0 = init_theta\n",
        "  \n",
        "  return so.fmin(error_fcn_swap, init_theta,\n",
        "                 args = (swap_rates, maturities, terms), disp = 0)\n",
        "\n",
        "#Calibration using es\n",
        "def scalibration_es(libor_rates, maturities, terms, num_path):\n",
        "  init_theta = [.1, .05, .003, .03]\n",
        "  ikappa, imu, isigma, ir0 = init_theta\n",
        "  \n",
        "  return so.fmin(error_fcn_swap_es, init_theta, args = (libor_rates, maturities, terms, num_path), disp = 0)"
      ],
      "execution_count": 0,
      "outputs": []
    },
    {
      "metadata": {
        "id": "6G0zzMyp8VoV",
        "colab_type": "code",
        "colab": {
          "base_uri": "https://localhost:8080/",
          "height": 50
        },
        "outputId": "2d5aa7a3-bd8f-4a10-912d-2b2fa36a63ef"
      },
      "cell_type": "code",
      "source": [
        "#calibrated theta using explicit formula\n",
        "cal_theta_s = scalibration(swap_20081029,swap_maturity, swap_term)\n",
        "print(cal_theta_s)\n",
        "#calibrated theta using es\n",
        "cal_theta_s_es = scalibration_es(swap_20081029,swap_maturity, swap_term, 100)\n",
        "print(cal_theta_s_es)"
      ],
      "execution_count": 150,
      "outputs": [
        {
          "output_type": "stream",
          "text": [
            "[ 1.1858374   0.04717344 -0.02528063 -0.00590252]\n",
            "[0.09933594 0.05669922 0.00300117 0.02857031]\n"
          ],
          "name": "stdout"
        }
      ]
    },
    {
      "metadata": {
        "id": "wDujpXE-9Jkz",
        "colab_type": "code",
        "colab": {
          "base_uri": "https://localhost:8080/",
          "height": 378
        },
        "outputId": "8ea24d47-ad74-4d31-91bf-2b4f093b2fe8"
      },
      "cell_type": "code",
      "source": [
        "cskappa, csmu, cssigma, csr0 = cal_theta\n",
        "\n",
        "#explicit formula calibration comparison\n",
        "cswap = array.array('f',[])\n",
        "\n",
        "for i in range(len(swap_20081029)):\n",
        "  cs = term_swap(csr0, swap_maturity[i], cskappa, csmu, cssigma, swap_term[i])\n",
        "  cswap.append(cs)\n",
        "  \n",
        "plt.plot(swap_20081029, cswap, 'o')\n",
        "plt.xlabel('Swap rate')\n",
        "plt.ylabel('Calibrated rate')"
      ],
      "execution_count": 151,
      "outputs": [
        {
          "output_type": "execute_result",
          "data": {
            "text/plain": [
              "Text(0, 0.5, 'Calibrated rate')"
            ]
          },
          "metadata": {
            "tags": []
          },
          "execution_count": 151
        },
        {
          "output_type": "display_data",
          "data": {
            "image/png": "[encoded data removed]",
            "text/plain": [
              "<Figure size 576x396 with 1 Axes>"
            ]
          },
          "metadata": {
            "tags": []
          }
        }
      ]
    },
    {
      "metadata": {
        "id": "-39cXyyE-U-8",
        "colab_type": "code",
        "colab": {
          "base_uri": "https://localhost:8080/",
          "height": 378
        },
        "outputId": "606f7cc1-66d8-442a-fa33-43e2924a8eff"
      },
      "cell_type": "code",
      "source": [
        "#es calibration comparison: with 100 paths\n",
        "cswap_es = array.array('f',[])\n",
        "\n",
        "for i in range(len(swap_20081029)):\n",
        "#  cprice = zcb_pricing_es(cr0, libor_maturities[i], ckappa, cmu, csigma, 100)\n",
        "  cs = term_swap_es(csr0, swap_maturity[i], cskappa, csmu, cssigma, swap_term[i], 100)\n",
        "  cswap_es.append(cs)\n",
        "  \n",
        "plt.plot(swap_20081029, cswap_es, 'o')\n",
        "plt.xlabel('Swap rate')\n",
        "plt.ylabel('Calibrated rate')"
      ],
      "execution_count": 152,
      "outputs": [
        {
          "output_type": "execute_result",
          "data": {
            "text/plain": [
              "Text(0, 0.5, 'Calibrated rate')"
            ]
          },
          "metadata": {
            "tags": []
          },
          "execution_count": 152
        },
        {
          "output_type": "display_data",
          "data": {
            "image/png": "[encoded data removed]",
            "text/plain": [
              "<Figure size 576x396 with 1 Axes>"
            ]
          },
          "metadata": {
            "tags": []
          }
        }
      ]
    },
    {
      "metadata": {
        "id": "pmz4n6KrAt-u",
        "colab_type": "text"
      },
      "cell_type": "markdown",
      "source": [
        "the calibration is better for both methods compared to LIBOR calibration. The explicit formula approach produces rates much closer to those of exact sampling, but the negative $\\sigma$ and $r_0$ are still present"
      ]
    },
    {
      "metadata": {
        "id": "vjGkZa2cAffR",
        "colab_type": "code",
        "colab": {}
      },
      "cell_type": "code",
      "source": [
        ""
      ],
      "execution_count": 0,
      "outputs": []
    }
  ]
}