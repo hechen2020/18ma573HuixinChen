{
  "nbformat": 4,
  "nbformat_minor": 0,
  "metadata": {
    "colab": {
      "name": "hw12.ipynb",
      "version": "0.3.2",
      "provenance": [],
      "include_colab_link": true
    },
    "kernelspec": {
      "name": "python3",
      "display_name": "Python 3"
    }
  },
  "cells": [
    {
      "cell_type": "markdown",
      "metadata": {
        "id": "view-in-github",
        "colab_type": "text"
      },
      "source": [
        "<a href=\"https://colab.research.google.com/github/hechen2020/19ma573HuixinChen/blob/master/src/hw12_v2.ipynb\" target=\"_parent\"><img src=\"https://colab.research.google.com/assets/colab-badge.svg\" alt=\"Open In Colab\"/></a>"
      ]
    },
    {
      "metadata": {
        "id": "VyTgzd8Nnmw-",
        "colab_type": "code",
        "colab": {}
      },
      "cell_type": "code",
      "source": [
        "import numpy as np\n",
        "import scipy.stats as ss\n",
        "import matplotlib.pyplot as plt"
      ],
      "execution_count": 0,
      "outputs": []
    },
    {
      "metadata": {
        "id": "2w2FWQbmvrUR",
        "colab_type": "text"
      },
      "cell_type": "markdown",
      "source": [
        "**Part 1: find $\\mathbb{E}[\\hat v_{10}^2]$ for OMC**"
      ]
    },
    {
      "metadata": {
        "id": "x5r01iHin1IC",
        "colab_type": "code",
        "colab": {}
      },
      "cell_type": "code",
      "source": [
        "#define function h(x)\n",
        "def vhat_sq_fcn(m):\n",
        "  init_sum = 0 #initialize summation\n",
        "  for i in range(m):\n",
        "    z = np.random.normal(0,1)#generate random z\n",
        "    if z < -2.:\n",
        "      init_sum = init_sum + 1#sum add 1 when indicator function returns 1\n",
        "  vhat = init_sum / 10#find mean of the sum\n",
        "  vhatsq = vhat**2#square vhat\n",
        "  return vhatsq"
      ],
      "execution_count": 0,
      "outputs": []
    },
    {
      "metadata": {
        "id": "j2oEvo6zpMhE",
        "colab_type": "code",
        "colab": {}
      },
      "cell_type": "code",
      "source": [
        "def omc_fcn(m, n):\n",
        "  vec = np.zeros(n)#initialize sample\n",
        "  for i in range(len(vec)):\n",
        "    vec[i] = vhat_sq_fcn(m)#one vhat_sq value\n",
        "    \n",
        "  return vec"
      ],
      "execution_count": 0,
      "outputs": []
    },
    {
      "metadata": {
        "id": "PvK2MXFdqD9w",
        "colab_type": "code",
        "outputId": "63a870a5-7723-4228-ce7c-325f101d9397",
        "colab": {
          "base_uri": "https://localhost:8080/",
          "height": 84
        }
      },
      "cell_type": "code",
      "source": [
        "#OMC trials: m=10 for all\n",
        "trial1 = omc_fcn(10, 500)\n",
        "mean1 = trial1.mean()\n",
        "trial2 = omc_fcn(10, 1000)\n",
        "mean2 = trial2.mean()\n",
        "trial3 = omc_fcn(10, 2000)\n",
        "mean3 = trial3.mean()\n",
        "trial4 = omc_fcn(10, 100000)\n",
        "mean4 = trial4.mean()\n",
        "#print(trial1)\n",
        "#print(trial2)\n",
        "#print(trial3)\n",
        "print(mean1)\n",
        "print(mean2)\n",
        "print(mean3)\n",
        "print(mean4)"
      ],
      "execution_count": 5,
      "outputs": [
        {
          "output_type": "stream",
          "text": [
            "0.0026400000000000004\n",
            "0.00286\n",
            "0.0027400000000000002\n",
            "0.002765700000000001\n"
          ],
          "name": "stdout"
        }
      ]
    },
    {
      "metadata": {
        "id": "9rbL_x1VspM0",
        "colab_type": "text"
      },
      "cell_type": "markdown",
      "source": [
        "OMC result is about 0.0027 for $\\mathbb{E}[\\hat v_{10}^2]$"
      ]
    },
    {
      "metadata": {
        "id": "dZGBbBi6v0eK",
        "colab_type": "text"
      },
      "cell_type": "markdown",
      "source": [
        "**Part 2: find $\\mathbb{E}[\\hat v_{10}^2]$ for IS with $b=2$**"
      ]
    },
    {
      "metadata": {
        "id": "RHjIy4m9qo2K",
        "colab_type": "code",
        "colab": {}
      },
      "cell_type": "code",
      "source": [
        "def vhat_sq_is(b, m):\n",
        "  init_sum = 0 #initialize summation\n",
        "  for i in range(m):\n",
        "    x = np.random.normal(-b,1)#generate random x where x ~ N(-b,1)\n",
        "    if x < -2.:\n",
        "      init_sum = init_sum + np.exp(x * b)#sum add value when indicator function returns 1\n",
        "  vhat = np.exp(b**2 / 2) * (init_sum / 10)#find mean of the sum and multiply\n",
        "  vhatsq = vhat**2#square vhat\n",
        "  return vhatsq"
      ],
      "execution_count": 0,
      "outputs": []
    },
    {
      "metadata": {
        "id": "9MoDHuC-tgGd",
        "colab_type": "code",
        "colab": {}
      },
      "cell_type": "code",
      "source": [
        "def is_fcn(b, m, n):\n",
        "  vec = np.zeros(n)#initialize sample\n",
        "  for i in range(len(vec)):\n",
        "    vec[i] = vhat_sq_is(b, m)#one vhat_sq value\n",
        "    \n",
        "  return vec"
      ],
      "execution_count": 0,
      "outputs": []
    },
    {
      "metadata": {
        "id": "ehrPCaegtnyj",
        "colab_type": "code",
        "outputId": "adb181a8-6637-4abb-a45f-b6f14d0bab73",
        "colab": {
          "base_uri": "https://localhost:8080/",
          "height": 84
        }
      },
      "cell_type": "code",
      "source": [
        "#OMC trials: b=2, m=10 for all\n",
        "trial1 = is_fcn(2, 10, 500)\n",
        "mean1 = trial1.mean()\n",
        "trial2 = is_fcn(2, 10, 1000)\n",
        "mean2 = trial2.mean()\n",
        "trial3 = is_fcn(2, 10, 2000)\n",
        "mean3 = trial3.mean()\n",
        "trial4 = is_fcn(2, 10, 100000)\n",
        "mean4 = trial4.mean()\n",
        "#print(trial1)\n",
        "#print(trial2)\n",
        "#print(trial3)\n",
        "print(mean1)\n",
        "print(mean2)\n",
        "print(mean3)\n",
        "print(mean4)"
      ],
      "execution_count": 8,
      "outputs": [
        {
          "output_type": "stream",
          "text": [
            "0.0005953205168427356\n",
            "0.0006342784565447105\n",
            "0.0006237450287893533\n",
            "0.0006370802612828864\n"
          ],
          "name": "stdout"
        }
      ]
    },
    {
      "metadata": {
        "id": "LObTI9VZvJpN",
        "colab_type": "text"
      },
      "cell_type": "markdown",
      "source": [
        "IS result is about 0.0006 for $\\mathbb{E}[\\hat v_{10}^2]$ for $b=2$"
      ]
    },
    {
      "metadata": {
        "id": "NVElB8zuv_Ku",
        "colab_type": "text"
      },
      "cell_type": "markdown",
      "source": [
        "**Part 3: What b makes IS most efficient?**"
      ]
    },
    {
      "metadata": {
        "id": "7e81Hy71AwXS",
        "colab_type": "text"
      },
      "cell_type": "markdown",
      "source": [
        "From class notes we have the true expectation is \n",
        "\n",
        "$$v = N(-2) \\approx 0.02275$$\n",
        "\n",
        "We know that the MSE can be written as\n",
        "\n",
        "$$MSE = Var + Bias^2$$\n",
        "\n",
        "We also know that the estimator $\\hat v_{10}$ is an unbiased estimator of $v$ (class notes). Thus\n",
        "\n",
        "$$Bias(\\hat v_{10} - v) = 0$$\n",
        "\n",
        "and\n",
        "\n",
        "$$MSE = Var(\\hat v_{10}) = E[\\hat v_{10}^2] - (E[\\hat v_{10}])^2$$\n",
        "\n",
        "since $\\hat v_{10}$ is unbiased the expected value should be the true value, i.e.,\n",
        "\n",
        "$$E[\\hat v_{10}] = N(-2) \\approx 0.02275$$\n",
        "\n",
        "so we can rewrite MSE as\n",
        "\n",
        "$$MSE = Var(\\hat v_{10}) = E[\\hat v_{10}^2] - (0.02275)^2=E[\\hat v_{10}^2] - 0.000517565$$\n",
        "\n",
        "thus to minimize MSE, we want value of $E[\\hat v_{10}^2]$ to be at or close to $0.000517565$.\n",
        "\n",
        "This can be done numerically."
      ]
    },
    {
      "metadata": {
        "id": "03P8oJj_t1W-",
        "colab_type": "code",
        "colab": {
          "base_uri": "https://localhost:8080/",
          "height": 286
        },
        "outputId": "b1c67d79-99cb-4a1b-d71d-9bff051b256f"
      },
      "cell_type": "code",
      "source": [
        "bvec = np.arange(0,3,0.005)\n",
        "#print(b[2])\n",
        "#print(len(b))\n",
        "vhat = np.zeros(len(b))\n",
        "#print(vhat)\n",
        "#print(vhat[4])\n",
        "for i in range (len(vhat)):\n",
        "  vhat[i] = is_fcn(bvec[i], 10, 10000).mean()\n",
        "vtrue = np.zeros(len(b))\n",
        "for i in range(len(vtrue)):\n",
        "  vtrue[i] = (ss.norm.cdf(-2))**2\n",
        "plt.plot(bvec, vhat)\n",
        "plt.plot(bvec, vtrue)"
      ],
      "execution_count": 21,
      "outputs": [
        {
          "output_type": "execute_result",
          "data": {
            "text/plain": [
              "[<matplotlib.lines.Line2D at 0x7fb4397fe160>]"
            ]
          },
          "metadata": {
            "tags": []
          },
          "execution_count": 21
        },
        {
          "output_type": "display_data",
          "data": {
            "image/png": "[encoded data removed]",
            "text/plain": [
              "<Figure size 432x288 with 1 Axes>"
            ]
          },
          "metadata": {
            "tags": []
          }
        }
      ]
    },
    {
      "metadata": {
        "id": "7ork2JFEYa7d",
        "colab_type": "code",
        "colab": {
          "base_uri": "https://localhost:8080/",
          "height": 34
        },
        "outputId": "b0017bbd-d4ee-44fe-c2f2-a0ef082c093e"
      },
      "cell_type": "code",
      "source": [
        "a = np.argwhere( bvec == 0.01)\n",
        "print(a)"
      ],
      "execution_count": 30,
      "outputs": [
        {
          "output_type": "stream",
          "text": [
            "[[2]]\n"
          ],
          "name": "stdout"
        }
      ]
    },
    {
      "metadata": {
        "id": "OYwixIYdUVnD",
        "colab_type": "code",
        "colab": {
          "base_uri": "https://localhost:8080/",
          "height": 286
        },
        "outputId": "a24b2aad-4c42-41ec-8785-fe9d289a5b8b"
      },
      "cell_type": "code",
      "source": [
        "err = vtrue - vhat\n",
        "plt.plot(bvec, vtrue-vhat)\n",
        "minerr = max(err)\n",
        "minerrb = b[np.argwhere(err == minerr)]\n",
        "print('minimum at b=' + str(minerrb) + ' with error of ' + str(-minerr))"
      ],
      "execution_count": 33,
      "outputs": [
        {
          "output_type": "stream",
          "text": [
            "minimum at b=[[2.425]] with error of 0.00010280980437470946\n"
          ],
          "name": "stdout"
        },
        {
          "output_type": "display_data",
          "data": {
            "image/png": "[encoded data removed]",
            "text/plain": [
              "<Figure size 432x288 with 1 Axes>"
            ]
          },
          "metadata": {
            "tags": []
          }
        }
      ]
    },
    {
      "metadata": {
        "id": "knoqxSDNXV9j",
        "colab_type": "code",
        "colab": {}
      },
      "cell_type": "code",
      "source": [
        ""
      ],
      "execution_count": 0,
      "outputs": []
    }
  ]
}